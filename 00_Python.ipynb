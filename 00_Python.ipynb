{
 "cells": [
  {
   "cell_type": "markdown",
   "metadata": {
    "slideshow": {
     "slide_type": "slide"
    }
   },
   "source": [
    "# Introduction à Python"
   ]
  },
  {
   "cell_type": "markdown",
   "metadata": {},
   "source": [
    "> Présentée par Loïc Messal"
   ]
  },
  {
   "cell_type": "markdown",
   "metadata": {
    "slideshow": {
     "slide_type": "slide"
    }
   },
   "source": [
    "## La petite histoire : "
   ]
  },
  {
   "cell_type": "markdown",
   "metadata": {
    "slideshow": {
     "slide_type": "subslide"
    }
   },
   "source": [
    "À la fin des années 1980, Guido van Rossum, un programmeur néerlandais, participe au développement du langage de programmation ABC."
   ]
  },
  {
   "cell_type": "markdown",
   "metadata": {
    "slideshow": {
     "slide_type": "fragment"
    }
   },
   "source": [
    "Il estime qu’un langage de script inspiré d’ABC pourrait être intéressant comme interpréteur de commandes pour le système d'exploitation qui est utilisé dans son équipe (Amoeba)."
   ]
  },
  {
   "cell_type": "markdown",
   "metadata": {
    "slideshow": {
     "slide_type": "fragment"
    }
   },
   "source": [
    "Durant ses vacances de Noël 1989, il écrit la toute première version du langage, et le nomme python en référence aux Monty Python."
   ]
  },
  {
   "cell_type": "markdown",
   "metadata": {
    "slideshow": {
     "slide_type": "fragment"
    }
   },
   "source": [
    "Ce langage est adopté par son équipe en 1990."
   ]
  },
  {
   "cell_type": "markdown",
   "metadata": {
    "slideshow": {
     "slide_type": "subslide"
    }
   },
   "source": [
    "En 1991, la première version publique de python (0.9.0) est diffusée."
   ]
  },
  {
   "cell_type": "markdown",
   "metadata": {
    "slideshow": {
     "slide_type": "fragment"
    }
   },
   "source": [
    "En 1994 sort la version 1.0 de Python."
   ]
  },
  {
   "cell_type": "markdown",
   "metadata": {
    "slideshow": {
     "slide_type": "fragment"
    }
   },
   "source": [
    "En 2000 sort la version 2.0 de Python."
   ]
  },
  {
   "cell_type": "markdown",
   "metadata": {
    "slideshow": {
     "slide_type": "fragment"
    }
   },
   "source": [
    "En 2008 sort la version 3.0 de Python."
   ]
  },
  {
   "cell_type": "markdown",
   "metadata": {
    "slideshow": {
     "slide_type": "subslide"
    }
   },
   "source": [
    "Python est un langage de plus en plus populaire."
   ]
  },
  {
   "cell_type": "markdown",
   "metadata": {
    "slideshow": {
     "slide_type": "fragment"
    }
   },
   "source": [
    "<img src=\"assets/popularite_python.png\">"
   ]
  },
  {
   "cell_type": "markdown",
   "metadata": {
    "slideshow": {
     "slide_type": "-"
    }
   },
   "source": [
    "[Source : stackoverflow](https://insights.stackoverflow.com/trends?tags=python%2Cjavascript%2Cjava%2Cc%23%2Cphp%2Cc%2B%2B&utm_source=so-owned&utm_medium=blog&utm_campaign=gen-blog&utm_content=blog-link&utm_term=incredible-growth-python)"
   ]
  },
  {
   "cell_type": "markdown",
   "metadata": {
    "slideshow": {
     "slide_type": "slide"
    }
   },
   "source": [
    "## Le plan de l'introduction"
   ]
  },
  {
   "cell_type": "markdown",
   "metadata": {
    "slideshow": {
     "slide_type": "fragment"
    }
   },
   "source": [
    "- [Chapitre 1 : Les variables de bases](/notebooks/01_Variables.ipynb)\n",
    "- [Chapitre 2 : Les variables plus complexes](/notebooks/02_Variables_plus_complexes.ipynb)\n",
    "- [Chapitre 3 : Les tests et boucles](/notebooks/03_Tests_et_boucles.ipynb)\n",
    "- [Chapitre 4 : Les fonctions](/notebooks/04_Fonctions.ipynb)\n",
    "- [Chapitre 5 : Des fonctions pour les variables complexes](/notebooks/05_Fonctions_pratiques_pour_des_variables_complexes.ipynb)\n",
    "- [Chapitre 6 : La Programmation Orientée Objet](/notebooks/06_La_Programmation_Orientée_Objet.ipynb)\n",
    "- [Chapitre 7 : Des snippets (manipuler des fichiers)](/notebooks/07_Snippets.ipynb)\n",
    "- [Chapitre 8 : Les snippets en pratique](/notebooks/08_Snippets_en_pratique.ipynb)\n",
    "- [Chapitre 9 : Des modules standards](/notebooks/09_Les_modules_standards.ipynb)\n",
    "- [Chapitre 10 : Des modules communautaires](/notebooks/10_Modules_communautaires.ipynb)\n",
    "- [Chapitre 11 : Des outils pour devenir actif](/notebooks/11_Des_outils.ipynb)"
   ]
  }
 ],
 "metadata": {
  "celltoolbar": "Slideshow",
  "kernelspec": {
   "display_name": "Python 3",
   "language": "python",
   "name": "python3"
  },
  "language_info": {
   "codemirror_mode": {
    "name": "ipython",
    "version": 3
   },
   "file_extension": ".py",
   "mimetype": "text/x-python",
   "name": "python",
   "nbconvert_exporter": "python",
   "pygments_lexer": "ipython3",
   "version": "3.6.4"
  }
 },
 "nbformat": 4,
 "nbformat_minor": 2
}
