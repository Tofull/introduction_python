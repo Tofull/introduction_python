{
 "cells": [
  {
   "cell_type": "markdown",
   "metadata": {
    "slideshow": {
     "slide_type": "slide"
    }
   },
   "source": [
    "# Introduction à Python"
   ]
  },
  {
   "cell_type": "markdown",
   "metadata": {
    "slideshow": {
     "slide_type": "-"
    }
   },
   "source": [
    "> présentée par Loïc Messal"
   ]
  },
  {
   "cell_type": "markdown",
   "metadata": {
    "slideshow": {
     "slide_type": "-"
    }
   },
   "source": [
    "## Les modules standards"
   ]
  },
  {
   "cell_type": "markdown",
   "metadata": {
    "slideshow": {
     "slide_type": "slide"
    }
   },
   "source": [
    "Nous allons voir quelques modules standards pour vous familiariser. Le but n'est pas de les connaître par coeur. L'idée est plutôt de savoir qu'ils existent, d'être capable de trouver celui dont on a besoin et de trouver les bonnes ressources pour les utiliser (en général, la documentation officielle et une question sur un moteur de recherche (google, stackoverflow) suffisent).\n",
    "\n",
    "Nous allons donc nous attarder sur quelques uns:\n",
    "- parmis les plus fréquents:\n",
    "    - time - Convertir le temps\n",
    "    - datetime - Manipuler le temps\n",
    "    - random - Utiliser l'aléatoire\n",
    "    - math - Utiliser les maths\n",
    "    - copy - Copier des variables\n",
    "    - sys - Manipuler les variables utilisées par l'interpréteur python\n",
    "    - os - Manipuler le système d'exploitation\n"
   ]
  },
  {
   "cell_type": "markdown",
   "metadata": {
    "slideshow": {
     "slide_type": "subslide"
    }
   },
   "source": [
    "- pour la création de programmes\n",
    "    - logging - Manipuler les logs d'un programme\n",
    "    - argparse\n",
    "\n",
    "    - unittest — Unit testing framework\n",
    "    - unittest.mock — mock object library\n",
    "    - unittest.mock — getting started\n",
    "\n",
    "- un très utile à tout programmeur python\n",
    "    - pdb — The Python Debugger\n"
   ]
  },
  {
   "cell_type": "markdown",
   "metadata": {
    "slideshow": {
     "slide_type": "subslide"
    }
   },
   "source": [
    "- vers l'optimisation\n",
    "    - threading — parallélisation basée sur les threads\n",
    "    - multiprocessing — parallélisation basée sur les processus\n",
    "\n",
    "- pour transformer un programme en logiciel\n",
    "    - tkinter - Pour les interfaces graphiques\n",
    "\n",
    "\n",
    "\n",
    "[Mais il en existe bien d'autres !](https://docs.python.org/3/library/index.html)"
   ]
  },
  {
   "cell_type": "markdown",
   "metadata": {
    "slideshow": {
     "slide_type": "slide"
    }
   },
   "source": [
    "\n",
    "## Quelques modules très fréquents"
   ]
  },
  {
   "cell_type": "markdown",
   "metadata": {
    "slideshow": {
     "slide_type": "subslide"
    }
   },
   "source": [
    "### time - Convertir le temps"
   ]
  },
  {
   "cell_type": "code",
   "execution_count": 1,
   "metadata": {
    "slideshow": {
     "slide_type": "fragment"
    }
   },
   "outputs": [
    {
     "data": {
      "text/plain": [
       "'Thu, 15 Mar 2018 14:29:13 +0000'"
      ]
     },
     "execution_count": 1,
     "metadata": {},
     "output_type": "execute_result"
    }
   ],
   "source": [
    "import time\n",
    "time.strftime(\"%a, %d %b %Y %H:%M:%S +0000\", time.gmtime())"
   ]
  },
  {
   "cell_type": "code",
   "execution_count": 2,
   "metadata": {
    "slideshow": {
     "slide_type": "fragment"
    }
   },
   "outputs": [
    {
     "data": {
      "text/plain": [
       "2018"
      ]
     },
     "execution_count": 2,
     "metadata": {},
     "output_type": "execute_result"
    }
   ],
   "source": [
    "import time\n",
    "annee_actuelle = int(time.strftime(\"%Y\", time.gmtime()))\n",
    "annee_actuelle"
   ]
  },
  {
   "cell_type": "markdown",
   "metadata": {
    "slideshow": {
     "slide_type": "subslide"
    }
   },
   "source": [
    "### datetime - Manipuler le temps"
   ]
  },
  {
   "cell_type": "code",
   "execution_count": 3,
   "metadata": {
    "slideshow": {
     "slide_type": "fragment"
    }
   },
   "outputs": [
    {
     "data": {
      "text/plain": [
       "23"
      ]
     },
     "execution_count": 3,
     "metadata": {},
     "output_type": "execute_result"
    }
   ],
   "source": [
    "from datetime import date\n",
    "\n",
    "# Supposons que nous avons enregistré la date de naissance comme\n",
    "ma_date_de_naissance = date(1994, 11, 8)  # 8 novembre 1994\n",
    "\n",
    "def age(une_date_de_naissance):\n",
    "    \"\"\"\n",
    "    Calcule l'age en année à partir d'une date de naissance par rapport à la date actuelle.\n",
    "    \"\"\"\n",
    "    date_actuelle = date.today()\n",
    "\n",
    "    age = abs(date_actuelle.year - une_date_de_naissance.year)\n",
    "    # Cet age ne tient pas compte si l'anniversaire est passé ou non. Une correction doit être appliquée.\n",
    "    \n",
    "    correction = 0\n",
    "    # enleve un an si l'anniversaire n'est pas encore passé\n",
    "    # le mois de naissance n'est pas encore passé\n",
    "    # ou si le mois de naissance est égal au mois en cours, mais que le jour de naissance n'est pas encore passé\n",
    "    if (date_actuelle.month < une_date_de_naissance.month) or (date_actuelle.month == une_date_de_naissance.month and date_actuelle.day < une_date_de_naissance.day):\n",
    "        correction = 1  \n",
    "\n",
    "    return age - correction\n",
    "\n",
    "age(ma_date_de_naissance)"
   ]
  },
  {
   "cell_type": "markdown",
   "metadata": {
    "slideshow": {
     "slide_type": "subslide"
    }
   },
   "source": [
    "### math - Utiliser les maths"
   ]
  },
  {
   "cell_type": "code",
   "execution_count": 4,
   "metadata": {
    "slideshow": {
     "slide_type": "fragment"
    }
   },
   "outputs": [
    {
     "data": {
      "text/plain": [
       "3.141592653589793"
      ]
     },
     "execution_count": 4,
     "metadata": {},
     "output_type": "execute_result"
    }
   ],
   "source": [
    "# estimer pi\n",
    "import math\n",
    "math.pi\n"
   ]
  },
  {
   "cell_type": "markdown",
   "metadata": {
    "slideshow": {
     "slide_type": "subslide"
    }
   },
   "source": [
    "### random - Utiliser l'aléatoire"
   ]
  },
  {
   "cell_type": "code",
   "execution_count": 5,
   "metadata": {
    "slideshow": {
     "slide_type": "fragment"
    }
   },
   "outputs": [
    {
     "data": {
      "text/plain": [
       "0.6252916266315426"
      ]
     },
     "execution_count": 5,
     "metadata": {},
     "output_type": "execute_result"
    }
   ],
   "source": [
    "import random\n",
    "random.random()  # floattant aléatoire entre 0 et 1"
   ]
  },
  {
   "cell_type": "code",
   "execution_count": 6,
   "metadata": {
    "slideshow": {
     "slide_type": "fragment"
    }
   },
   "outputs": [
    {
     "data": {
      "text/plain": [
       "'JLR'"
      ]
     },
     "execution_count": 6,
     "metadata": {},
     "output_type": "execute_result"
    }
   ],
   "source": [
    "import random\n",
    "des_entreprises = [\"Jakarto\", \"JLR\", \"EvalWeb\"]\n",
    "les_meilleurs = random.choice(des_entreprises)\n",
    "les_meilleurs"
   ]
  },
  {
   "cell_type": "code",
   "execution_count": 7,
   "metadata": {
    "slideshow": {
     "slide_type": "subslide"
    }
   },
   "outputs": [
    {
     "name": "stdout",
     "output_type": "stream",
     "text": [
      "Nous avons estimé Pi avec 100000 tirages aléatoires.\n",
      "Pi est estimé à : 3.14356\n"
     ]
    }
   ],
   "source": [
    "# Estimation de Pi\n",
    "\n",
    "# imaginons un disque de centre (0, 0) et de rayon 1\n",
    "# l'aire du disque (pi * r²) est égale à pi\n",
    "# considérons uniquement le cadran supérieur droit du disque (coordonnées en x >= 0 et en y >= 0)\n",
    "\n",
    "# si on tire aléatoirement aléatoirement un point dans ce cadran\n",
    "# la probabilité que ce point soit inclus dans le cercle (<==> sa distance au centre est inférieure à 1) \n",
    "# est exactement 1 / 4 de l'aire totale du disque (vu que l'on considere uniquement ce cadran)\n",
    "\n",
    "import math\n",
    "import random\n",
    "\n",
    "un_certain_nombre_de_points_a_tirer = 100000\n",
    "nombre_de_points_a_l_interieur_du_disque = 0\n",
    "\n",
    "# tirage d'un certain nombre de points\n",
    "for i in range(un_certain_nombre_de_points_a_tirer):\n",
    "    x = random.random()\n",
    "    y = random.random()\n",
    "    distance = math.sqrt(x * x + y * y)  # une utilisation du module math : la racine carré\n",
    "    if distance <= 1:\n",
    "        nombre_de_points_a_l_interieur_du_disque += 1  # incrémentation du nombre de point à l'intérieur du disque de 1\n",
    "        \n",
    "probabilite_d_etre_a_l_interieur = nombre_de_points_a_l_interieur_du_disque / un_certain_nombre_de_points_a_tirer\n",
    "estimation_de_pi = 4 * probabilite_d_etre_a_l_interieur\n",
    "print(\"Nous avons estimé Pi avec {} tirages aléatoires.\".format(un_certain_nombre_de_points_a_tirer))\n",
    "print(\"Pi est estimé à : {}\".format(estimation_de_pi))"
   ]
  },
  {
   "cell_type": "markdown",
   "metadata": {
    "slideshow": {
     "slide_type": "subslide"
    }
   },
   "source": [
    "### copy - Copier des variables"
   ]
  },
  {
   "cell_type": "markdown",
   "metadata": {
    "slideshow": {
     "slide_type": "fragment"
    }
   },
   "source": [
    "Supposons que nous voulons copier la valeur d'une variable dans une autre."
   ]
  },
  {
   "cell_type": "code",
   "execution_count": 8,
   "metadata": {
    "slideshow": {
     "slide_type": "fragment"
    }
   },
   "outputs": [],
   "source": [
    "# Par exemple, on sait que JLR a toujours un ordinateur de plus que son nombre d'employés.\n",
    "nombre_employes = 10\n",
    "\n",
    "nombre_d_ordinateurs = nombre_employes  \n",
    "nombre_d_ordinateurs = nombre_d_ordinateurs + 1"
   ]
  },
  {
   "cell_type": "code",
   "execution_count": 9,
   "metadata": {
    "slideshow": {
     "slide_type": "fragment"
    }
   },
   "outputs": [
    {
     "data": {
      "text/plain": [
       "11"
      ]
     },
     "execution_count": 9,
     "metadata": {},
     "output_type": "execute_result"
    }
   ],
   "source": [
    "nombre_d_ordinateurs"
   ]
  },
  {
   "cell_type": "code",
   "execution_count": 10,
   "metadata": {
    "slideshow": {
     "slide_type": "fragment"
    }
   },
   "outputs": [
    {
     "data": {
      "text/plain": [
       "10"
      ]
     },
     "execution_count": 10,
     "metadata": {},
     "output_type": "execute_result"
    }
   ],
   "source": [
    "nombre_employes"
   ]
  },
  {
   "cell_type": "markdown",
   "metadata": {
    "slideshow": {
     "slide_type": "subslide"
    }
   },
   "source": [
    "Maintenant, faisons la même chose pour une liste d'entreprises."
   ]
  },
  {
   "cell_type": "code",
   "execution_count": 11,
   "metadata": {
    "slideshow": {
     "slide_type": "fragment"
    }
   },
   "outputs": [
    {
     "data": {
      "text/plain": [
       "[11, 2, 3]"
      ]
     },
     "execution_count": 11,
     "metadata": {},
     "output_type": "execute_result"
    }
   ],
   "source": [
    "nombre_employes = 10\n",
    "\n",
    "liste_nombre_employes = [nombre_employes, 2, 3]  \n",
    "# liste_nombre_employes représente le nombre d'employés respectifs de [JLR, Jakarto, EvalWeb]\n",
    "# liste_nombre_ordinateur représente le nombre d'ordinateurs respectifs.\n",
    "\n",
    "liste_nombre_ordinateur = liste_nombre_employes\n",
    "liste_nombre_ordinateur[0] = liste_nombre_ordinateur[0] + 1  # seul JLR a toujours un ordinateur de plus !\n",
    "liste_nombre_ordinateur"
   ]
  },
  {
   "cell_type": "markdown",
   "metadata": {
    "slideshow": {
     "slide_type": "subslide"
    }
   },
   "source": [
    "> Que vaut liste_nombre_employes ?"
   ]
  },
  {
   "cell_type": "code",
   "execution_count": 12,
   "metadata": {
    "slideshow": {
     "slide_type": "fragment"
    }
   },
   "outputs": [
    {
     "data": {
      "text/plain": [
       "[11, 2, 3]"
      ]
     },
     "execution_count": 12,
     "metadata": {},
     "output_type": "execute_result"
    }
   ],
   "source": [
    "liste_nombre_employes"
   ]
  },
  {
   "cell_type": "markdown",
   "metadata": {
    "slideshow": {
     "slide_type": "fragment"
    }
   },
   "source": [
    "Et pourtant :"
   ]
  },
  {
   "cell_type": "code",
   "execution_count": 13,
   "metadata": {
    "scrolled": true,
    "slideshow": {
     "slide_type": "fragment"
    }
   },
   "outputs": [
    {
     "data": {
      "text/plain": [
       "10"
      ]
     },
     "execution_count": 13,
     "metadata": {},
     "output_type": "execute_result"
    }
   ],
   "source": [
    "nombre_employes"
   ]
  },
  {
   "cell_type": "markdown",
   "metadata": {
    "slideshow": {
     "slide_type": "fragment"
    }
   },
   "source": [
    "Qui est ce nouvel employé ?!"
   ]
  },
  {
   "cell_type": "markdown",
   "metadata": {
    "slideshow": {
     "slide_type": "subslide"
    }
   },
   "source": [
    "Ceci est un comportement normal de python. \n",
    "Dans l'exemple avec une seule entreprise, on avait : \n",
    "- une `variable nombre_employes` qui pointe vers `10`\n",
    "- et `nombre_d_ordinateurs` pointe vers `11`\n",
    "\n",
    "En revanche, avec l'exemple utilisant les listes, on a :\n",
    "- une variable `nombre_employes` qui pointe vers `10`. \n",
    "- une liste `liste_nombre_employes` qui pointe vers une liste de 3 variables en mémoire : `10`, `2` et `3`.\n",
    "- une liste `liste_nombre_ordinateur` qui pointe vers la même liste de 3 variables en mémoire : `10`, `2` et `3`."
   ]
  },
  {
   "cell_type": "markdown",
   "metadata": {
    "slideshow": {
     "slide_type": "subslide"
    }
   },
   "source": [
    "Lorsqu'on modifie le premier élément de `liste_nombre_ordinateur`, nous modifions en réalité le premier élément de la liste partagée en mémoire, qui pointe désormais vers `11`.\n",
    "C'est pourquoi nous avons *in fine*:\n",
    "- une variable `nombre_employes` qui pointe toujours vers `10`. \n",
    "- une liste `liste_nombre_ordinateur` qui pointe désormais vers la liste de 3 variables en mémoire : `11`, `2` et `3`.\n",
    "- une liste `liste_nombre_employes` qui pointe vers cette même liste de 3 variables en mémoire : `11`, `2` et `3`.\n",
    "    \n",
    "Il faut voir `liste_nombre_ordinateur` comme un alias de `liste_nombre_employes`."
   ]
  },
  {
   "cell_type": "markdown",
   "metadata": {
    "slideshow": {
     "slide_type": "skip"
    }
   },
   "source": [
    "Note : [une explication plus visuelle peut aider à la compréhension de ce qui se passe en mémoire.](https://miamondo.org/2017/02/16/python-copier-une-liste-avec-le-module-copy/)"
   ]
  },
  {
   "cell_type": "markdown",
   "metadata": {
    "slideshow": {
     "slide_type": "subslide"
    }
   },
   "source": [
    "> Que faire pour y remédier ?\n",
    "\n",
    "Utilisons le module de copy afin de copier la liste en mémoire vers une autre liste"
   ]
  },
  {
   "cell_type": "code",
   "execution_count": 14,
   "metadata": {
    "slideshow": {
     "slide_type": "fragment"
    }
   },
   "outputs": [
    {
     "data": {
      "text/plain": [
       "[11, 2, 3]"
      ]
     },
     "execution_count": 14,
     "metadata": {},
     "output_type": "execute_result"
    }
   ],
   "source": [
    "import copy\n",
    "\n",
    "nombre_employes = 10\n",
    "\n",
    "liste_nombre_employes = [nombre_employes, 2, 3]  \n",
    "# liste_nombre_employes représente le nombre d'employés respectifs de [JLR, Jakarto, EvalWeb]\n",
    "# liste_nombre_ordinateur représente le nombre d'ordinateurs respectifs.\n",
    "\n",
    "liste_nombre_ordinateur = copy.copy(liste_nombre_employes)\n",
    "liste_nombre_ordinateur[0] = liste_nombre_ordinateur[0] + 1  # seul JLR a toujours un ordinateur de plus !\n",
    "liste_nombre_ordinateur"
   ]
  },
  {
   "cell_type": "code",
   "execution_count": 15,
   "metadata": {
    "slideshow": {
     "slide_type": "fragment"
    }
   },
   "outputs": [
    {
     "data": {
      "text/plain": [
       "[10, 2, 3]"
      ]
     },
     "execution_count": 15,
     "metadata": {},
     "output_type": "execute_result"
    }
   ],
   "source": [
    "liste_nombre_employes"
   ]
  },
  {
   "cell_type": "markdown",
   "metadata": {
    "slideshow": {
     "slide_type": "subslide"
    }
   },
   "source": [
    "On retrouvera cette gestion de la mémoire avec les objets, les listes, les dictionnaires et finalement toutes les variables qui permettent de composer avec d'autres.\n",
    "\n",
    "Pour des cas plus complexes (comme une liste de listes), on sera à nouveau confrontés à cette problématique, et `copy.copy()` ne fonctionnera que pour la première liste en mémoire. Pour résoudre cette problématique, le module `copy` fournit la fonction `copy.deepcopy()` qui va alors copier toute la hiérarchie. Et nous aurons alors deux listes différentes en mémoire, dont les enfants seront également différents."
   ]
  },
  {
   "cell_type": "markdown",
   "metadata": {
    "slideshow": {
     "slide_type": "subslide"
    }
   },
   "source": [
    "### sys - Manipuler les variables utilisées par l'interpréteur python"
   ]
  },
  {
   "cell_type": "markdown",
   "metadata": {
    "slideshow": {
     "slide_type": "fragment"
    }
   },
   "source": [
    "Il y a plein de trucs cools à faire avec le module sys"
   ]
  },
  {
   "cell_type": "code",
   "execution_count": 16,
   "metadata": {
    "slideshow": {
     "slide_type": "subslide"
    }
   },
   "outputs": [
    {
     "name": "stdout",
     "output_type": "stream",
     "text": [
      "Plateforme : win32\n",
      "Version de windows utilisée : sys.getwindowsversion(major=10, minor=0, build=16299, platform=2, service_pack='')\n"
     ]
    }
   ],
   "source": [
    "# Je peux connaître la plateforme sur laquelle tourne actuellement mon interpreteur python\n",
    "\n",
    "# Linux --> 'linux'\n",
    "# Windows --> 'win32'\n",
    "# Windows/Cygwin --> 'cygwin'\n",
    "# Mac OS X --> 'darwin'\n",
    "\n",
    "import sys\n",
    "print(\"Plateforme : {}\".format(sys.platform))\n",
    "\n",
    "# et je peux également connaître la version de windows\n",
    "if sys.platform.startswith(\"win\"):\n",
    "    print(\"Version de windows utilisée : {}\".format(sys.getwindowsversion()))"
   ]
  },
  {
   "cell_type": "code",
   "execution_count": 17,
   "metadata": {
    "slideshow": {
     "slide_type": "subslide"
    }
   },
   "outputs": [
    {
     "data": {
      "text/plain": [
       "'c:\\\\users\\\\loic\\\\appdata\\\\local\\\\programs\\\\python\\\\python36\\\\python.exe'"
      ]
     },
     "execution_count": 17,
     "metadata": {},
     "output_type": "execute_result"
    }
   ],
   "source": [
    "# Je peux savoir quel est le chemin de mon interpreteur python\n",
    "import sys\n",
    "sys.executable"
   ]
  },
  {
   "cell_type": "code",
   "execution_count": 18,
   "metadata": {
    "slideshow": {
     "slide_type": "subslide"
    }
   },
   "outputs": [
    {
     "data": {
      "text/plain": [
       "'utf-8'"
      ]
     },
     "execution_count": 18,
     "metadata": {},
     "output_type": "execute_result"
    }
   ],
   "source": [
    "# Je peux connaître le système d'encodage utilisé pour convertir les noms de fichiers\n",
    "import sys \n",
    "sys.getfilesystemencoding()  "
   ]
  },
  {
   "cell_type": "markdown",
   "metadata": {
    "slideshow": {
     "slide_type": "subslide"
    }
   },
   "source": [
    "À notre niveau, l'application principale du module `sys` sera de récupérer la liste des arguments passés à des scripts python."
   ]
  },
  {
   "cell_type": "markdown",
   "metadata": {
    "slideshow": {
     "slide_type": "fragment"
    }
   },
   "source": [
    "Note : tous les codes python que nous avons vus jusqu'à présent peuvent être copiés dans un fichier (avec l'extension .py) (par exemple : *mon_script.py*) et exécuté avec l'interpreteur python avec la commande suivante : \n",
    "    \n",
    "    python mon_script.py"
   ]
  },
  {
   "cell_type": "code",
   "execution_count": 19,
   "metadata": {
    "slideshow": {
     "slide_type": "fragment"
    }
   },
   "outputs": [
    {
     "data": {
      "text/plain": [
       "['c:\\\\users\\\\loic\\\\appdata\\\\local\\\\programs\\\\python\\\\python36\\\\lib\\\\site-packages\\\\ipykernel_launcher.py',\n",
       " '-f',\n",
       " 'C:\\\\Users\\\\loic\\\\AppData\\\\Roaming\\\\jupyter\\\\runtime\\\\kernel-df7d24de-11b9-42c6-bf2c-0ad49c8058d2.json']"
      ]
     },
     "execution_count": 19,
     "metadata": {},
     "output_type": "execute_result"
    }
   ],
   "source": [
    "# récupérer la liste des arguments passés à l'interpreteur python\n",
    "import sys\n",
    "sys.argv"
   ]
  },
  {
   "cell_type": "markdown",
   "metadata": {
    "slideshow": {
     "slide_type": "subslide"
    }
   },
   "source": [
    "### os - Manipuler le système d'exploitation"
   ]
  },
  {
   "cell_type": "code",
   "execution_count": 20,
   "metadata": {
    "slideshow": {
     "slide_type": "fragment"
    }
   },
   "outputs": [
    {
     "data": {
      "text/plain": [
       "'C:\\\\Users\\\\loic\\\\Desktop\\\\introduction_python'"
      ]
     },
     "execution_count": 20,
     "metadata": {},
     "output_type": "execute_result"
    }
   ],
   "source": [
    "# récupérer le répertoire de travail courant\n",
    "import os\n",
    "os.getcwd()"
   ]
  },
  {
   "cell_type": "code",
   "execution_count": 21,
   "metadata": {
    "slideshow": {
     "slide_type": "fragment"
    }
   },
   "outputs": [
    {
     "data": {
      "text/plain": [
       "'loic'"
      ]
     },
     "execution_count": 21,
     "metadata": {},
     "output_type": "execute_result"
    }
   ],
   "source": [
    "# et je peux même récupérer le nom d'utilisateur connecté au terminal de contrôle du processus python\n",
    "os.getlogin()"
   ]
  },
  {
   "cell_type": "code",
   "execution_count": 22,
   "metadata": {
    "slideshow": {
     "slide_type": "subslide"
    }
   },
   "outputs": [
    {
     "data": {
      "text/plain": [
       "['.git',\n",
       " '.ipynb_checkpoints',\n",
       " '00_Python.ipynb',\n",
       " '01_Variables.ipynb',\n",
       " '02_Variables_plus_complexes.ipynb',\n",
       " '03_Tests_et_boucles.ipynb',\n",
       " '04_Fonctions.ipynb',\n",
       " '05_Fonctions_pratiques_pour_des_variables_complexes.ipynb',\n",
       " '06_La_Programmation_Orientée_Objet.ipynb',\n",
       " '07_Snippets.ipynb',\n",
       " '08_Snippets_en_pratique.ipynb',\n",
       " '09_Les_modules_standards.ipynb',\n",
       " '10_Modules_communautaires.ipynb',\n",
       " '11_Des_outils.ipynb',\n",
       " 'assets',\n",
       " 'data',\n",
       " 'LICENSE',\n",
       " 'notre_premier_module',\n",
       " 'README.md',\n",
       " 'un_module_elementaire.py',\n",
       " '__pycache__']"
      ]
     },
     "execution_count": 22,
     "metadata": {},
     "output_type": "execute_result"
    }
   ],
   "source": [
    "# je peux récupérer la liste des fichiers dans le dossier de travail\n",
    "os.listdir()"
   ]
  },
  {
   "cell_type": "code",
   "execution_count": 23,
   "metadata": {
    "slideshow": {
     "slide_type": "fragment"
    }
   },
   "outputs": [
    {
     "data": {
      "text/plain": [
       "os.stat_result(st_mode=33206, st_ino=2251799813919593, st_dev=3087405824, st_nlink=1, st_uid=0, st_gid=0, st_size=146, st_atime=1521124013, st_mtime=1521124013, st_ctime=1521124013)"
      ]
     },
     "execution_count": 23,
     "metadata": {},
     "output_type": "execute_result"
    }
   ],
   "source": [
    "# récupérer des informations sur des fichiers\n",
    "import os\n",
    "info = os.stat(\"data/fichiers/liste_d_employes.csv\")\n",
    "info"
   ]
  },
  {
   "cell_type": "code",
   "execution_count": 24,
   "metadata": {
    "slideshow": {
     "slide_type": "fragment"
    }
   },
   "outputs": [
    {
     "data": {
      "text/plain": [
       "'Thursday, March 15, 2018 10:26:53'"
      ]
     },
     "execution_count": 24,
     "metadata": {},
     "output_type": "execute_result"
    }
   ],
   "source": [
    "from datetime import datetime \n",
    "# info.st_mtime est la date de modification !\n",
    "datetime.fromtimestamp(info.st_mtime).strftime(\"%A, %B %d, %Y %I:%M:%S\")"
   ]
  },
  {
   "cell_type": "markdown",
   "metadata": {
    "slideshow": {
     "slide_type": "slide"
    }
   },
   "source": [
    "## Vers la création de programmes"
   ]
  },
  {
   "cell_type": "markdown",
   "metadata": {
    "slideshow": {
     "slide_type": "subslide"
    }
   },
   "source": [
    "### logging - Manipuler les logs d'un programme"
   ]
  },
  {
   "cell_type": "code",
   "execution_count": 25,
   "metadata": {
    "slideshow": {
     "slide_type": "fragment"
    }
   },
   "outputs": [
    {
     "name": "stderr",
     "output_type": "stream",
     "text": [
      "2018-03-15 10:29:14,235 Un problème critique est survenu: tellement moche quand ça arrive...\n",
      "2018-03-15 10:29:14,238 Une erreur est apparue: méchante erreur\n",
      "2018-03-15 10:29:14,240 Prudence : Il est possible d'écrire n'importe quoi\n"
     ]
    }
   ],
   "source": [
    "import logging\n",
    "\n",
    "FORMAT = '%(asctime)-15s %(message)s'\n",
    "logging.basicConfig(format=FORMAT)\n",
    "logger = logging.getLogger(__name__)  # __name__ est une variable spéciale contenant le nom du fichier.\n",
    "\n",
    "logger.critical(\"Un problème critique est survenu: %s\", \"tellement moche quand ça arrive...\")\n",
    "logger.error(\"Une erreur est apparue: %s\", \"méchante erreur\")\n",
    "logger.warning(\"Prudence : %s\", \"Il est possible d'écrire n'importe quoi\")\n",
    "logger.info(\"Remarque : %s\", \"Il est important de bien choisir sa catégorie de message\")\n",
    "logger.debug(\"Note : %s\", \"Utiliser ce module est mieux qu'utiliser print() partout\")"
   ]
  },
  {
   "cell_type": "markdown",
   "metadata": {
    "slideshow": {
     "slide_type": "fragment"
    }
   },
   "source": [
    "Par défaut, votre logging est au niveau `Warning`, il n'affichera que les logs d'un niveau hiérarchique équivalent ou supérieur."
   ]
  },
  {
   "cell_type": "code",
   "execution_count": 26,
   "metadata": {
    "slideshow": {
     "slide_type": "subslide"
    }
   },
   "outputs": [
    {
     "name": "stderr",
     "output_type": "stream",
     "text": [
      "2018-03-15 10:29:14,267 Remarque : Il est important de bien choisir sa catégorie de message\n",
      "2018-03-15 10:29:14,270 Note : Utiliser ce module est mieux qu'utiliser print() partout\n"
     ]
    }
   ],
   "source": [
    "import logging\n",
    "\n",
    "logger = logging.getLogger(__name__)\n",
    "logger.setLevel(logging.DEBUG)\n",
    "logger.info(\"Remarque : %s\", \"Il est important de bien choisir sa catégorie de message\")\n",
    "logger.debug(\"Note : %s\", \"Utiliser ce module est mieux qu'utiliser print() partout\")"
   ]
  },
  {
   "cell_type": "markdown",
   "metadata": {
    "slideshow": {
     "slide_type": "subslide"
    }
   },
   "source": [
    "### argparse"
   ]
  },
  {
   "cell_type": "code",
   "execution_count": 27,
   "metadata": {
    "slideshow": {
     "slide_type": "fragment"
    }
   },
   "outputs": [
    {
     "data": {
      "text/plain": [
       "_StoreAction(option_strings=[], dest='entreprise', nargs=None, const=None, default=None, type=None, choices=None, help=\"Nom de l'entreprise\", metavar=None)"
      ]
     },
     "execution_count": 27,
     "metadata": {},
     "output_type": "execute_result"
    }
   ],
   "source": [
    "import argparse\n",
    "parser = argparse.ArgumentParser()\n",
    "parser.add_argument(\"entreprise\", help=\"Nom de l'entreprise\")"
   ]
  },
  {
   "cell_type": "code",
   "execution_count": 28,
   "metadata": {
    "slideshow": {
     "slide_type": "subslide"
    }
   },
   "outputs": [
    {
     "name": "stdout",
     "output_type": "stream",
     "text": [
      "usage: ipykernel_launcher.py [-h] entreprise\n",
      "\n",
      "positional arguments:\n",
      "  entreprise  Nom de l'entreprise\n",
      "\n",
      "optional arguments:\n",
      "  -h, --help  show this help message and exit\n"
     ]
    }
   ],
   "source": [
    "parser.print_help()"
   ]
  },
  {
   "cell_type": "code",
   "execution_count": 29,
   "metadata": {
    "slideshow": {
     "slide_type": "fragment"
    }
   },
   "outputs": [
    {
     "data": {
      "text/plain": [
       "Namespace(entreprise='JLR')"
      ]
     },
     "execution_count": 29,
     "metadata": {},
     "output_type": "execute_result"
    }
   ],
   "source": [
    "args = parser.parse_args([\"JLR\"])\n",
    "args"
   ]
  },
  {
   "cell_type": "code",
   "execution_count": 30,
   "metadata": {
    "slideshow": {
     "slide_type": "fragment"
    }
   },
   "outputs": [
    {
     "data": {
      "text/plain": [
       "'JLR'"
      ]
     },
     "execution_count": 30,
     "metadata": {},
     "output_type": "execute_result"
    }
   ],
   "source": [
    "args.entreprise"
   ]
  },
  {
   "cell_type": "code",
   "execution_count": 31,
   "metadata": {
    "slideshow": {
     "slide_type": "subslide"
    }
   },
   "outputs": [
    {
     "data": {
      "text/plain": [
       "_StoreAction(option_strings=['-m', '--meilleure'], dest='meilleure', nargs=None, const=None, default='JLR', type=<class 'str'>, choices=None, help='Nom de la meilleure entreprise', metavar=None)"
      ]
     },
     "execution_count": 31,
     "metadata": {},
     "output_type": "execute_result"
    }
   ],
   "source": [
    "parser.add_argument(\"-m\", \"--meilleure\", type=str, default=\"JLR\", help=\"Nom de la meilleure entreprise\")"
   ]
  },
  {
   "cell_type": "code",
   "execution_count": 32,
   "metadata": {
    "slideshow": {
     "slide_type": "fragment"
    }
   },
   "outputs": [
    {
     "name": "stdout",
     "output_type": "stream",
     "text": [
      "usage: ipykernel_launcher.py [-h] [-m MEILLEURE] entreprise\n",
      "\n",
      "positional arguments:\n",
      "  entreprise            Nom de l'entreprise\n",
      "\n",
      "optional arguments:\n",
      "  -h, --help            show this help message and exit\n",
      "  -m MEILLEURE, --meilleure MEILLEURE\n",
      "                        Nom de la meilleure entreprise\n"
     ]
    }
   ],
   "source": [
    "parser.print_help()"
   ]
  },
  {
   "cell_type": "code",
   "execution_count": 33,
   "metadata": {
    "slideshow": {
     "slide_type": "fragment"
    }
   },
   "outputs": [
    {
     "data": {
      "text/plain": [
       "Namespace(entreprise='JLR', meilleure='Jakarto')"
      ]
     },
     "execution_count": 33,
     "metadata": {},
     "output_type": "execute_result"
    }
   ],
   "source": [
    "args = parser.parse_args([\"-m\", \"Jakarto\", \"JLR\"])\n",
    "args"
   ]
  },
  {
   "cell_type": "code",
   "execution_count": 34,
   "metadata": {
    "slideshow": {
     "slide_type": "fragment"
    }
   },
   "outputs": [
    {
     "data": {
      "text/plain": [
       "'JLR'"
      ]
     },
     "execution_count": 34,
     "metadata": {},
     "output_type": "execute_result"
    }
   ],
   "source": [
    "args.entreprise"
   ]
  },
  {
   "cell_type": "code",
   "execution_count": 35,
   "metadata": {
    "slideshow": {
     "slide_type": "fragment"
    }
   },
   "outputs": [
    {
     "data": {
      "text/plain": [
       "'Jakarto'"
      ]
     },
     "execution_count": 35,
     "metadata": {},
     "output_type": "execute_result"
    }
   ],
   "source": [
    "args.meilleure"
   ]
  },
  {
   "cell_type": "markdown",
   "metadata": {
    "slideshow": {
     "slide_type": "subslide"
    }
   },
   "source": [
    "### unittest — Unit testing framework"
   ]
  },
  {
   "cell_type": "code",
   "execution_count": 36,
   "metadata": {
    "slideshow": {
     "slide_type": "fragment"
    }
   },
   "outputs": [
    {
     "name": "stderr",
     "output_type": "stream",
     "text": [
      "..\n",
      "----------------------------------------------------------------------\n",
      "Ran 2 tests in 0.003s\n",
      "\n",
      "OK\n"
     ]
    }
   ],
   "source": [
    "import unittest\n",
    "from notre_premier_module.individu import Personne\n",
    "\n",
    "\n",
    "class TestIndividuMethods(unittest.TestCase):\n",
    "\n",
    "    def setUp(self):\n",
    "        self.une_personne = Personne(nom=\"Messal\", prenom=\"Loïc\", annee_de_naissance=2010)\n",
    "        \n",
    "    def test_nom(self):\n",
    "        self.assertEqual(self.une_personne.nom, \"Messal\")\n",
    "        \n",
    "    def test_prenom(self):\n",
    "        self.assertEqual(self.une_personne.prenom, \"Loïc\")\n",
    "        \n",
    "\n",
    "if __name__ == \"__main__\":\n",
    "    unittest.main(argv=[\"first-arg-is-ignored\"], exit=False)"
   ]
  },
  {
   "cell_type": "code",
   "execution_count": 37,
   "metadata": {
    "slideshow": {
     "slide_type": "subslide"
    }
   },
   "outputs": [
    {
     "name": "stderr",
     "output_type": "stream",
     "text": [
      "...\n",
      "----------------------------------------------------------------------\n",
      "Ran 3 tests in 0.006s\n",
      "\n",
      "OK\n"
     ]
    }
   ],
   "source": [
    "import unittest\n",
    "from notre_premier_module.individu import Personne\n",
    "\n",
    "\n",
    "class TestIndividuMethods(unittest.TestCase):\n",
    "\n",
    "    def setUp(self):\n",
    "        self.une_personne = Personne(nom=\"Messal\", prenom=\"Loïc\", annee_de_naissance=2010)\n",
    "        \n",
    "    def test_nom(self):\n",
    "        self.assertEqual(self.une_personne.nom, \"Messal\")\n",
    "        \n",
    "    def test_prenom(self):\n",
    "        self.assertEqual(self.une_personne.prenom, \"Loïc\")\n",
    "                \n",
    "    def test_print(self):\n",
    "        self.assertRegex(str(self.une_personne), \"Loïc Messal est une Personne agée de [0-9]* ans.\")\n",
    "\n",
    "\n",
    "if __name__ == \"__main__\":\n",
    "    unittest.main(argv=[\"first-arg-is-ignored\"], exit=False)"
   ]
  },
  {
   "cell_type": "code",
   "execution_count": 38,
   "metadata": {
    "slideshow": {
     "slide_type": "subslide"
    }
   },
   "outputs": [
    {
     "name": "stderr",
     "output_type": "stream",
     "text": [
      "....\n",
      "----------------------------------------------------------------------\n",
      "Ran 4 tests in 0.002s\n",
      "\n",
      "OK\n"
     ]
    }
   ],
   "source": [
    "import unittest\n",
    "from notre_premier_module.individu import Personne\n",
    "\n",
    "\n",
    "class TestIndividuMethods(unittest.TestCase):\n",
    "\n",
    "    def setUp(self):\n",
    "        Personne.annee_actuelle = 2012\n",
    "        self.une_personne = Personne(nom=\"Messal\", prenom=\"Loïc\", annee_de_naissance=2010)\n",
    "        \n",
    "    def test_nom(self):\n",
    "        self.assertEqual(self.une_personne.nom, \"Messal\")\n",
    "        \n",
    "    def test_prenom(self):\n",
    "        self.assertEqual(self.une_personne.prenom, \"Loïc\")\n",
    "        \n",
    "    def test_print(self):\n",
    "        self.assertRegex(str(self.une_personne), \"Loïc Messal est une Personne agée de [0-9]* ans.\")\n",
    "\n",
    "    def test_age(self):\n",
    "        self.assertEqual(self.une_personne.age(), 2)\n",
    "\n",
    "\n",
    "if __name__ == \"__main__\":\n",
    "    unittest.main(argv=[\"first-arg-is-ignored\"], exit=False)"
   ]
  },
  {
   "cell_type": "markdown",
   "metadata": {
    "slideshow": {
     "slide_type": "subslide"
    }
   },
   "source": [
    "#### Test driven development : une méthode de programmation"
   ]
  },
  {
   "cell_type": "markdown",
   "metadata": {
    "slideshow": {
     "slide_type": "fragment"
    }
   },
   "source": [
    "Le Test Driven Development (TDD) est une méthode de programmation qui consiste à écrire les tests unitaires avant même d'implémenter les fonctionnalités. Cette méthode s'avère très efficace sur le long terme pour plusieurs raisons :\n",
    "- les tests des fonctionnalités sont déjà écrits\n",
    "- le nombre de tests déjà écrits apporte de la garantie sur le code\n",
    "- lors de la rédaction des tests, la signature des fonctions (liste des arguments) a été spécifiée : le développeur qui va implémenter cette fonctionnalité connait déjà le nom de la fonction et des paramètres qui doivent être transmis\n",
    "- un développeur peut apporter des modifications au code en s'assurant qu'il ne casse rien (puisque tout est testé)! on évite ainsi les \"j'ai juste modifié ça, et plus rien ne marche...\".\n",
    "- les développeurs sont rassurés"
   ]
  },
  {
   "cell_type": "code",
   "execution_count": 39,
   "metadata": {
    "slideshow": {
     "slide_type": "subslide"
    }
   },
   "outputs": [
    {
     "name": "stderr",
     "output_type": "stream",
     "text": [
      ".........\n",
      "----------------------------------------------------------------------\n",
      "Ran 9 tests in 0.006s\n",
      "\n",
      "OK\n"
     ]
    }
   ],
   "source": [
    "from unittest.mock import MagicMock\n",
    "from notre_premier_module.individu import Personne\n",
    "\n",
    "class TestPersonne(unittest.TestCase):\n",
    "\n",
    "    def setUp(self):\n",
    "        Personne.annee_actuelle = 2012\n",
    "        Personne.imc = MagicMock(return_value=21.5)  # On simule une méthode non implémentée\n",
    "        self.une_personne = Personne(nom=\"Messal\", prenom=\"Loïc\", annee_de_naissance=2010)\n",
    "        \n",
    "    def test_nom(self):\n",
    "        self.assertEqual(self.une_personne.nom, \"Messal\")\n",
    "        \n",
    "    def test_prenom(self):\n",
    "        self.assertEqual(self.une_personne.prenom, \"Loïc\")\n",
    "        \n",
    "    def test_print(self):\n",
    "        self.assertRegex(str(self.une_personne), \"Loïc Messal est une Personne agée de [0-9]* ans.\")\n",
    "\n",
    "    def test_age(self):\n",
    "        self.assertEqual(self.une_personne.age(), 2)\n",
    "\n",
    "    def test_imc(self):\n",
    "        self.assertEqual(self.une_personne.imc(masse_en_kg=65, taille_en_cm=174), 21.5)\n",
    "\n",
    "if __name__ == \"__main__\":\n",
    "    unittest.main(argv=[\"first-arg-is-ignored\"], exit=False)"
   ]
  },
  {
   "cell_type": "markdown",
   "metadata": {
    "slideshow": {
     "slide_type": "slide"
    }
   },
   "source": [
    "### pdb — The Python Debugger"
   ]
  },
  {
   "cell_type": "markdown",
   "metadata": {
    "slideshow": {
     "slide_type": "fragment"
    }
   },
   "source": [
    "Il peut arriver qu'une fonction ne se comporte pas comme nous l'imaginions. En général, le problème provient de ce qui se trouve entre la chaise et le clavier, et non de la machine.\n",
    "\n"
   ]
  },
  {
   "cell_type": "code",
   "execution_count": 40,
   "metadata": {
    "slideshow": {
     "slide_type": "subslide"
    }
   },
   "outputs": [],
   "source": [
    "def ajoute_cinq(un_argument=0):\n",
    "    un_argument += 2\n",
    "    un_argument += 3\n",
    "    return un_argument\n",
    "\n",
    "def une_super_fonction_qui_ajoute_dix(un_argument=0):\n",
    "    un_argument = ajoute_cinq(un_argument)\n",
    "    un_argument += 5\n",
    "    return un_argument"
   ]
  },
  {
   "cell_type": "markdown",
   "metadata": {
    "slideshow": {
     "slide_type": "fragment"
    }
   },
   "source": [
    "Pour regarder ce qu'il se passe, on serait bien tenter de mettre des print() ou des logs partout, et de relancer le code."
   ]
  },
  {
   "cell_type": "code",
   "execution_count": 41,
   "metadata": {
    "slideshow": {
     "slide_type": "subslide"
    }
   },
   "outputs": [
    {
     "name": "stdout",
     "output_type": "stream",
     "text": [
      "une_super_fonction_qui_ajoute_dix\n",
      "0\n",
      "ajoute_cinq\n",
      "0\n",
      "2\n",
      "5\n",
      "5\n",
      "10\n"
     ]
    },
    {
     "data": {
      "text/plain": [
       "10"
      ]
     },
     "execution_count": 41,
     "metadata": {},
     "output_type": "execute_result"
    }
   ],
   "source": [
    "# solution naive\n",
    "def ajoute_cinq(un_argument=0):\n",
    "    print(\"ajoute_cinq\")\n",
    "    print(un_argument)\n",
    "    un_argument += 2\n",
    "    print(un_argument)\n",
    "    un_argument += 3\n",
    "    print(un_argument)\n",
    "    return un_argument\n",
    "\n",
    "def une_super_fonction_qui_ajoute_dix(un_argument=0):\n",
    "    print(\"une_super_fonction_qui_ajoute_dix\")\n",
    "    print(un_argument)\n",
    "    un_argument = ajoute_cinq(un_argument)\n",
    "    print(un_argument)\n",
    "    un_argument += 5\n",
    "    print(un_argument)\n",
    "    return un_argument\n",
    "\n",
    "une_super_fonction_qui_ajoute_dix(un_argument=0)"
   ]
  },
  {
   "cell_type": "code",
   "execution_count": 42,
   "metadata": {
    "slideshow": {
     "slide_type": "subslide"
    }
   },
   "outputs": [],
   "source": [
    "import pdb\n",
    "\n",
    "def ajoute_cinq(un_argument=0):\n",
    "    un_argument += 2\n",
    "    un_argument += 3\n",
    "    return un_argument\n",
    "\n",
    "def une_super_fonction_qui_ajoute_dix(un_argument=0):\n",
    "    pdb.set_trace()\n",
    "    un_argument = ajoute_cinq(un_argument)\n",
    "    un_argument += 5\n",
    "    return un_argument\n"
   ]
  },
  {
   "cell_type": "code",
   "execution_count": 43,
   "metadata": {
    "slideshow": {
     "slide_type": "subslide"
    }
   },
   "outputs": [
    {
     "name": "stdout",
     "output_type": "stream",
     "text": [
      "> <string>(1)<module>()\n",
      "(Pdb) exit\n"
     ]
    }
   ],
   "source": [
    "pdb.run(\"une_super_fonction_qui_ajoute_dix(un_argument=0)\")"
   ]
  },
  {
   "cell_type": "markdown",
   "metadata": {
    "slideshow": {
     "slide_type": "-"
    }
   },
   "source": [
    "Essayez avec la séquence suivante : \n",
    "```\n",
    "continue\n",
    "list\n",
    "display un_argument\n",
    "step in\n",
    "list\n",
    "next\n",
    "list\n",
    "display un_argument\n",
    "next\n",
    "display un_argument\n",
    "return\n",
    "list\n",
    "display un_argument\n",
    "next\n",
    "list\n",
    "next\n",
    "display un_argument\n",
    "display un_argument - 10\n",
    "exit\n",
    "```"
   ]
  },
  {
   "cell_type": "markdown",
   "metadata": {
    "slideshow": {
     "slide_type": "subslide"
    }
   },
   "source": [
    "En pratique, on n'ajoutera pas `import pdb` à un script, mais on utilisera directement ce module sur notre script avec la commande : \n",
    "`python -m pdb mon_script.py`."
   ]
  },
  {
   "cell_type": "markdown",
   "metadata": {
    "slideshow": {
     "slide_type": "slide"
    }
   },
   "source": [
    "## vers l'optimisation\n",
    "### threading — parallélisation basée sur les threads"
   ]
  },
  {
   "cell_type": "code",
   "execution_count": 44,
   "metadata": {
    "slideshow": {
     "slide_type": "subslide"
    }
   },
   "outputs": [
    {
     "name": "stdout",
     "output_type": "stream",
     "text": [
      "MainThread démarré\n",
      "MainThread terminé\n",
      "MainThread démarré\n",
      "MainThread terminé\n",
      "MainThread démarré\n",
      "MainThread terminé\n",
      "9.004112005233765\n"
     ]
    }
   ],
   "source": [
    "import threading\n",
    "import time\n",
    "\n",
    "def une_fonction_de_traitement_longue():\n",
    "    print(\"{} démarré\".format(threading.currentThread().getName()))\n",
    "    time.sleep(3)  # simule un traitement qui prend 3 secondes\n",
    "    print(\"{} terminé\".format(threading.currentThread().getName()))  \n",
    "\n",
    "start = time.time()\n",
    "for _ in range(3):\n",
    "    une_fonction_de_traitement_longue()\n",
    "end = time.time()\n",
    "print(end - start)"
   ]
  },
  {
   "cell_type": "code",
   "execution_count": 45,
   "metadata": {
    "slideshow": {
     "slide_type": "subslide"
    }
   },
   "outputs": [
    {
     "name": "stdout",
     "output_type": "stream",
     "text": [
      "Thread-6 démarré\n",
      "Thread-7 démarréThread-8 démarré\n",
      "\n",
      "Thread-6 terminé\n",
      "Thread-8 terminé\n",
      "Thread-7 terminé\n",
      "3.026339054107666\n"
     ]
    }
   ],
   "source": [
    "import threading\n",
    "import time\n",
    "\n",
    "def une_fonction_de_traitement_longue():\n",
    "    print(\"{} démarré\".format(threading.currentThread().getName()))\n",
    "    time.sleep(3)  # simule un traitement qui prend 3 secondes\n",
    "    print(\"{} terminé\".format(threading.currentThread().getName()))  \n",
    "    \n",
    "    \n",
    "\n",
    "start = time.time()\n",
    "liste_de_threads = []\n",
    "\n",
    "for _ in range(3):\n",
    "    un_thread = threading.Thread(target=une_fonction_de_traitement_longue)  # on prépare un nouveau thread\n",
    "    liste_de_threads.append(un_thread)  # on l'ajoute à une liste pour pouvoir attendre qu'il ait terminé après\n",
    "    liste_de_threads[-1].start()  # on démarre le dernier thread ajouté\n",
    "    \n",
    "for thread in liste_de_threads:  # on attend que chaque thread ait terminé\n",
    "    thread.join()\n",
    "    \n",
    "end = time.time()\n",
    "print(end - start)"
   ]
  },
  {
   "cell_type": "markdown",
   "metadata": {
    "slideshow": {
     "slide_type": "subslide"
    }
   },
   "source": [
    "Si l'on souhaite récupérer les valeurs retournées par un thread, on doit modifier la fonction pour qu'elle prenne une liste et un index en argument, et écrire le résultat dans une_liste[index]."
   ]
  },
  {
   "cell_type": "code",
   "execution_count": 46,
   "metadata": {
    "slideshow": {
     "slide_type": "subslide"
    }
   },
   "outputs": [],
   "source": [
    "import threading\n",
    "import time\n",
    "\n",
    "def ajoute_deux(une_valeur, results=None, index=None):\n",
    "    time.sleep(3)  # simule un traitement qui prend 3 secondes\n",
    "    resultat = une_valeur + 2\n",
    "    if results:\n",
    "        if 0 <= index < len(results):\n",
    "            results[index] = resultat\n",
    "    return resultat\n",
    "\n",
    "start = time.time()\n",
    "liste_de_threads = []\n",
    "arguments = []\n",
    "results = []\n",
    "\n",
    "for valeur in range(3):\n",
    "    arguments.append(valeur)\n",
    "    results.append(None)\n",
    "\n",
    "for index in range(3):\n",
    "    un_thread = threading.Thread(target=ajoute_deux, args=(arguments[index], results, index))  # on prépare un nouveau thread\n",
    "    liste_de_threads.append(un_thread)  # on l'ajoute à une liste pour pouvoir attendre qu'il ait terminé après\n",
    "    liste_de_threads[-1].start()  # on démarre le dernier thread ajouté\n",
    "    \n",
    "for thread in liste_de_threads:  # on attend que chaque thread ait terminé\n",
    "    thread.join()\n",
    "    \n",
    "end = time.time()"
   ]
  },
  {
   "cell_type": "code",
   "execution_count": 47,
   "metadata": {
    "slideshow": {
     "slide_type": "subslide"
    }
   },
   "outputs": [
    {
     "name": "stdout",
     "output_type": "stream",
     "text": [
      "3.0039217472076416\n",
      "0 + 2 = 2\n",
      "1 + 2 = 3\n",
      "2 + 2 = 4\n"
     ]
    }
   ],
   "source": [
    "print(end - start)\n",
    "for argument, resultat in zip(arguments, results):\n",
    "    print(\"{} + 2 = {}\".format(argument, resultat))"
   ]
  },
  {
   "cell_type": "markdown",
   "metadata": {
    "slideshow": {
     "slide_type": "subslide"
    }
   },
   "source": [
    "### multiprocessing — parallélisation basée sur les processus"
   ]
  },
  {
   "cell_type": "markdown",
   "metadata": {
    "slideshow": {
     "slide_type": "fragment"
    }
   },
   "source": [
    "Pour réutiliser la fonction `ajoute_deux` avec multiprocessing, j'ai créé le fichier `un_module_elementaire.py` contenant simplement cette fonction."
   ]
  },
  {
   "cell_type": "code",
   "execution_count": 48,
   "metadata": {
    "slideshow": {
     "slide_type": "fragment"
    }
   },
   "outputs": [
    {
     "name": "stdout",
     "output_type": "stream",
     "text": [
      "import time\n",
      "\n",
      "def ajoute_deux(une_valeur, results=None, index=None):\n",
      "    time.sleep(3)  # simule un traitement qui prend 3 secondes\n",
      "    resultat = une_valeur + 2\n",
      "    if results:\n",
      "        if 0 <= index < len(results):\n",
      "            results[index] = resultat\n",
      "    return resultat"
     ]
    }
   ],
   "source": [
    "with open(\"un_module_elementaire.py\", \"r\", encoding=\"utf-8\") as fichier:\n",
    "    for ligne in fichier:\n",
    "        print(ligne, end='')"
   ]
  },
  {
   "cell_type": "code",
   "execution_count": 49,
   "metadata": {
    "slideshow": {
     "slide_type": "subslide"
    }
   },
   "outputs": [
    {
     "name": "stdout",
     "output_type": "stream",
     "text": [
      "3.2380239963531494\n",
      "0 + 2 = 2\n",
      "1 + 2 = 3\n",
      "2 + 2 = 4\n"
     ]
    }
   ],
   "source": [
    "import multiprocessing\n",
    "from multiprocessing import Pool\n",
    "import time\n",
    "\n",
    "import un_module_elementaire\n",
    "\n",
    "\n",
    "arguments = []\n",
    "for valeur in range(3):\n",
    "    arguments.append(valeur)\n",
    "\n",
    "if __name__ == \"__main__\":\n",
    "    start = time.time()\n",
    "    pool = Pool()\n",
    "    results = pool.map(un_module_elementaire.ajoute_deux, arguments)\n",
    "    end = time.time()\n",
    "    print(end - start)\n",
    "    \n",
    "    for argument, resultat in zip(arguments, results):\n",
    "        print(\"{} + 2 = {}\".format(argument, resultat))"
   ]
  },
  {
   "cell_type": "markdown",
   "metadata": {
    "slideshow": {
     "slide_type": "subslide"
    }
   },
   "source": [
    "Note technique : \n",
    "Le module de thread utilise des threads. Le module multiprocessing utilise des processus. Les threads s'exécutent dans le même espace mémoire, alors que les processus ont une mémoire séparée. \n",
    "Puisque les threads utilisent la même mémoire, des précautions doivent être prises dans le cas où deux threads écrivent dans la même mémoire en même temps. \n",
    "Pour empécher cela, l'interpreteur python est équipé du Global Interpreter Lock (GIL). Le GIL est un verrou au niveau de l'interpreteur qui empêche l'exécution de plusieurs threads à la fois dans l'interpréteur Python. Chaque thread qui veut s'exécuter doit attendre que le GIL soit libéré par l'autre thread, ce qui signifie qu'en réalité votre application Python multithread est en fait un thread unique. Le GIL empêche finalement l'accès simultané aux objets Python par plusieurs threads. À cause du GIL, les threads python sont moins efficaces pour des tâches CPU-intensives, c'est-à-dire demandant beaucoup de puissance de calculs."
   ]
  },
  {
   "cell_type": "markdown",
   "metadata": {
    "slideshow": {
     "slide_type": "skip"
    }
   },
   "source": [
    "[Plus de détails sur les différences entre les threads et les processus ici](https://medium.com/@bfortuner/python-multithreading-vs-multiprocessing-73072ce5600b)"
   ]
  },
  {
   "cell_type": "markdown",
   "metadata": {
    "slideshow": {
     "slide_type": "slide"
    }
   },
   "source": [
    "## Pour transformer un programme en logiciel"
   ]
  },
  {
   "cell_type": "markdown",
   "metadata": {
    "slideshow": {
     "slide_type": "subslide"
    }
   },
   "source": [
    "### tkinter - Pour les interfaces graphiques"
   ]
  },
  {
   "cell_type": "markdown",
   "metadata": {
    "slideshow": {
     "slide_type": "fragment"
    }
   },
   "source": [
    "Un exemple de base :"
   ]
  },
  {
   "cell_type": "code",
   "execution_count": 50,
   "metadata": {
    "slideshow": {
     "slide_type": "fragment"
    }
   },
   "outputs": [],
   "source": [
    "import tkinter \n",
    "\n",
    "fenetre = tkinter.Tk()\n",
    "\n",
    "label = tkinter.Label(fenetre, text=\"Cette formation est vraiment complète. Je me sens comme un pro en python.\")\n",
    "label.pack()\n",
    "\n",
    "fenetre.mainloop()"
   ]
  },
  {
   "cell_type": "markdown",
   "metadata": {
    "slideshow": {
     "slide_type": "subslide"
    }
   },
   "source": [
    "Un exemple qui réutilise nos fonctions"
   ]
  },
  {
   "attachments": {},
   "cell_type": "markdown",
   "metadata": {
    "slideshow": {
     "slide_type": "fragment"
    }
   },
   "source": [
    "<img src=\"assets/une_interface_utile.PNG\">"
   ]
  },
  {
   "cell_type": "code",
   "execution_count": 51,
   "metadata": {
    "slideshow": {
     "slide_type": "subslide"
    }
   },
   "outputs": [],
   "source": [
    "import tkinter\n",
    "\n",
    "import un_module_elementaire\n",
    "\n",
    "class Application(tkinter.Tk):\n",
    "\n",
    "    def __init__(self, master=None):\n",
    "        tkinter.Tk.__init__(self)\n",
    "        self.title(\"Une interface utile\")\n",
    "\n",
    "        # On crée une frame d'entrée, autrement dit une \"ligne d'éléments graphiques\" dans notre interface\n",
    "        frame_input = tkinter.Frame(self)\n",
    "        frame_input.pack(fill=tkinter.X, expand=True)  # elle devient extensible et remplit l'axe des X\n",
    "    \n",
    "        # On affiche du texte pour demander à l'utilisateur de saisir un nombre\n",
    "        label_un_nombre = tkinter.Label(frame_input, text=\"Saisir un nombre : \")\n",
    "        label_un_nombre.pack(side=\"left\")  # ce label sera un élément disposé sur la gauche de notre frame\n",
    "        \n",
    "        # on déclare une variable qui va contenir la valeur d'un nombre saisi par l'utilisateur\n",
    "        self.stringvar_un_nombre_saisi = tkinter.StringVar()\n",
    "        self.stringvar_un_nombre_saisi.set(\"0\")\n",
    "        \n",
    "        # on crée la zone de saisie\n",
    "        saisie = tkinter.Entry(frame_input, textvariable=self.stringvar_un_nombre_saisi)\n",
    "        saisie.pack(fill=tkinter.X)\n",
    "        \n",
    "        # On crée une seconde ligne d'elements graphiques pour notre sortie\n",
    "        frame_output = tkinter.Frame(self)\n",
    "        frame_output.pack(fill=tkinter.BOTH, expand=True)\n",
    "    \n",
    "        # On affiche du texte pour informer l'utilisateur\n",
    "        label_resultat = tkinter.Label(frame_output, text=\"+ 2 = \")\n",
    "        label_resultat.pack(side=\"left\")\n",
    "        \n",
    "        # On déclare une variable qui va contenir le résultat de l'opération\n",
    "        self.stringvar_resultat_calcule = tkinter.StringVar()\n",
    "        self.stringvar_resultat_calcule.set(\"...\")\n",
    "        label_resultat = tkinter.Label(frame_output, textvariable=self.stringvar_resultat_calcule)\n",
    "        label_resultat.pack(side=\"right\")\n",
    "        \n",
    "        # Déclenche un événement quand la touche Retour est appuyée\n",
    "        saisie.bind(\"<Key-Return>\", self.print_contents)\n",
    "\n",
    "    def print_contents(self, event):\n",
    "        # on s'assure que la valeur saisie est convertible en nombre (sinon on informe l'utilisateur)\n",
    "        if not str.isnumeric(self.stringvar_un_nombre_saisi.get()):\n",
    "            self.stringvar_resultat_calcule.set(\"Merci de rentrer un nombre entier\")\n",
    "            return\n",
    "        valeur = int(self.stringvar_un_nombre_saisi.get())\n",
    "        resultat = un_module_elementaire.ajoute_deux(valeur)\n",
    "        self.stringvar_resultat_calcule.set(resultat)\n",
    "        \n",
    "if __name__ == \"__main__\":\n",
    "    app = Application()\n",
    "    app.mainloop()"
   ]
  },
  {
   "cell_type": "markdown",
   "metadata": {
    "slideshow": {
     "slide_type": "slide"
    }
   },
   "source": [
    "[Il existe bien d'autres modules !](https://docs.python.org/3/library/index.html)"
   ]
  },
  {
   "cell_type": "markdown",
   "metadata": {
    "slideshow": {
     "slide_type": "slide"
    }
   },
   "source": [
    "[Prochain chapitre : Des modules communautaires](10_Modules_communautaires.ipynb)"
   ]
  }
 ],
 "metadata": {
  "celltoolbar": "Slideshow",
  "kernelspec": {
   "display_name": "Python 3",
   "language": "python",
   "name": "python3"
  },
  "language_info": {
   "codemirror_mode": {
    "name": "ipython",
    "version": 3
   },
   "file_extension": ".py",
   "mimetype": "text/x-python",
   "name": "python",
   "nbconvert_exporter": "python",
   "pygments_lexer": "ipython3",
   "version": "3.6.4"
  }
 },
 "nbformat": 4,
 "nbformat_minor": 2
}
