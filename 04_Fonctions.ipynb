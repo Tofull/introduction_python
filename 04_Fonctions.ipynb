{
 "cells": [
  {
   "cell_type": "markdown",
   "metadata": {
    "slideshow": {
     "slide_type": "slide"
    }
   },
   "source": [
    "# Introduction à Python"
   ]
  },
  {
   "cell_type": "markdown",
   "metadata": {
    "slideshow": {
     "slide_type": "-"
    }
   },
   "source": [
    "> présentée par Loïc Messal"
   ]
  },
  {
   "cell_type": "markdown",
   "metadata": {
    "slideshow": {
     "slide_type": "-"
    }
   },
   "source": [
    "## Introduction aux fonctions"
   ]
  },
  {
   "cell_type": "markdown",
   "metadata": {
    "slideshow": {
     "slide_type": "slide"
    }
   },
   "source": [
    "Les fonctions permettent d'assembler des déclarations dans un ordre défini pour être réexécutées par la suite. Nous en avons déjà utilisé quelques unes sans le savoir (`bool()`, `int()`, `str()`, `print()`, `range()` sont des fonctions). Voyons comment créer nos propres fonctions."
   ]
  },
  {
   "cell_type": "markdown",
   "metadata": {
    "slideshow": {
     "slide_type": "fragment"
    }
   },
   "source": [
    "Les fonctions peuvent :\n",
    "- exécuter une série de déclarations (éventuellement)\n",
    "- retourner un résultat (éventuellement)\n",
    "- prendre des paramètres en entrées (éventuellement)"
   ]
  },
  {
   "cell_type": "markdown",
   "metadata": {
    "slideshow": {
     "slide_type": "subslide"
    }
   },
   "source": [
    "### Une fonction qui ne fait rien"
   ]
  },
  {
   "cell_type": "code",
   "execution_count": null,
   "metadata": {
    "slideshow": {
     "slide_type": "fragment"
    }
   },
   "outputs": [],
   "source": [
    "def inutile():\n",
    "    \"\"\"\n",
    "    Ca, c'est la documentation d'une fonction inutile...\n",
    "    \"\"\"\n",
    "    pass  # pass est un mot clé python, pour dire de ne rien faire \n",
    "    # (en général, pass est utilisé pour forcer python à ne pas planter quand une erreur surgit [PAS BIEN DU TOUT])"
   ]
  },
  {
   "cell_type": "code",
   "execution_count": null,
   "metadata": {
    "slideshow": {
     "slide_type": "fragment"
    }
   },
   "outputs": [],
   "source": [
    "inutile()"
   ]
  },
  {
   "cell_type": "markdown",
   "metadata": {
    "slideshow": {
     "slide_type": "subslide"
    }
   },
   "source": [
    "### Notre première vraie fonction"
   ]
  },
  {
   "cell_type": "code",
   "execution_count": null,
   "metadata": {
    "slideshow": {
     "slide_type": "fragment"
    }
   },
   "outputs": [],
   "source": [
    "def affiche_entreprises():\n",
    "    \"\"\"\n",
    "    Cette fonction affiche plusieurs chaînes de caractère dans la console.\n",
    "    \"\"\"\n",
    "    print(\"JLR\")\n",
    "    print(\"Jakarto\")"
   ]
  },
  {
   "cell_type": "code",
   "execution_count": null,
   "metadata": {
    "slideshow": {
     "slide_type": "fragment"
    }
   },
   "outputs": [],
   "source": [
    "affiche_entreprises()\n",
    "affiche_entreprises()\n",
    "affiche_entreprises()"
   ]
  },
  {
   "cell_type": "markdown",
   "metadata": {
    "slideshow": {
     "slide_type": "subslide"
    }
   },
   "source": [
    "### Une fonction qui renvoie un résultat"
   ]
  },
  {
   "cell_type": "code",
   "execution_count": null,
   "metadata": {
    "slideshow": {
     "slide_type": "fragment"
    }
   },
   "outputs": [],
   "source": [
    "def la_meilleure_entreprise():\n",
    "    \"\"\"\n",
    "    Cette fonction retourne le nom de la meilleure entreprise.\n",
    "    \"\"\"\n",
    "    return \"JLR\"  # la fonction renvoie ce résultat et s'arrête"
   ]
  },
  {
   "cell_type": "code",
   "execution_count": null,
   "metadata": {
    "slideshow": {
     "slide_type": "fragment"
    }
   },
   "outputs": [],
   "source": [
    "la_meilleure_entreprise()"
   ]
  },
  {
   "cell_type": "markdown",
   "metadata": {
    "slideshow": {
     "slide_type": "subslide"
    }
   },
   "source": [
    "### Une fonction avec un paramètre arbitraire"
   ]
  },
  {
   "cell_type": "code",
   "execution_count": null,
   "metadata": {
    "slideshow": {
     "slide_type": "fragment"
    }
   },
   "outputs": [],
   "source": [
    "def est_majeur(age):  # age est un paramètre de la fonction\n",
    "    \"\"\"\n",
    "    Cette fonction détermine la majorité en fonction de l'age. \n",
    "    \"\"\"\n",
    "    if age < 18:\n",
    "        return False\n",
    "    return True"
   ]
  },
  {
   "cell_type": "code",
   "execution_count": null,
   "metadata": {
    "slideshow": {
     "slide_type": "fragment"
    }
   },
   "outputs": [],
   "source": [
    "est_majeur(18)"
   ]
  },
  {
   "cell_type": "code",
   "execution_count": null,
   "metadata": {
    "slideshow": {
     "slide_type": "fragment"
    }
   },
   "outputs": [],
   "source": [
    "est_majeur(17)"
   ]
  },
  {
   "cell_type": "code",
   "execution_count": null,
   "metadata": {
    "slideshow": {
     "slide_type": "subslide"
    }
   },
   "outputs": [],
   "source": [
    "un_iterable = []\n",
    "un_iterable.append({\"nom\": \"Messal\", \"prénom\": \"Loïc\", \"employeur\": \"Jakarto\", \"age\": 23})\n",
    "un_iterable.append({\"nom\": \"Lassem\", \"prénom\": \"Ciol\", \"employeur\": \"Otrakaj\", \"age\": 17})\n",
    "un_iterable.append({\"nom\": \"Alssem\", \"prénom\": \"Icol\", \"employeur\": \"Torakaj\", \"age\": 20})\n",
    "un_iterable"
   ]
  },
  {
   "cell_type": "code",
   "execution_count": null,
   "metadata": {
    "slideshow": {
     "slide_type": "subslide"
    }
   },
   "outputs": [],
   "source": [
    "for index, item in enumerate(un_iterable):\n",
    "    if est_majeur(item[\"age\"]):\n",
    "        majorite = \"majeur\"\n",
    "    else:\n",
    "        majorite = \"mineur\"\n",
    "    print(\"Item {} : {} {} ({}) travaille chez {}.\".format(index, item[\"prénom\"], item[\"nom\"], majorite, item[\"employeur\"]))"
   ]
  },
  {
   "cell_type": "markdown",
   "metadata": {
    "slideshow": {
     "slide_type": "subslide"
    }
   },
   "source": [
    "### Une fonction avec un paramètre optionnel"
   ]
  },
  {
   "cell_type": "code",
   "execution_count": null,
   "metadata": {
    "slideshow": {
     "slide_type": "fragment"
    }
   },
   "outputs": [],
   "source": [
    "def est_majeur(age, majorite_age=18):  # age est un paramètre de la fonction\n",
    "    \"\"\"\n",
    "    Cette fonction détermine la majorité en fonction de l'age. \n",
    "    \"\"\"\n",
    "    if age < majorite_age:\n",
    "        return False\n",
    "    return True"
   ]
  },
  {
   "cell_type": "code",
   "execution_count": null,
   "metadata": {
    "slideshow": {
     "slide_type": "fragment"
    }
   },
   "outputs": [],
   "source": [
    "for index, item in enumerate(un_iterable):\n",
    "    if est_majeur(item[\"age\"], majorite_age=21):  # suppose que la majorité passe à 21 ans\n",
    "        majorite = \"majeur\"\n",
    "    else:\n",
    "        majorite = \"mineur\"\n",
    "    print(\"Item {} : {} {} ({}) travaille chez {}.\".format(index, item[\"prénom\"], item[\"nom\"], majorite, item[\"employeur\"]))"
   ]
  },
  {
   "cell_type": "markdown",
   "metadata": {
    "slideshow": {
     "slide_type": "subslide"
    }
   },
   "source": [
    "### Une fonction avec un nombre de paramètres arbitraires variant"
   ]
  },
  {
   "cell_type": "code",
   "execution_count": null,
   "metadata": {
    "slideshow": {
     "slide_type": "fragment"
    }
   },
   "outputs": [],
   "source": [
    "def affiche_beaucoup_d_entreprises(une_entreprise_obligatoire, *plein_d_autres):  # *arguments permet d'accéder à tous les autres paramètres obligatoires\n",
    "    \"\"\"\n",
    "    Cette fonction affiche des entreprises dans la console.\n",
    "    \"\"\"\n",
    "    print(une_entreprise_obligatoire)\n",
    "    for entreprise in plein_d_autres:\n",
    "        print(entreprise)"
   ]
  },
  {
   "cell_type": "code",
   "execution_count": null,
   "metadata": {
    "slideshow": {
     "slide_type": "fragment"
    }
   },
   "outputs": [],
   "source": [
    "affiche_beaucoup_d_entreprises(\"JLR\")"
   ]
  },
  {
   "cell_type": "code",
   "execution_count": null,
   "metadata": {
    "slideshow": {
     "slide_type": "fragment"
    }
   },
   "outputs": [],
   "source": [
    "affiche_beaucoup_d_entreprises(\"JLR\", \"Jakarto\")"
   ]
  },
  {
   "cell_type": "code",
   "execution_count": null,
   "metadata": {
    "slideshow": {
     "slide_type": "fragment"
    }
   },
   "outputs": [],
   "source": [
    "affiche_beaucoup_d_entreprises(\"JLR\", \"Jakarto\", \"Evalweb\")"
   ]
  },
  {
   "cell_type": "markdown",
   "metadata": {
    "slideshow": {
     "slide_type": "subslide"
    }
   },
   "source": [
    "### Une fonction avec un nombre de paramètres optionnels variant"
   ]
  },
  {
   "cell_type": "code",
   "execution_count": null,
   "metadata": {
    "slideshow": {
     "slide_type": "fragment"
    }
   },
   "outputs": [],
   "source": [
    "def affiche_options(**options):  # **arguments permet d'accéder à tous les paramètres optionnels\n",
    "    \"\"\"\n",
    "    Cette fonction affiche toutes les options dans la console.\n",
    "    \"\"\"\n",
    "    for option in options:\n",
    "        value = options[option]\n",
    "        print(\"{} : {}\".format(option, value))"
   ]
  },
  {
   "cell_type": "code",
   "execution_count": null,
   "metadata": {
    "slideshow": {
     "slide_type": "fragment"
    }
   },
   "outputs": [],
   "source": [
    "affiche_options(entreprise=\"JLR\", classement=1)"
   ]
  },
  {
   "cell_type": "markdown",
   "metadata": {
    "slideshow": {
     "slide_type": "subslide"
    }
   },
   "source": [
    "### Une fonction avec un paramètre obligatoire, des paramètres arbitraires, des paramètres optionnels définis et d'autres paramètres optionnels, "
   ]
  },
  {
   "cell_type": "code",
   "execution_count": null,
   "metadata": {
    "slideshow": {
     "slide_type": "subslide"
    }
   },
   "outputs": [],
   "source": [
    "def affiche_la_verite(*des_entreprises, meilleure_entreprise=\"JLR\", **options):\n",
    "    \"\"\"\n",
    "    Cette fonction affiche simplement la vérité du monde corporate.\n",
    "    \"\"\"\n",
    "    for entreprise in des_entreprises:\n",
    "        print(\"{} est une entreprise.\".format(entreprise))\n",
    "        \n",
    "    print(\"Mais la meilleure est certainement {}!\".format(meilleure_entreprise))\n",
    "    print(\"Selon les critères suivants:\")\n",
    "    for option in options:\n",
    "        value = options[option]\n",
    "        print(\"{} : {}\".format(option, value))"
   ]
  },
  {
   "cell_type": "code",
   "execution_count": null,
   "metadata": {
    "slideshow": {
     "slide_type": "fragment"
    }
   },
   "outputs": [],
   "source": [
    "affiche_la_verite(\"JLR\", \"Jakarto\", \"Tojakar\", lieu=\"quelque part\", nombre_d_employes=\"un et plus\", teletravail_possible=True)"
   ]
  },
  {
   "cell_type": "markdown",
   "metadata": {
    "slideshow": {
     "slide_type": "skip"
    }
   },
   "source": [
    "[Plus de détails sur les fonctions ici](https://docs.python.org/3/tutorial/controlflow.html#defining-functions)"
   ]
  },
  {
   "cell_type": "markdown",
   "metadata": {
    "slideshow": {
     "slide_type": "slide"
    }
   },
   "source": [
    "### Extension sur les fonctions"
   ]
  },
  {
   "cell_type": "markdown",
   "metadata": {
    "slideshow": {
     "slide_type": "fragment"
    }
   },
   "source": [
    "Il est possible d'associer une fonction à une variable, puisque les variables adressent les objets définis. Cela permet entre autre de créer des alias même si cette pratique n'est pas recommandée."
   ]
  },
  {
   "cell_type": "code",
   "execution_count": null,
   "metadata": {
    "slideshow": {
     "slide_type": "fragment"
    }
   },
   "outputs": [],
   "source": [
    "rien_que_la_verite = affiche_la_verite"
   ]
  },
  {
   "cell_type": "code",
   "execution_count": null,
   "metadata": {
    "slideshow": {
     "slide_type": "fragment"
    }
   },
   "outputs": [],
   "source": [
    "rien_que_la_verite(\"JLR\", \"Jakarto\", \"Tojakar\", lieu=\"quelque part\", nombre_d_employes=\"un et plus\", teletravail_possible=True)"
   ]
  },
  {
   "cell_type": "markdown",
   "metadata": {
    "slideshow": {
     "slide_type": "subslide"
    }
   },
   "source": [
    "En revanche, ce concept permet de comprendre le fonctionnement de fonctions anonymes. Dans certains cas, il peut être pratique de définir une fonction sans nom (nous verrons leur utilité au prochain chapitre). Voici comment définir une fonction anonyme."
   ]
  },
  {
   "cell_type": "code",
   "execution_count": null,
   "metadata": {
    "slideshow": {
     "slide_type": "fragment"
    }
   },
   "outputs": [],
   "source": [
    "lambda x: x+2  # cette fonction anonyme prend un argument en entrée et en retourne une incrémentation de 2"
   ]
  },
  {
   "cell_type": "markdown",
   "metadata": {
    "slideshow": {
     "slide_type": "fragment"
    }
   },
   "source": [
    "Mais si elle n'a pas de nom, comment peut-on l'utiliser ? Il suffit de créer un alias !"
   ]
  },
  {
   "cell_type": "code",
   "execution_count": null,
   "metadata": {
    "slideshow": {
     "slide_type": "fragment"
    }
   },
   "outputs": [],
   "source": [
    "une_variable_qui_pointe_vers_une_fonction_anonyme = lambda x: x+2  \n",
    "# cette fonction anonyme prend un argument en entrée et en retourne une incrémentation de 2"
   ]
  },
  {
   "cell_type": "code",
   "execution_count": null,
   "metadata": {
    "slideshow": {
     "slide_type": "fragment"
    }
   },
   "outputs": [],
   "source": [
    "une_variable_qui_pointe_vers_une_fonction_anonyme(5)"
   ]
  },
  {
   "cell_type": "markdown",
   "metadata": {
    "slideshow": {
     "slide_type": "skip"
    }
   },
   "source": [
    "[Plus de détails sur les fonctions anonymes ici](https://docs.python.org/3/tutorial/controlflow.html#lambda-expressions)"
   ]
  },
  {
   "cell_type": "markdown",
   "metadata": {
    "slideshow": {
     "slide_type": "slide"
    }
   },
   "source": [
    "[Prochain chapitre : Des fonctions pour les variables complexes](/notebooks/05_Fonctions_pratiques_pour_des_variables_complexes.ipynb)"
   ]
  }
 ],
 "metadata": {
  "celltoolbar": "Slideshow",
  "kernelspec": {
   "display_name": "Python 3",
   "language": "python",
   "name": "python3"
  },
  "language_info": {
   "codemirror_mode": {
    "name": "ipython",
    "version": 3
   },
   "file_extension": ".py",
   "mimetype": "text/x-python",
   "name": "python",
   "nbconvert_exporter": "python",
   "pygments_lexer": "ipython3",
   "version": "3.6.4"
  }
 },
 "nbformat": 4,
 "nbformat_minor": 2
}
