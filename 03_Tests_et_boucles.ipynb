{
 "cells": [
  {
   "cell_type": "markdown",
   "metadata": {
    "slideshow": {
     "slide_type": "slide"
    }
   },
   "source": [
    "# Introduction à Python"
   ]
  },
  {
   "cell_type": "markdown",
   "metadata": {
    "slideshow": {
     "slide_type": "-"
    }
   },
   "source": [
    "> présentée par Loïc Messal"
   ]
  },
  {
   "cell_type": "markdown",
   "metadata": {
    "slideshow": {
     "slide_type": "-"
    }
   },
   "source": [
    "## Introduction aux flux de contrôles\n"
   ]
  },
  {
   "cell_type": "markdown",
   "metadata": {
    "slideshow": {
     "slide_type": "slide"
    }
   },
   "source": [
    "### Les tests"
   ]
  },
  {
   "cell_type": "markdown",
   "metadata": {
    "slideshow": {
     "slide_type": "subslide"
    }
   },
   "source": [
    "Ils permettent d'exécuter des déclarations sous certaines conditions."
   ]
  },
  {
   "cell_type": "code",
   "execution_count": 1,
   "metadata": {
    "slideshow": {
     "slide_type": "fragment"
    }
   },
   "outputs": [
    {
     "name": "stdout",
     "output_type": "stream",
     "text": [
      "Mineur\n"
     ]
    }
   ],
   "source": [
    "age = 17\n",
    "if age < 18:\n",
    "    print(\"Mineur\")  # executé si et seulement si la condition est vraie"
   ]
  },
  {
   "cell_type": "code",
   "execution_count": 2,
   "metadata": {
    "slideshow": {
     "slide_type": "fragment"
    }
   },
   "outputs": [
    {
     "name": "stdout",
     "output_type": "stream",
     "text": [
      "Majeur\n"
     ]
    }
   ],
   "source": [
    "age = 19\n",
    "if age < 18:\n",
    "    print(\"Mineur\")  # executé si et seulement si la condition est vraie\n",
    "else:\n",
    "    print(\"Majeur\")  # exécuté si et seulement si la condition est fausse"
   ]
  },
  {
   "cell_type": "code",
   "execution_count": 3,
   "metadata": {
    "slideshow": {
     "slide_type": "subslide"
    }
   },
   "outputs": [
    {
     "name": "stdout",
     "output_type": "stream",
     "text": [
      "Richesse d'un employé de JLR : riche\n"
     ]
    }
   ],
   "source": [
    "employeur = \"JLR\"\n",
    "# employeur = \"Jakarto\"\n",
    "# employeur = \"Une autre entreprise\"\n",
    "\n",
    "# Commentez, décommentez les valeurs de la variable employeur pour tester.\n",
    "\n",
    "if employeur == \"JLR\":\n",
    "    # exécuté si et seulement si la condition employeur == \"JLR\" est vraie\n",
    "    richesse_statut = \"riche\"\n",
    "elif employeur == \"Jakarto\":\n",
    "    # exécuté si et seulement si la condition employeur == \"Jakarto\" est vraie \n",
    "    # et qu'aucune condition précédente n'a été remplie\n",
    "    richesse_statut = \"ça s'en vient bientôt\"  \n",
    "else:\n",
    "    # exécuté si et seulement si aucune condition précédente n'a été remplie\n",
    "    richesse_statut = \"probablement pas\"\n",
    "    \n",
    "print(\"Richesse d'un employé de {} : {}\".format(employeur, richesse_statut))"
   ]
  },
  {
   "cell_type": "markdown",
   "metadata": {
    "slideshow": {
     "slide_type": "slide"
    }
   },
   "source": [
    "### Les boucles"
   ]
  },
  {
   "cell_type": "markdown",
   "metadata": {
    "slideshow": {
     "slide_type": "subslide"
    }
   },
   "source": [
    "Les boucles permettent d'itérer sur des itérables (composés de plusieurs éléments)."
   ]
  },
  {
   "cell_type": "code",
   "execution_count": 4,
   "metadata": {
    "slideshow": {
     "slide_type": "fragment"
    }
   },
   "outputs": [
    {
     "data": {
      "text/plain": [
       "[{'age': 23, 'employeur': 'Jakarto', 'nom': 'Messal', 'prénom': 'Loïc'},\n",
       " {'age': 17, 'employeur': 'Otrakaj', 'nom': 'Lassem', 'prénom': 'Ciol'},\n",
       " {'age': 20, 'employeur': 'Torakaj', 'nom': 'Alssem', 'prénom': 'Icol'}]"
      ]
     },
     "execution_count": 4,
     "metadata": {},
     "output_type": "execute_result"
    }
   ],
   "source": [
    "un_iterable = []\n",
    "un_iterable.append({\"nom\": \"Messal\", \"prénom\": \"Loïc\", \"employeur\": \"Jakarto\", \"age\": 23})\n",
    "un_iterable.append({\"nom\": \"Lassem\", \"prénom\": \"Ciol\", \"employeur\": \"Otrakaj\", \"age\": 17})\n",
    "un_iterable.append({\"nom\": \"Alssem\", \"prénom\": \"Icol\", \"employeur\": \"Torakaj\", \"age\": 20})\n",
    "un_iterable"
   ]
  },
  {
   "cell_type": "code",
   "execution_count": 5,
   "metadata": {
    "slideshow": {
     "slide_type": "fragment"
    }
   },
   "outputs": [
    {
     "name": "stdout",
     "output_type": "stream",
     "text": [
      "Loïc Messal travaille chez Jakarto.\n",
      "Ciol Lassem travaille chez Otrakaj.\n",
      "Icol Alssem travaille chez Torakaj.\n"
     ]
    }
   ],
   "source": [
    "for item in un_iterable:\n",
    "    print(\"{} {} travaille chez {}.\".format(item[\"prénom\"], item[\"nom\"], item[\"employeur\"]))"
   ]
  },
  {
   "cell_type": "markdown",
   "metadata": {
    "slideshow": {
     "slide_type": "subslide"
    }
   },
   "source": [
    "Il est possible de générer des séquences avec la fonction `range()`."
   ]
  },
  {
   "cell_type": "code",
   "execution_count": 6,
   "metadata": {
    "slideshow": {
     "slide_type": "fragment"
    }
   },
   "outputs": [
    {
     "name": "stdout",
     "output_type": "stream",
     "text": [
      "0\n",
      "1\n",
      "2\n",
      "3\n",
      "4\n"
     ]
    }
   ],
   "source": [
    "for compteur in range(5):  # range(5) génére une séquence de 0 à 5 (exclus)\n",
    "    print(compteur)"
   ]
  },
  {
   "cell_type": "code",
   "execution_count": 7,
   "metadata": {
    "slideshow": {
     "slide_type": "fragment"
    }
   },
   "outputs": [
    {
     "name": "stdout",
     "output_type": "stream",
     "text": [
      "1\n",
      "2\n",
      "3\n",
      "4\n",
      "5\n"
     ]
    }
   ],
   "source": [
    "for compteur in range(1, 5+1): # range(1, 5+1) génére une séquence de 1 à 5+1 (exclus)\n",
    "    print(compteur)"
   ]
  },
  {
   "cell_type": "code",
   "execution_count": 8,
   "metadata": {
    "slideshow": {
     "slide_type": "subslide"
    }
   },
   "outputs": [
    {
     "name": "stdout",
     "output_type": "stream",
     "text": [
      "Item 0 : Loïc Messal travaille chez Jakarto.\n",
      "Item 1 : Ciol Lassem travaille chez Otrakaj.\n",
      "Item 2 : Icol Alssem travaille chez Torakaj.\n"
     ]
    }
   ],
   "source": [
    "for index in range(len(un_iterable)):\n",
    "    item = un_iterable[index]  # accède à l'item à partir de son index\n",
    "    print(\"Item {} : {} {} travaille chez {}.\".format(index, item[\"prénom\"], item[\"nom\"], item[\"employeur\"]))"
   ]
  },
  {
   "cell_type": "code",
   "execution_count": 9,
   "metadata": {
    "slideshow": {
     "slide_type": "fragment"
    }
   },
   "outputs": [
    {
     "name": "stdout",
     "output_type": "stream",
     "text": [
      "Item 0 : Loïc Messal travaille chez Jakarto.\n",
      "Item 1 : Ciol Lassem travaille chez Otrakaj.\n",
      "Item 2 : Icol Alssem travaille chez Torakaj.\n"
     ]
    }
   ],
   "source": [
    "for index, item in enumerate(un_iterable):  # enumerate permet d'itérer en obtenant l'index ET l'item\n",
    "    print(\"Item {} : {} {} travaille chez {}.\".format(index, item[\"prénom\"], item[\"nom\"], item[\"employeur\"]))"
   ]
  },
  {
   "cell_type": "code",
   "execution_count": 10,
   "metadata": {
    "slideshow": {
     "slide_type": "subslide"
    }
   },
   "outputs": [
    {
     "name": "stdout",
     "output_type": "stream",
     "text": [
      "0\n",
      "1\n",
      "2\n",
      "3\n",
      "4\n"
     ]
    }
   ],
   "source": [
    "compteur = 0\n",
    "stop = 5\n",
    "while compteur < stop:  # exécutera les déclarations suivantes tant que la condition est vraie\n",
    "    print(compteur)\n",
    "    compteur = compteur + 1"
   ]
  },
  {
   "cell_type": "markdown",
   "metadata": {
    "slideshow": {
     "slide_type": "subslide"
    }
   },
   "source": [
    "Il est possible de contrôler les boucles avec certains mots clés:\n",
    "- `continue` passera à l'itération suivante sans exécuter les déclarations qui suivent\n",
    "- `break` quittera la boucle prématurément"
   ]
  },
  {
   "cell_type": "code",
   "execution_count": 11,
   "metadata": {
    "slideshow": {
     "slide_type": "fragment"
    }
   },
   "outputs": [
    {
     "name": "stdout",
     "output_type": "stream",
     "text": [
      "Item 0 : Loïc Messal (majeur) travaille chez Jakarto.\n",
      "Item 2 : Icol Alssem (majeur) travaille chez Torakaj.\n"
     ]
    }
   ],
   "source": [
    "for index, item in enumerate(un_iterable):\n",
    "    if item[\"age\"] < 18:\n",
    "        continue  # Si la condition est vraie, passage à l'itération suivante.\n",
    "    print(\"Item {} : {} {} (majeur) travaille chez {}.\".format(index, item[\"prénom\"], item[\"nom\"], item[\"employeur\"]))"
   ]
  },
  {
   "cell_type": "code",
   "execution_count": 12,
   "metadata": {
    "slideshow": {
     "slide_type": "fragment"
    }
   },
   "outputs": [
    {
     "name": "stdout",
     "output_type": "stream",
     "text": [
      "Item 0 : Loïc Messal travaille chez Jakarto.\n"
     ]
    }
   ],
   "source": [
    "for index, item in enumerate(un_iterable):\n",
    "    print(\"Item {} : {} {} travaille chez {}.\".format(index, item[\"prénom\"], item[\"nom\"], item[\"employeur\"]))\n",
    "    if item[\"prénom\"] == \"Loïc\":\n",
    "        break  # Arrête la boucle si la condition est vraie"
   ]
  },
  {
   "cell_type": "markdown",
   "metadata": {
    "slideshow": {
     "slide_type": "slide"
    }
   },
   "source": [
    "[Prochain chapitre : Les fonctions](04_Fonctions.ipynb)"
   ]
  }
 ],
 "metadata": {
  "celltoolbar": "Slideshow",
  "kernelspec": {
   "display_name": "Python 3",
   "language": "python",
   "name": "python3"
  },
  "language_info": {
   "codemirror_mode": {
    "name": "ipython",
    "version": 3
   },
   "file_extension": ".py",
   "mimetype": "text/x-python",
   "name": "python",
   "nbconvert_exporter": "python",
   "pygments_lexer": "ipython3",
   "version": "3.6.4"
  }
 },
 "nbformat": 4,
 "nbformat_minor": 2
}
