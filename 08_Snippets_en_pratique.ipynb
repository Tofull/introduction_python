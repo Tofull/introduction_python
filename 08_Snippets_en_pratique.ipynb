{
 "cells": [
  {
   "cell_type": "markdown",
   "metadata": {
    "slideshow": {
     "slide_type": "slide"
    }
   },
   "source": [
    "# Introduction à Python"
   ]
  },
  {
   "cell_type": "markdown",
   "metadata": {
    "slideshow": {
     "slide_type": "-"
    }
   },
   "source": [
    "> présentée par Loïc Messal"
   ]
  },
  {
   "cell_type": "markdown",
   "metadata": {
    "slideshow": {
     "slide_type": "-"
    }
   },
   "source": [
    "## Les snippets en pratique"
   ]
  },
  {
   "cell_type": "code",
   "execution_count": 1,
   "metadata": {
    "slideshow": {
     "slide_type": "slide"
    }
   },
   "outputs": [],
   "source": [
    "# solution élégante\n",
    "with open(\"data/fichiers/liste_d_employes.csv\", \"w\", encoding=\"utf-8\") as fichier:\n",
    "    fichier.write(\"nom,prenom,employeur,annee_de_naissance\")\n",
    "    fichier.write(\"\\n\")  # symbole pour définir un saut de ligne\n",
    "    fichier.write(\"Messal,Loïc,Jakarto,1994\")\n",
    "    fichier.write(\"\\n\")\n",
    "    fichier.write(\"Lassem,Ciol,Otrakaj,2001\")\n",
    "    fichier.write(\"\\n\")\n",
    "    fichier.write(\"Alssem,Icol,Torakaj,1998\")\n",
    "    fichier.write(\"\\n\")\n",
    "    fichier.write(\"Inex,Istant,Karotaj,1998\")\n",
    "    fichier.write(\"\\n\")"
   ]
  },
  {
   "cell_type": "markdown",
   "metadata": {
    "slideshow": {
     "slide_type": "subslide"
    }
   },
   "source": [
    "Comment lire les données que nous venons d'enregistrer ?"
   ]
  },
  {
   "cell_type": "code",
   "execution_count": 2,
   "metadata": {
    "slideshow": {
     "slide_type": "fragment"
    }
   },
   "outputs": [
    {
     "name": "stdout",
     "output_type": "stream",
     "text": [
      "nom,prenom,employeur,annee_de_naissance\n",
      "\n",
      "Messal,LoÃ¯c,Jakarto,1994\n",
      "\n",
      "Lassem,Ciol,Otrakaj,2001\n",
      "\n",
      "Alssem,Icol,Torakaj,1998\n",
      "\n",
      "Inex,Istant,Karotaj,1998\n",
      "\n"
     ]
    }
   ],
   "source": [
    "# solution naive\n",
    "with open(\"data/fichiers/liste_d_employes.csv\", \"r\") as fichier:\n",
    "    for ligne in fichier:\n",
    "        print(ligne)\n"
   ]
  },
  {
   "cell_type": "code",
   "execution_count": 3,
   "metadata": {
    "slideshow": {
     "slide_type": "fragment"
    }
   },
   "outputs": [
    {
     "name": "stdout",
     "output_type": "stream",
     "text": [
      "Messal,LoÃ¯c,Jakarto,1994\n",
      "\n",
      "Lassem,Ciol,Otrakaj,2001\n",
      "\n",
      "Alssem,Icol,Torakaj,1998\n",
      "\n",
      "Inex,Istant,Karotaj,1998\n",
      "\n"
     ]
    }
   ],
   "source": [
    "# solution naive\n",
    "with open(\"data/fichiers/liste_d_employes.csv\", \"r\") as fichier:\n",
    "    for index, ligne in enumerate(fichier):\n",
    "        if index != 0:  # ne lit pas l'entête\n",
    "            print(ligne)"
   ]
  },
  {
   "cell_type": "code",
   "execution_count": 4,
   "metadata": {
    "slideshow": {
     "slide_type": "subslide"
    }
   },
   "outputs": [
    {
     "name": "stdout",
     "output_type": "stream",
     "text": [
      "['Messal', 'LoÃ¯c', 'Jakarto', '1994\\n']\n",
      "['Lassem', 'Ciol', 'Otrakaj', '2001\\n']\n",
      "['Alssem', 'Icol', 'Torakaj', '1998\\n']\n",
      "['Inex', 'Istant', 'Karotaj', '1998\\n']\n"
     ]
    }
   ],
   "source": [
    "# solution naive\n",
    "with open(\"data/fichiers/liste_d_employes.csv\", \"r\") as fichier:\n",
    "    for index, ligne in enumerate(fichier):\n",
    "        if index != 0:  # ne lit pas l'entête\n",
    "            print(ligne.split(','))  # split() découpe la string par morceaux où se trouve le séparateur. Renvoie une liste."
   ]
  },
  {
   "cell_type": "markdown",
   "metadata": {
    "slideshow": {
     "slide_type": "fragment"
    }
   },
   "source": [
    "Notre ligne contient le caractère spécial `\\n`! (c'est pour ça qu'on avait des sauts de lignes dans les `print()` précédents)."
   ]
  },
  {
   "cell_type": "code",
   "execution_count": 5,
   "metadata": {
    "slideshow": {
     "slide_type": "fragment"
    }
   },
   "outputs": [
    {
     "name": "stdout",
     "output_type": "stream",
     "text": [
      "nom,prenom,employeur,annee_de_naissance\n",
      "Messal,LoÃ¯c,Jakarto,1994\n",
      "Lassem,Ciol,Otrakaj,2001\n",
      "Alssem,Icol,Torakaj,1998\n",
      "Inex,Istant,Karotaj,1998\n"
     ]
    }
   ],
   "source": [
    "with open(\"data/fichiers/liste_d_employes.csv\", \"r\") as fichier:\n",
    "    for line in fichier:\n",
    "        print(line, end='')"
   ]
  },
  {
   "cell_type": "code",
   "execution_count": 6,
   "metadata": {
    "slideshow": {
     "slide_type": "subslide"
    }
   },
   "outputs": [
    {
     "name": "stdout",
     "output_type": "stream",
     "text": [
      "['Messal', 'LoÃ¯c', 'Jakarto', '1994']\n",
      "['Lassem', 'Ciol', 'Otrakaj', '2001']\n",
      "['Alssem', 'Icol', 'Torakaj', '1998']\n",
      "['Inex', 'Istant', 'Karotaj', '1998']\n"
     ]
    }
   ],
   "source": [
    "# solution naive\n",
    "with open(\"data/fichiers/liste_d_employes.csv\", \"r\") as fichier:\n",
    "    for index, ligne in enumerate(fichier):\n",
    "        ligne = ligne.split('\\n')[0]  # on enleve le caractère spécial \\n\n",
    "        if index != 0:  # on ne lit pas l'entête\n",
    "            print(ligne.split(','))"
   ]
  },
  {
   "cell_type": "code",
   "execution_count": 7,
   "metadata": {
    "slideshow": {
     "slide_type": "subslide"
    }
   },
   "outputs": [
    {
     "name": "stdout",
     "output_type": "stream",
     "text": [
      "Messal LoÃ¯c Jakarto 1994\n",
      "Lassem Ciol Otrakaj 2001\n",
      "Alssem Icol Torakaj 1998\n",
      "Inex Istant Karotaj 1998\n"
     ]
    }
   ],
   "source": [
    "# solution naive\n",
    "with open(\"data/fichiers/liste_d_employes.csv\", \"r\") as fichier:\n",
    "    for index, ligne in enumerate(fichier):\n",
    "        ligne = ligne.split('\\n')[0]  # on enleve le caractère spécial \\n\n",
    "        if index != 0:  # on ne lit pas l'entête\n",
    "            nom, prenom, employeur, annee_de_naissance = ligne.split(',')\n",
    "            print(nom, prenom, employeur, annee_de_naissance)"
   ]
  },
  {
   "cell_type": "markdown",
   "metadata": {
    "slideshow": {
     "slide_type": "subslide"
    }
   },
   "source": [
    "Il est maintenant temps d'utiliser notre premier module !!!"
   ]
  },
  {
   "cell_type": "markdown",
   "metadata": {
    "slideshow": {
     "slide_type": "fragment"
    }
   },
   "source": [
    "Rappel : j'ai enregistré le code de nos classes des chapitres précédents dans le fichier individu.py lui-même dans un répertoire notre_premier_module."
   ]
  },
  {
   "cell_type": "code",
   "execution_count": 8,
   "metadata": {
    "slideshow": {
     "slide_type": "subslide"
    }
   },
   "outputs": [
    {
     "name": "stdout",
     "output_type": "stream",
     "text": [
      "class Personne(object):\n",
      "    \n",
      "    annee_actuelle = 2018  # variable de classe, partagée par toutes les instances de Personne\n",
      "    # En pratique, on récupèrera l'année actuelle autrement.\n",
      "    \n",
      "    def __init__(self, nom=None, prenom=None, annee_de_naissance=2000):\n",
      "        self.nom = nom\n",
      "        self.prenom = prenom\n",
      "        self.annee_de_naissance = annee_de_naissance\n",
      "        \n",
      "    def age(self):\n",
      "        # une version simplifiée pour calculer l'age\n",
      "        return self.annee_actuelle - self.annee_de_naissance\n",
      "    \n",
      "    def __repr__(self):\n",
      "        return str(self)\n",
      "    \n",
      "    def __str__(self):  # Surcharge de la fonction __str__() pour les instances de Personne\n",
      "        return \"{} {} est une Personne agée de {} ans.\".format(self.prenom, self.nom, self.age())\n",
      "    \n",
      "    \n",
      "class Employe(Personne):\n",
      "    def __init__(self, employeur=None, **kwargs):\n",
      "        super().__init__(**kwargs)\n",
      "        self.employeur = employeur\n",
      "        \n",
      "    def __repr__(self):\n",
      "        return str(self)\n",
      "    \n",
      "    def __str__(self):  # Surcharge de la fonction __str__() pour les instances d'Employe\n",
      "        return super().__str__() + \" C'est un employé de {}.\".format(self.employeur)"
     ]
    }
   ],
   "source": [
    "with open(\"notre_premier_module/individu.py\", \"r\", encoding=\"utf-8\") as fichier:  # encoding=\"utf-8\" permet de lire les accents\n",
    "    for ligne in fichier:\n",
    "        print(ligne, end='')"
   ]
  },
  {
   "cell_type": "code",
   "execution_count": 9,
   "metadata": {
    "slideshow": {
     "slide_type": "subslide"
    }
   },
   "outputs": [],
   "source": [
    "# solution naive\n",
    "\n",
    "from notre_premier_module.individu import Employe  # On importe notre classe Employe contenue dans le fichier individu\n",
    "\n",
    "# solution naive\n",
    "un_iterable_complexe = []\n",
    "\n",
    "with open(\"data/fichiers/liste_d_employes.csv\", \"r\") as fichier:\n",
    "    for index, ligne in enumerate(fichier):\n",
    "        ligne = ligne.split('\\n')[0]  # on enleve le caractère spécial \\n\n",
    "        if index != 0:  # on ne lit pas l'entête\n",
    "            nom, prenom, employeur, annee_de_naissance = ligne.split(',')\n",
    "            # ATTENTION\n",
    "            # string.split() renvoie une liste de STRINGS !\n",
    "            # nom, prenom, employeur, annee_de_naissance sont donc des variables de type string\n",
    "            # Or, si nous utilisons annee_de_naissance tel quel, nous aurons du mal à définir l'age d'un employé,\n",
    "            # car l'opération annee_actuelle (int) - annee_de_naissance (string) n'a pas de sens !\n",
    "            \n",
    "            # N'avais-je pas dit dans le premier chapitre que le typage implicite des variables vous causera des troubles ?\n",
    "            \n",
    "            # Il faut donc convertir annee_de_naissance en entier avant de procéder à la création des Employés\n",
    "            # (idéallement, il faudrait modifier la classe pour s'assurer du bon typage des attributs/paramètres utilisés)\n",
    "            annee_de_naissance = int(annee_de_naissance)\n",
    "            un_nouvel_employe = Employe(nom=nom, prenom=prenom, employeur=employeur, annee_de_naissance=annee_de_naissance)\n",
    "            un_iterable_complexe.append(un_nouvel_employe)"
   ]
  },
  {
   "cell_type": "code",
   "execution_count": 10,
   "metadata": {
    "slideshow": {
     "slide_type": "subslide"
    }
   },
   "outputs": [
    {
     "data": {
      "text/plain": [
       "[LoÃ¯c Messal est une Personne agée de 24 ans. C'est un employé de Jakarto.,\n",
       " Ciol Lassem est une Personne agée de 17 ans. C'est un employé de Otrakaj.,\n",
       " Icol Alssem est une Personne agée de 20 ans. C'est un employé de Torakaj.,\n",
       " Istant Inex est une Personne agée de 20 ans. C'est un employé de Karotaj.]"
      ]
     },
     "execution_count": 10,
     "metadata": {},
     "output_type": "execute_result"
    }
   ],
   "source": [
    "un_iterable_complexe"
   ]
  },
  {
   "cell_type": "markdown",
   "metadata": {
    "slideshow": {
     "slide_type": "fragment"
    }
   },
   "source": [
    "Super !!! Nous avons réussi. Et en plus, nous avons réutilisé du code existant avec notre premier module!"
   ]
  },
  {
   "cell_type": "markdown",
   "metadata": {
    "slideshow": {
     "slide_type": "slide"
    }
   },
   "source": [
    "### Un tip de pro!"
   ]
  },
  {
   "cell_type": "markdown",
   "metadata": {
    "slideshow": {
     "slide_type": "fragment"
    }
   },
   "source": [
    "> Pensez-vous être les premiers à lire un fichier au format csv ? "
   ]
  },
  {
   "cell_type": "markdown",
   "metadata": {
    "slideshow": {
     "slide_type": "fragment"
    }
   },
   "source": [
    "Python intègre nativement pleins de modules officiels (que l'on appelle d'ailleurs la [librairie standard](https://docs.python.org/3.6/library/) de python). Cette librairie est installée en même temps que l'exécuteur python, c'est-à-dire que si vous pouvez utiliser python sur votre machine, vous avez déjà (probablement) la librairie avec vous. Un module spécifique pour lire les fichiers csv est inclus. Equipons-nous de bons outils ! Apprenons à nous en servir et utilisons-le ! [Sa documentation est disponible ici.](https://docs.python.org/3.6/library/csv.html) "
   ]
  },
  {
   "cell_type": "code",
   "execution_count": 11,
   "metadata": {
    "slideshow": {
     "slide_type": "subslide"
    }
   },
   "outputs": [
    {
     "data": {
      "text/plain": [
       "[LoÃ¯c Messal est une Personne agée de 24 ans. C'est un employé de Jakarto.,\n",
       " Ciol Lassem est une Personne agée de 17 ans. C'est un employé de Otrakaj.,\n",
       " Icol Alssem est une Personne agée de 20 ans. C'est un employé de Torakaj.,\n",
       " Istant Inex est une Personne agée de 20 ans. C'est un employé de Karotaj.]"
      ]
     },
     "execution_count": 11,
     "metadata": {},
     "output_type": "execute_result"
    }
   ],
   "source": [
    "# solution élégante\n",
    "import csv  # chargement du module csv\n",
    "\n",
    "un_iterable_complexe = []\n",
    "\n",
    "with open(\"data/fichiers/liste_d_employes.csv\", \"r\") as fichier:\n",
    "    enregistrements = csv.DictReader(fichier)\n",
    "    for donnee in enregistrements:\n",
    "        un_nouvel_employe = Employe(nom=donnee['nom'], \n",
    "                                    prenom=donnee['prenom'], \n",
    "                                    employeur=donnee['employeur'], \n",
    "                                    annee_de_naissance=int(donnee['annee_de_naissance'])\n",
    "                                   )\n",
    "        un_iterable_complexe.append(un_nouvel_employe)\n",
    "    \n",
    "un_iterable_complexe"
   ]
  },
  {
   "cell_type": "markdown",
   "metadata": {
    "slideshow": {
     "slide_type": "slide"
    }
   },
   "source": [
    "## Mise en garde"
   ]
  },
  {
   "cell_type": "markdown",
   "metadata": {
    "slideshow": {
     "slide_type": "fragment"
    }
   },
   "source": [
    "**Attention**, l'utilisation de modules créés par d'autres développeurs peut avoir un effet pervers. \n",
    "\n",
    "Les développeurs qui ont développé ces modules peuvent, sans préavis, arrêter leur maintenance (correction de bugs ou correction de faille de sécurité), interdire leur utilisation, intégrer du code malicieux ou supprimer les sources du module que vous utilisez.\n",
    "\n",
    "En principe, ceux de la librairie standard sont relativement fiables. Les modifications des comportements d'un module sont annoncées à l'avance (car oui, ces modules s'améliorent eux-aussi en fonction des versions), et les dangers liés au détournement de leurs fonctionnalités (failles) sont en général explicités dans la documentation [(un exemple avec le module pickle)](https://docs.python.org/3.3/library/pickle.html#module-pickle).\n",
    "\n",
    "Avant d'utiliser un module (qu'il soit populaire ou non), évaluez à votre niveau le risque de l'insérer dans votre code. Soyez toujours prudents!"
   ]
  },
  {
   "cell_type": "markdown",
   "metadata": {
    "slideshow": {
     "slide_type": "slide"
    }
   },
   "source": [
    "## Vers de meilleures pratiques ! "
   ]
  },
  {
   "cell_type": "markdown",
   "metadata": {
    "slideshow": {
     "slide_type": "subslide"
    }
   },
   "source": [
    "### Ecriture de message d'erreur dans la sortie dédiée aux erreurs _(et non dans la sortie standard *(qui est en fait sys.stdout)*)_"
   ]
  },
  {
   "cell_type": "code",
   "execution_count": 12,
   "metadata": {
    "slideshow": {
     "slide_type": "fragment"
    }
   },
   "outputs": [
    {
     "name": "stdout",
     "output_type": "stream",
     "text": [
      "None\n"
     ]
    },
    {
     "name": "stderr",
     "output_type": "stream",
     "text": [
      "[Errno 2] No such file or directory: 'un_nom_de_fichier_qui_n_existe_pas.txt'\n"
     ]
    }
   ],
   "source": [
    "import sys\n",
    "try:\n",
    "    with open(\"un_nom_de_fichier_qui_n_existe_pas.txt\", \"r\") as fichier:\n",
    "        contenu = fichier.read()\n",
    "except FileNotFoundError as error:\n",
    "    print(error, file=sys.stderr)  # écriture dans la sortie d'erreur (pas idéal mais déjà mieux qu'un print dans stdout)\n",
    "    contenu = None\n",
    "\n",
    "print(contenu)"
   ]
  },
  {
   "cell_type": "markdown",
   "metadata": {
    "slideshow": {
     "slide_type": "slide"
    }
   },
   "source": [
    "[Prochain chapitre : Des modules standards](09_Les_modules_standards.ipynb)"
   ]
  }
 ],
 "metadata": {
  "celltoolbar": "Slideshow",
  "kernelspec": {
   "display_name": "Python 3",
   "language": "python",
   "name": "python3"
  },
  "language_info": {
   "codemirror_mode": {
    "name": "ipython",
    "version": 3
   },
   "file_extension": ".py",
   "mimetype": "text/x-python",
   "name": "python",
   "nbconvert_exporter": "python",
   "pygments_lexer": "ipython3",
   "version": "3.6.4"
  }
 },
 "nbformat": 4,
 "nbformat_minor": 2
}
