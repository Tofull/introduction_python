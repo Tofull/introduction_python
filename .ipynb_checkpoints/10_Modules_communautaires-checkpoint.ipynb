{
 "cells": [
  {
   "cell_type": "markdown",
   "metadata": {
    "slideshow": {
     "slide_type": "slide"
    }
   },
   "source": [
    "# Introduction à Python"
   ]
  },
  {
   "cell_type": "markdown",
   "metadata": {
    "slideshow": {
     "slide_type": "-"
    }
   },
   "source": [
    "> présentée par Loïc Messal"
   ]
  },
  {
   "cell_type": "markdown",
   "metadata": {
    "slideshow": {
     "slide_type": "-"
    }
   },
   "source": [
    "## Les modules communautaires"
   ]
  },
  {
   "cell_type": "markdown",
   "metadata": {
    "slideshow": {
     "slide_type": "slide"
    }
   },
   "source": [
    "Nous avons vu comment utiliser nos propres modules et ceux déjà inclus dans la librairie standard.\n",
    "\n",
    "D'autres modules existent. Les développeurs qui les ont créés ont décidé de les partager à la communauté."
   ]
  },
  {
   "cell_type": "markdown",
   "metadata": {
    "slideshow": {
     "slide_type": "subslide"
    }
   },
   "source": [
    "> Comment utiliser les modules communautaires ?"
   ]
  },
  {
   "cell_type": "markdown",
   "metadata": {
    "slideshow": {
     "slide_type": "fragment"
    }
   },
   "source": [
    "```py\n",
    "# solution naive\n",
    "```\n",
    "Nous pouvons télécharger les fichiers un par un dans notre dossier de travail."
   ]
  },
  {
   "cell_type": "markdown",
   "metadata": {
    "slideshow": {
     "slide_type": "-"
    }
   },
   "source": [
    "Bien entendu, cette solution s'avère vite pénible en pratique parce qu'il faut aller chercher ces fichiers sources pour chacun de nos projets."
   ]
  },
  {
   "cell_type": "markdown",
   "metadata": {
    "slideshow": {
     "slide_type": "subslide"
    }
   },
   "source": [
    "```py\n",
    "# solution améliorée\n",
    "```\n",
    "Si le code source du module est disponible, et qu'un fichier *setup.py* se trouve à la racine, il y a de fortes chances qu'il contienne les primitives pour l'installer.\n",
    "Une fois le dossier récupéré, il suffit de lancer la commande `python setup.py install`."
   ]
  },
  {
   "cell_type": "markdown",
   "metadata": {
    "slideshow": {
     "slide_type": "subslide"
    }
   },
   "source": [
    "```py\n",
    "# solution élégante\n",
    "```\n",
    "Si le développeur a fait l'effort de mettre en place le fichier *setup.py*, alors il est fort à parier qu'il a propulsé son module sur le [*Python Package Index*](https://pypi.python.org/pypi).\n",
    "*Pip* est un outil qui vient avec l'installation de l'interpréteur Python pour gérer ces modules. Pour installer un module communautaire disponible sur cet index, il suffit alors de lancer la commande `pip install <nom_du_module>` "
   ]
  },
  {
   "cell_type": "markdown",
   "metadata": {
    "slideshow": {
     "slide_type": "slide"
    }
   },
   "source": [
    "### matplotlib (visualisation de données)"
   ]
  },
  {
   "cell_type": "markdown",
   "metadata": {
    "slideshow": {
     "slide_type": "-"
    }
   },
   "source": [
    "> pour l'installer : `pip install matplotlib`"
   ]
  },
  {
   "cell_type": "code",
   "execution_count": null,
   "metadata": {
    "slideshow": {
     "slide_type": "skip"
    }
   },
   "outputs": [],
   "source": [
    "# configuration pour jupyter\n",
    "%matplotlib inline"
   ]
  },
  {
   "cell_type": "code",
   "execution_count": null,
   "metadata": {
    "slideshow": {
     "slide_type": "subslide"
    }
   },
   "outputs": [],
   "source": [
    "# génération de données\n",
    "donnees = []\n",
    "donnees.append({\"x\":0, \"y\":0})\n",
    "donnees.append({\"x\":2, \"y\":1.1})\n",
    "donnees.append({\"x\":4, \"y\":1.9})\n",
    "donnees.append({\"x\":6, \"y\":2.8})\n",
    "donnees.append({\"x\":8, \"y\":4.2})\n",
    "donnees.append({\"x\":10, \"y\":5})\n",
    "\n",
    "x = list(map(lambda donnee: donnee[\"x\"], donnees))\n",
    "y = list(map(lambda donnee: donnee[\"y\"], donnees))"
   ]
  },
  {
   "cell_type": "code",
   "execution_count": null,
   "metadata": {
    "slideshow": {
     "slide_type": "subslide"
    }
   },
   "outputs": [],
   "source": [
    "import matplotlib.pyplot\n",
    "\n",
    "matplotlib.pyplot.scatter(x, y)  # affichage de points"
   ]
  },
  {
   "cell_type": "code",
   "execution_count": null,
   "metadata": {
    "slideshow": {
     "slide_type": "subslide"
    }
   },
   "outputs": [],
   "source": [
    "import matplotlib.pyplot\n",
    "\n",
    "matplotlib.pyplot.plot(x, y)  # affichage de points reliés par un segment"
   ]
  },
  {
   "cell_type": "markdown",
   "metadata": {
    "slideshow": {
     "slide_type": "skip"
    }
   },
   "source": [
    "[Plus de détails sur matplotlib ici](https://matplotlib.org/)"
   ]
  },
  {
   "cell_type": "markdown",
   "metadata": {
    "slideshow": {
     "slide_type": "slide"
    }
   },
   "source": [
    "### numpy (calculs scientifiques)"
   ]
  },
  {
   "cell_type": "markdown",
   "metadata": {
    "slideshow": {
     "slide_type": "-"
    }
   },
   "source": [
    "> pour l'installer : `pip install numpy`"
   ]
  },
  {
   "cell_type": "code",
   "execution_count": null,
   "metadata": {
    "slideshow": {
     "slide_type": "subslide"
    }
   },
   "outputs": [],
   "source": [
    "import numpy\n",
    "\n",
    "x = numpy.array(x)\n",
    "y = numpy.array(y)"
   ]
  },
  {
   "cell_type": "code",
   "execution_count": null,
   "metadata": {
    "slideshow": {
     "slide_type": "subslide"
    }
   },
   "outputs": [],
   "source": [
    "import matplotlib\n",
    "import matplotlib.pyplot\n",
    "\n",
    "matplotlib.pyplot.scatter(x, y)"
   ]
  },
  {
   "cell_type": "markdown",
   "metadata": {
    "slideshow": {
     "slide_type": "subslide"
    }
   },
   "source": [
    "`numpy` permet des opérations terme à terme sur les `array`."
   ]
  },
  {
   "cell_type": "code",
   "execution_count": null,
   "metadata": {
    "slideshow": {
     "slide_type": "fragment"
    }
   },
   "outputs": [],
   "source": [
    "x - y  # soustraction terme à terme"
   ]
  },
  {
   "cell_type": "code",
   "execution_count": null,
   "metadata": {
    "slideshow": {
     "slide_type": "fragment"
    }
   },
   "outputs": [],
   "source": [
    "x**2  # exponentiation terme à terme"
   ]
  },
  {
   "cell_type": "code",
   "execution_count": null,
   "metadata": {
    "slideshow": {
     "slide_type": "fragment"
    }
   },
   "outputs": [],
   "source": [
    "x < 5  # test terme à terme"
   ]
  },
  {
   "cell_type": "code",
   "execution_count": null,
   "metadata": {
    "slideshow": {
     "slide_type": "subslide"
    }
   },
   "outputs": [],
   "source": [
    "x.sum()  # somme sur tous les termes"
   ]
  },
  {
   "cell_type": "code",
   "execution_count": null,
   "metadata": {
    "slideshow": {
     "slide_type": "fragment"
    }
   },
   "outputs": [],
   "source": [
    "x.cumsum()  # somme cumulée"
   ]
  },
  {
   "cell_type": "code",
   "execution_count": null,
   "metadata": {
    "slideshow": {
     "slide_type": "subslide"
    }
   },
   "outputs": [],
   "source": [
    "data = numpy.stack((x, y), axis=-1)  # empilement"
   ]
  },
  {
   "cell_type": "code",
   "execution_count": null,
   "metadata": {
    "slideshow": {
     "slide_type": "fragment"
    }
   },
   "outputs": [],
   "source": [
    "data"
   ]
  },
  {
   "cell_type": "code",
   "execution_count": null,
   "metadata": {
    "slideshow": {
     "slide_type": "fragment"
    }
   },
   "outputs": [],
   "source": [
    "data[3,1]"
   ]
  },
  {
   "cell_type": "markdown",
   "metadata": {
    "slideshow": {
     "slide_type": "skip"
    }
   },
   "source": [
    "[Plus de détails sur numpy ici](http://www.numpy.org/)"
   ]
  },
  {
   "cell_type": "markdown",
   "metadata": {
    "slideshow": {
     "slide_type": "slide"
    }
   },
   "source": [
    "### scikit (calculs scientifiques)"
   ]
  },
  {
   "cell_type": "markdown",
   "metadata": {
    "slideshow": {
     "slide_type": "-"
    }
   },
   "source": [
    "> pour l'installer : \n",
    "- `pip install scipy`\n",
    "- `pip install sklearn`"
   ]
  },
  {
   "cell_type": "code",
   "execution_count": null,
   "metadata": {
    "slideshow": {
     "slide_type": "subslide"
    }
   },
   "outputs": [],
   "source": [
    "import matplotlib\n",
    "import matplotlib.pyplot\n",
    "\n",
    "matplotlib.pyplot.scatter(x, y)"
   ]
  },
  {
   "cell_type": "markdown",
   "metadata": {},
   "source": [
    "Nous allons essayer d'estimer la droite qui passe par ces points à l'aide d'une régression linéaire."
   ]
  },
  {
   "cell_type": "code",
   "execution_count": null,
   "metadata": {
    "slideshow": {
     "slide_type": "subslide"
    }
   },
   "outputs": [],
   "source": [
    "from sklearn import linear_model\n",
    "\n",
    "import numpy as np\n",
    "\n",
    "regr = linear_model.LinearRegression()\n",
    "regr.fit(x[:, np.newaxis], y)"
   ]
  },
  {
   "cell_type": "code",
   "execution_count": null,
   "metadata": {
    "slideshow": {
     "slide_type": "fragment"
    }
   },
   "outputs": [],
   "source": [
    "# x doit être une matrice de taille [n_exemples, n_features] d'où\n",
    "x[:, np.newaxis]"
   ]
  },
  {
   "cell_type": "code",
   "execution_count": null,
   "metadata": {
    "slideshow": {
     "slide_type": "fragment"
    }
   },
   "outputs": [],
   "source": [
    "regr.predict(15)"
   ]
  },
  {
   "cell_type": "code",
   "execution_count": null,
   "metadata": {
    "slideshow": {
     "slide_type": "subslide"
    }
   },
   "outputs": [],
   "source": [
    "import matplotlib.pyplot as plt\n",
    "import numpy as np\n",
    "\n",
    "x_cherche = np.linspace(20, 30, 5)  # Crée un array de 5 valeurs équitablement réparties entre les valeurs 20 et 30\n",
    "\n",
    "plt.scatter(x_cherche, regr.predict(x_cherche[:, np.newaxis]), color=\"black\")\n",
    "plt.plot(x_cherche, regr.predict(x_cherche[:, np.newaxis]), color=\"black\", linewidth=0.5)\n",
    "plt.plot(x, y)\n",
    "plt.show()"
   ]
  },
  {
   "cell_type": "markdown",
   "metadata": {
    "slideshow": {
     "slide_type": "skip"
    }
   },
   "source": [
    "[Plus de détails sur scikit ici](http://scikit-learn.org/stable/#)"
   ]
  },
  {
   "cell_type": "markdown",
   "metadata": {
    "slideshow": {
     "slide_type": "slide"
    }
   },
   "source": [
    "### Tensorflow (apprentissage profond - réseaux de neurones)"
   ]
  },
  {
   "cell_type": "markdown",
   "metadata": {},
   "source": [
    "> pour l'installer : `pip install tensorflow`"
   ]
  },
  {
   "attachments": {
    "reseau_de_neurones.png": {
     "image/png": "[encoded data removed]"
    }
   },
   "cell_type": "markdown",
   "metadata": {
    "slideshow": {
     "slide_type": "subslide"
    }
   },
   "source": [
    "<center>*Un réseau de neurones*</center>\n",
    "\n",
    "![reseau_de_neurones.png](attachment:reseau_de_neurones.png)"
   ]
  },
  {
   "attachments": {
    "structure_d_un_neurone.png": {
     "image/png": "[encoded data removed]"
    }
   },
   "cell_type": "markdown",
   "metadata": {
    "slideshow": {
     "slide_type": "subslide"
    }
   },
   "source": [
    "<center>*Un neurone*</center>\n",
    "\n",
    "![structure_d_un_neurone.png](attachment:structure_d_un_neurone.png)"
   ]
  },
  {
   "cell_type": "code",
   "execution_count": null,
   "metadata": {
    "slideshow": {
     "slide_type": "subslide"
    }
   },
   "outputs": [],
   "source": [
    "import tensorflow as tf\n",
    "import random\n",
    "\n",
    "# Parametres\n",
    "learning_rate = 0.01\n",
    "training_epochs = 1000\n",
    "display_step = 100\n",
    "\n",
    "# Entrées du graphe tensorflow\n",
    "X = tf.placeholder(\"float\")\n",
    "Y = tf.placeholder(\"float\")\n",
    "n_samples = x.shape[0]\n",
    "\n",
    "# Définitions des poids initiaux du modèle\n",
    "W = tf.Variable(random.random(), name=\"weight\")\n",
    "b = tf.Variable(random.random(), name=\"bias\")\n",
    "\n",
    "# Construction d'un modèle linéaire\n",
    "pred = tf.add(tf.multiply(X, W), b)"
   ]
  },
  {
   "cell_type": "code",
   "execution_count": null,
   "metadata": {
    "slideshow": {
     "slide_type": "subslide"
    }
   },
   "outputs": [],
   "source": [
    "# Il ne reste plus qu'à définir notre stratégie d'apprentissage.\n",
    "\n",
    "# Erreur moyenne quadratique (notre fonction coût à minimiser)\n",
    "cost = tf.reduce_sum(tf.pow(pred - Y, 2)) / n_samples\n",
    "\n",
    "# Optimisation par descente de gradient (notre façon de trouver comment modifier les paramètres du modèle)\n",
    "optimizer = tf.train.GradientDescentOptimizer(learning_rate).minimize(cost)\n",
    "\n",
    "# Initialisation des variables (leur associe leur valeur par défaut)\n",
    "init = tf.global_variables_initializer()"
   ]
  },
  {
   "cell_type": "code",
   "execution_count": null,
   "metadata": {
    "scrolled": true,
    "slideshow": {
     "slide_type": "subslide"
    }
   },
   "outputs": [],
   "source": [
    "# Début de l'entraînement\n",
    "with tf.Session() as sess:\n",
    "    sess.run(init)\n",
    "\n",
    "    # Parcours de toutes les données d'entraînement\n",
    "    for epoch in range(training_epochs):\n",
    "        for x_i, y_i in zip(x, y):\n",
    "            sess.run(optimizer, feed_dict={X: x_i, Y: y_i})\n",
    "\n",
    "        # Affiche un retour par pas de display_step epochs\n",
    "        if (epoch + 1) % display_step == 0:\n",
    "            c = sess.run(cost, feed_dict={X: x, Y:y})\n",
    "            print(\"Epoch : {:04d}, coût = {:.9f}, W = {:.9f}, b = {:.9f}\".format(epoch + 1, c, sess.run(W), sess.run(b)))\n",
    "\n",
    "    print(\"Optimisation terminée!\")\n",
    "    training_cost = sess.run(cost, feed_dict={X: x, Y: y})\n",
    "    W_estimated = sess.run(W)\n",
    "    b_estimated = sess.run(b)\n",
    "    print(\"Coût = {}, W = {}, b = {}\".format(training_cost, W_estimated, b_estimated))"
   ]
  },
  {
   "cell_type": "code",
   "execution_count": null,
   "metadata": {
    "slideshow": {
     "slide_type": "subslide"
    }
   },
   "outputs": [],
   "source": [
    "# Affichage de la prédiction\n",
    "plt.plot(x, y, \"ro\", label=\"Données originales\")\n",
    "plt.plot(x, W_estimated * x + b_estimated, label=\"Données estimées avec tensorflow\")\n",
    "plt.legend()\n",
    "plt.show()"
   ]
  },
  {
   "cell_type": "markdown",
   "metadata": {
    "slideshow": {
     "slide_type": "skip"
    }
   },
   "source": [
    "[Plus de détails sur tensorflow ici](https://www.tensorflow.org/)"
   ]
  },
  {
   "cell_type": "markdown",
   "metadata": {
    "slideshow": {
     "slide_type": "subslide"
    }
   },
   "source": [
    "### keras (apprentissage profond - réseaux de neurones)"
   ]
  },
  {
   "cell_type": "markdown",
   "metadata": {
    "slideshow": {
     "slide_type": "-"
    }
   },
   "source": [
    "> pour l'installer : `pip install keras`"
   ]
  },
  {
   "cell_type": "code",
   "execution_count": null,
   "metadata": {
    "slideshow": {
     "slide_type": "fragment"
    }
   },
   "outputs": [],
   "source": [
    "import numpy as np\n",
    "np.random.seed(21) # for reproducibility"
   ]
  },
  {
   "cell_type": "code",
   "execution_count": null,
   "metadata": {
    "slideshow": {
     "slide_type": "subslide"
    }
   },
   "outputs": [],
   "source": [
    "from keras.models import Sequential\n",
    "from keras.layers import Dense\n",
    "\n",
    "# Création du modèle\n",
    "model = Sequential()\n",
    "model.add(Dense(units=1, activation=\"relu\", input_dim=1))  # Utilisation d'un seul neuronne\n",
    "model.compile(loss=\"mean_squared_error\", optimizer=\"sgd\")  # Optimisation par descente de gradient stochastique\n",
    "\n",
    "model.fit(x, y, epochs=1500, batch_size=10, verbose=0)"
   ]
  },
  {
   "cell_type": "code",
   "execution_count": null,
   "metadata": {
    "slideshow": {
     "slide_type": "fragment"
    }
   },
   "outputs": [],
   "source": [
    "model.evaluate(x, y)  # évaluation de la précision du modèle"
   ]
  },
  {
   "cell_type": "code",
   "execution_count": null,
   "metadata": {
    "slideshow": {
     "slide_type": "subslide"
    }
   },
   "outputs": [],
   "source": [
    "model.predict([30])  # prédiction sur une valeur"
   ]
  },
  {
   "cell_type": "code",
   "execution_count": null,
   "metadata": {
    "slideshow": {
     "slide_type": "fragment"
    }
   },
   "outputs": [],
   "source": [
    "plt.plot(x, y, \"ro\", label=\"Données originales\")\n",
    "plt.plot(x, model.predict(x), label=\"Données estimées avec keras\")\n",
    "plt.legend()\n",
    "plt.show()"
   ]
  },
  {
   "cell_type": "code",
   "execution_count": null,
   "metadata": {
    "slideshow": {
     "slide_type": "fragment"
    }
   },
   "outputs": [],
   "source": [
    "for layer in model.layers:\n",
    "    print(layer.get_weights()) # affichage des poids pour chaque couche"
   ]
  },
  {
   "cell_type": "markdown",
   "metadata": {
    "slideshow": {
     "slide_type": "subslide"
    }
   },
   "source": [
    "#### Exemple sur une fonction non linéaire "
   ]
  },
  {
   "cell_type": "code",
   "execution_count": null,
   "metadata": {
    "slideshow": {
     "slide_type": "fragment"
    }
   },
   "outputs": [],
   "source": [
    "def une_fonction_inconnue(nb_points, b_min=-20, b_max=20):\n",
    "    data_x = []\n",
    "    data_y = []\n",
    "    for p in np.linspace(b_min, b_max, nb_points):\n",
    "        data_x.append(p)\n",
    "        output = p**2 + random.uniform(-5, 5)  # génération de données un peu bruitées\n",
    "        data_y.append(int(round(output, 0)))\n",
    "    return (data_x, data_y)\n",
    "        \n",
    "x, y = une_fonction_inconnue(500)"
   ]
  },
  {
   "cell_type": "code",
   "execution_count": null,
   "metadata": {
    "slideshow": {
     "slide_type": "fragment"
    }
   },
   "outputs": [],
   "source": [
    "plt.scatter(x, y, s=1)\n",
    "plt.show()"
   ]
  },
  {
   "cell_type": "code",
   "execution_count": null,
   "metadata": {
    "slideshow": {
     "slide_type": "subslide"
    }
   },
   "outputs": [],
   "source": [
    "model.fit(x, y, epochs=10, batch_size=10, verbose=0)  # ré-entrainement du modèle\n",
    "\n",
    "plt.plot(x, y, \"r.\", label=\"Données originales\")\n",
    "plt.plot(x, model.predict(x), label=\"Données estimées avec keras\")\n",
    "plt.legend()\n",
    "plt.show()"
   ]
  },
  {
   "cell_type": "markdown",
   "metadata": {
    "slideshow": {
     "slide_type": "fragment"
    }
   },
   "source": [
    "On constate que le modèle linéaire avec un seul neurone est loin d'être suffisant. Nous voyons également l'allure de la fonction d'activation. Ajoutons des neurones à notre modèle."
   ]
  },
  {
   "cell_type": "code",
   "execution_count": null,
   "metadata": {
    "scrolled": true,
    "slideshow": {
     "slide_type": "subslide"
    }
   },
   "outputs": [],
   "source": [
    "from keras.models import Sequential\n",
    "from keras.layers import Dense\n",
    "from keras.layers import Dropout\n",
    "\n",
    "model = Sequential()\n",
    "model.add(Dense(units=1, activation=\"selu\", input_dim=1))\n",
    "model.add(Dense(units=64, activation=\"selu\"))\n",
    "model.add(Dropout(0.1))  # ignore aléatoirement 10% des neurones de la couche précédente à chaque époch (renforce la robustesse)\n",
    "model.add(Dense(units=64, activation=\"sigmoid\"))\n",
    "model.add(Dropout(0.1))\n",
    "model.add(Dense(units=64, activation=\"elu\"))\n",
    "model.add(Dropout(0.1))\n",
    "model.add(Dense(units=64, activation=\"selu\"))\n",
    "model.add(Dropout(0.1))\n",
    "model.add(Dense(units=1, activation=\"selu\"))\n",
    "model.compile(loss=\"mean_squared_error\", optimizer=\"adam\")\n",
    "\n",
    "model.fit(x, y, epochs=300, batch_size=20, verbose=0)"
   ]
  },
  {
   "cell_type": "code",
   "execution_count": null,
   "metadata": {
    "slideshow": {
     "slide_type": "subslide"
    }
   },
   "outputs": [],
   "source": [
    "model.summary()"
   ]
  },
  {
   "cell_type": "code",
   "execution_count": null,
   "metadata": {
    "slideshow": {
     "slide_type": "subslide"
    }
   },
   "outputs": [],
   "source": [
    "plt.scatter(x, y, color=\"r\", label=\"Données originales\")\n",
    "plt.scatter(x, model.predict(x), label=\"Données estimées avec keras\")\n",
    "plt.legend()\n",
    "plt.show()"
   ]
  },
  {
   "cell_type": "markdown",
   "metadata": {
    "slideshow": {
     "slide_type": "fragment"
    }
   },
   "source": [
    "Félicitations, votre modèle semble avoir correctement appris sur vos données."
   ]
  },
  {
   "cell_type": "markdown",
   "metadata": {
    "slideshow": {
     "slide_type": "subslide"
    }
   },
   "source": [
    "> Votre modèle a-t-il vraiment réussi à retrouver la fonction x² ?"
   ]
  },
  {
   "cell_type": "code",
   "execution_count": null,
   "metadata": {
    "slideshow": {
     "slide_type": "fragment"
    }
   },
   "outputs": [],
   "source": [
    "test_x = np.linspace(-100, 100, 50)\n",
    "plt.scatter(x, y, color=\"r\", label=\"Original data\")\n",
    "plt.scatter(test_x, model.predict(test_x), label=\"Fitted line\")\n",
    "plt.legend()\n",
    "plt.show()"
   ]
  },
  {
   "cell_type": "markdown",
   "metadata": {
    "slideshow": {
     "slide_type": "skip"
    }
   },
   "source": [
    "[Plus de détails sur keras ici](https://keras.io/)"
   ]
  },
  {
   "cell_type": "markdown",
   "metadata": {
    "slideshow": {
     "slide_type": "slide"
    }
   },
   "source": [
    "### networkx (graphe)"
   ]
  },
  {
   "cell_type": "markdown",
   "metadata": {},
   "source": [
    "> pour l'installer : `pip install networkx`"
   ]
  },
  {
   "cell_type": "code",
   "execution_count": null,
   "metadata": {
    "slideshow": {
     "slide_type": "subslide"
    }
   },
   "outputs": [],
   "source": [
    "import networkx as nx\n",
    "\n",
    "# Création du graphe\n",
    "G = nx.Graph()\n",
    "G.add_node(1)\n",
    "G.add_nodes_from([2, 3])\n",
    "G.add_edge(1, 3)\n",
    "\n",
    "# Affichage du graphe\n",
    "nx.draw(G, with_labels=True)\n",
    "plt.draw()"
   ]
  },
  {
   "cell_type": "code",
   "execution_count": null,
   "metadata": {
    "slideshow": {
     "slide_type": "subslide"
    }
   },
   "outputs": [],
   "source": [
    "import networkx as nx\n",
    "G=nx.complete_graph(3)\n",
    "\n",
    "nx.draw(G, with_labels=True)\n",
    "plt.draw()"
   ]
  },
  {
   "cell_type": "markdown",
   "metadata": {
    "slideshow": {
     "slide_type": "subslide"
    }
   },
   "source": [
    "> À partir du noeud 1, quel est le circuit à suivre pour passer sur chacune des routes une et une seule fois ?"
   ]
  },
  {
   "cell_type": "code",
   "execution_count": null,
   "metadata": {
    "slideshow": {
     "slide_type": "fragment"
    }
   },
   "outputs": [],
   "source": [
    "list(nx.eulerian_circuit(G, source=1))"
   ]
  },
  {
   "cell_type": "code",
   "execution_count": null,
   "metadata": {
    "slideshow": {
     "slide_type": "subslide"
    }
   },
   "outputs": [],
   "source": [
    "import networkx as nx\n",
    "\n",
    "G=nx.complete_graph(3)\n",
    "G.add_node(3)\n",
    "G.add_node(4)\n",
    "G.add_edge(1, 3)\n",
    "G.add_edge(3, 4)\n",
    "\n",
    "nx.draw(G, with_labels=True)\n",
    "plt.draw()"
   ]
  },
  {
   "cell_type": "markdown",
   "metadata": {
    "slideshow": {
     "slide_type": "subslide"
    }
   },
   "source": [
    "> Quel est le plus court chemin pour rejoindre le noeud 4 à partir du noeud 0?"
   ]
  },
  {
   "cell_type": "code",
   "execution_count": null,
   "metadata": {
    "slideshow": {
     "slide_type": "fragment"
    }
   },
   "outputs": [],
   "source": [
    "nx.dijkstra_path(G, 0, 4)"
   ]
  },
  {
   "cell_type": "markdown",
   "metadata": {
    "slideshow": {
     "slide_type": "skip"
    }
   },
   "source": [
    "[Plus de détails sur networkx ici](https://networkx.github.io/)"
   ]
  },
  {
   "cell_type": "markdown",
   "metadata": {
    "slideshow": {
     "slide_type": "slide"
    }
   },
   "source": [
    "### pil (traitement d'images)"
   ]
  },
  {
   "cell_type": "markdown",
   "metadata": {},
   "source": [
    "> pour l'installer : `pip install pillow`"
   ]
  },
  {
   "cell_type": "code",
   "execution_count": null,
   "metadata": {
    "slideshow": {
     "slide_type": "subslide"
    }
   },
   "outputs": [],
   "source": [
    "from PIL import Image\n",
    "image = Image.open(\"data/image/maison.jpg\")"
   ]
  },
  {
   "cell_type": "code",
   "execution_count": null,
   "metadata": {
    "slideshow": {
     "slide_type": "fragment"
    }
   },
   "outputs": [],
   "source": [
    "image.format"
   ]
  },
  {
   "cell_type": "code",
   "execution_count": null,
   "metadata": {
    "slideshow": {
     "slide_type": "fragment"
    }
   },
   "outputs": [],
   "source": [
    "image.mode"
   ]
  },
  {
   "cell_type": "code",
   "execution_count": null,
   "metadata": {
    "slideshow": {
     "slide_type": "fragment"
    }
   },
   "outputs": [],
   "source": [
    "image.size"
   ]
  },
  {
   "cell_type": "code",
   "execution_count": null,
   "metadata": {
    "slideshow": {
     "slide_type": "fragment"
    }
   },
   "outputs": [],
   "source": [
    "import matplotlib.pyplot\n",
    "import numpy as np\n",
    "\n",
    "matplotlib.pyplot.imshow(np.asarray(image))"
   ]
  },
  {
   "cell_type": "code",
   "execution_count": null,
   "metadata": {
    "slideshow": {
     "slide_type": "subslide"
    }
   },
   "outputs": [],
   "source": [
    "from PIL import ImageFilter\n",
    "\n",
    "image.filter(ImageFilter.CONTOUR)"
   ]
  },
  {
   "cell_type": "code",
   "execution_count": null,
   "metadata": {
    "slideshow": {
     "slide_type": "subslide"
    }
   },
   "outputs": [],
   "source": [
    "from PIL import ImageOps\n",
    "\n",
    "ImageOps.autocontrast(image)"
   ]
  },
  {
   "cell_type": "code",
   "execution_count": null,
   "metadata": {
    "slideshow": {
     "slide_type": "subslide"
    }
   },
   "outputs": [],
   "source": [
    "from PIL import ImageOps\n",
    "\n",
    "ImageOps.equalize(image)"
   ]
  },
  {
   "cell_type": "code",
   "execution_count": null,
   "metadata": {
    "slideshow": {
     "slide_type": "subslide"
    }
   },
   "outputs": [],
   "source": [
    "from PIL import ImageOps\n",
    "\n",
    "ImageOps.grayscale(image)"
   ]
  },
  {
   "cell_type": "markdown",
   "metadata": {
    "slideshow": {
     "slide_type": "skip"
    }
   },
   "source": [
    "[Plus de détails sur PIL ici](https://pillow.readthedocs.io/en/latest/)"
   ]
  },
  {
   "cell_type": "markdown",
   "metadata": {
    "slideshow": {
     "slide_type": "slide"
    }
   },
   "source": [
    "### skimage (traitement d'images)"
   ]
  },
  {
   "cell_type": "markdown",
   "metadata": {
    "slideshow": {
     "slide_type": "-"
    }
   },
   "source": [
    "> pour l'installer : `pip install scikit-image`"
   ]
  },
  {
   "cell_type": "markdown",
   "metadata": {
    "slideshow": {
     "slide_type": "subslide"
    }
   },
   "source": [
    "#### Détection de voitures"
   ]
  },
  {
   "cell_type": "markdown",
   "metadata": {
    "slideshow": {
     "slide_type": "fragment"
    }
   },
   "source": [
    "> On souhaite avoir un détecteur de voiture par comparaison d'images."
   ]
  },
  {
   "cell_type": "code",
   "execution_count": null,
   "metadata": {
    "slideshow": {
     "slide_type": "subslide"
    }
   },
   "outputs": [],
   "source": [
    "from skimage.feature import match_template\n",
    "from skimage import io\n",
    "from skimage import color\n",
    "\n",
    "image = io.imread(\"data/image/maison.jpg\")\n",
    "image = color.rgb2gray(image)\n",
    "\n",
    "template = image[170:260, 50:160]"
   ]
  },
  {
   "cell_type": "code",
   "execution_count": null,
   "metadata": {
    "slideshow": {
     "slide_type": "subslide"
    }
   },
   "outputs": [],
   "source": [
    "fig, axes = plt.subplots(ncols=2, figsize=(12, 5))\n",
    "ax1, ax2 = axes.ravel()\n",
    "\n",
    "ax1.imshow(image, cmap=plt.cm.gray)\n",
    "ax1.set_title(\"image\")\n",
    "ax1.set_axis_off()\n",
    "\n",
    "ax2.imshow(template, cmap=plt.cm.gray)\n",
    "ax2.set_title(\"template\")\n",
    "ax2.set_axis_off()"
   ]
  },
  {
   "cell_type": "code",
   "execution_count": null,
   "metadata": {
    "slideshow": {
     "slide_type": "subslide"
    }
   },
   "outputs": [],
   "source": [
    "result = match_template(image, template)\n",
    "\n",
    "# récupération des coordonnées de la meilleure correspondance\n",
    "y, x = np.unravel_index(np.argmax(result), result.shape)  # argmax récupère le maximum global --> on obtient qu'un seul résultat\n",
    "\n",
    "# highlight matched region\n",
    "h_template, w_template = template.shape"
   ]
  },
  {
   "cell_type": "code",
   "execution_count": null,
   "metadata": {
    "slideshow": {
     "slide_type": "subslide"
    }
   },
   "outputs": [],
   "source": [
    "fig, axes = plt.subplots(ncols=2, figsize=(12, 5), sharex=True, sharey=True)\n",
    "ax1, ax2, = axes.ravel()\n",
    "\n",
    "ax1.set_title(\"match_template\")\n",
    "ax1.imshow(result)\n",
    "ax1.plot(x, y, \"o\", markeredgecolor=\"r\", markerfacecolor=\"none\", markersize=10) # highlight matched region\n",
    "ax1.set_axis_off()\n",
    "\n",
    "ax2.set_title(\"detection\")\n",
    "ax2.imshow(image, cmap=plt.cm.gray)\n",
    "rect = plt.Rectangle((x, y), w_template, h_template, edgecolor=\"r\", facecolor=\"none\")\n",
    "ax2.add_patch(rect)\n",
    "ax2.set_axis_off()\n",
    "\n",
    "plt.show()"
   ]
  },
  {
   "cell_type": "markdown",
   "metadata": {
    "slideshow": {
     "slide_type": "subslide"
    }
   },
   "source": [
    "#### segmentation d'images (utilisation de skimage & PIL)"
   ]
  },
  {
   "cell_type": "code",
   "execution_count": null,
   "metadata": {
    "slideshow": {
     "slide_type": "subslide"
    }
   },
   "outputs": [],
   "source": [
    "import numpy as np\n",
    "\n",
    "from skimage.morphology import watershed\n",
    "from skimage.feature import peak_local_max\n",
    "from scipy import ndimage\n",
    "\n",
    "from PIL import Image\n",
    "from PIL import ImageFilter\n",
    "from PIL import ImageOps\n",
    "\n",
    "import matplotlib.pyplot as plt"
   ]
  },
  {
   "cell_type": "code",
   "execution_count": null,
   "metadata": {
    "slideshow": {
     "slide_type": "subslide"
    }
   },
   "outputs": [],
   "source": [
    "# traitement rapide de l'image avec PIL\n",
    "image = Image.open(\"data/image/maison.jpg\")\n",
    "image = image.filter(ImageFilter.CONTOUR)\n",
    "image = ImageOps.grayscale(image)\n",
    "\n",
    "image = np.asarray(image)  # conversion de l'image en array numpy (pour pouvoir l'utiliser avec le module skimage)\n",
    "\n",
    "# génération de la carte de distance par rapport à l'arrière plan\n",
    "distance = ndimage.distance_transform_edt(image)\n",
    "\n",
    "# récupération des maxima locaux\n",
    "local_maxi = peak_local_max(distance, indices=False, footprint=np.ones((4, 4)), labels=image)\n",
    "markers, nb_objects = ndimage.label(local_maxi)\n",
    "print(\"{} éléments trouvés\".format(nb_objects))\n",
    "labels = watershed(-distance, markers, mask=image)"
   ]
  },
  {
   "cell_type": "code",
   "execution_count": null,
   "metadata": {
    "slideshow": {
     "slide_type": "subslide"
    }
   },
   "outputs": [],
   "source": [
    "fig, axes = plt.subplots(ncols=3, figsize=(12, 4), sharex=True, sharey=True)\n",
    "ax = axes.ravel()\n",
    "\n",
    "ax[0].imshow(image, cmap=plt.cm.gray, interpolation=\"nearest\")\n",
    "ax[0].set_title(\"Image à segmenter\")\n",
    "ax[0].set_axis_off()\n",
    "\n",
    "ax[1].imshow(-distance, cmap=plt.cm.gray, interpolation=\"nearest\")\n",
    "ax[1].set_title(\"Carte des distances\")\n",
    "ax[1].set_axis_off()\n",
    "\n",
    "ax[2].imshow(labels, cmap=plt.cm.Spectral, interpolation=\"nearest\")\n",
    "ax[2].set_title(\"Image segmentée\")\n",
    "ax[2].set_axis_off()\n",
    "\n",
    "fig.tight_layout()\n",
    "plt.show()"
   ]
  },
  {
   "cell_type": "code",
   "execution_count": null,
   "metadata": {
    "slideshow": {
     "slide_type": "subslide"
    }
   },
   "outputs": [],
   "source": [
    "from skimage.morphology import closing\n",
    "from skimage.morphology import opening\n",
    "\n",
    "filtered_labels_opening_closing = opening(closing(labels))\n",
    "filtered_labels_closing_opening = closing(opening(labels))"
   ]
  },
  {
   "cell_type": "code",
   "execution_count": null,
   "metadata": {
    "slideshow": {
     "slide_type": "subslide"
    }
   },
   "outputs": [],
   "source": [
    "fig, axes = plt.subplots(ncols=3, figsize=(16, 4), sharex=True, sharey=True)\n",
    "ax = axes.ravel()\n",
    "\n",
    "ax[0].imshow(labels, cmap=plt.cm.Spectral, interpolation=\"nearest\")\n",
    "ax[0].set_title(\"Image segmentée\")\n",
    "ax[0].set_axis_off()\n",
    "\n",
    "ax[1].imshow(filtered_labels_opening_closing, cmap=plt.cm.Spectral, interpolation=\"nearest\")\n",
    "ax[1].set_title(\"Fermeture puis ouverture\")\n",
    "ax[1].set_axis_off()\n",
    "\n",
    "ax[2].imshow(filtered_labels_closing_opening, cmap=plt.cm.Spectral, interpolation=\"nearest\")\n",
    "ax[2].set_title(\"Ouverture puis fermeture\")\n",
    "ax[2].set_axis_off()\n",
    "\n",
    "fig.tight_layout()\n",
    "plt.show()"
   ]
  },
  {
   "cell_type": "markdown",
   "metadata": {
    "slideshow": {
     "slide_type": "subslide"
    }
   },
   "source": [
    "#### segmentation d'images (utilisation de skimage)"
   ]
  },
  {
   "cell_type": "code",
   "execution_count": null,
   "metadata": {
    "slideshow": {
     "slide_type": "subslide"
    }
   },
   "outputs": [],
   "source": [
    "from scipy import ndimage\n",
    "\n",
    "from skimage import io\n",
    "from skimage.color import rgb2gray\n",
    "from skimage.filters import rank\n",
    "from skimage.morphology import watershed, disk\n",
    "\n",
    "image = io.imread(\"data/image/maison.jpg\")\n",
    "image = rgb2gray(image)\n",
    "\n",
    "# débruitage de l'image\n",
    "denoised = rank.median(image, disk(2))"
   ]
  },
  {
   "cell_type": "code",
   "execution_count": null,
   "metadata": {
    "slideshow": {
     "slide_type": "subslide"
    }
   },
   "outputs": [],
   "source": [
    "plt.imshow(np.asarray(denoised), cmap=plt.cm.gray)\n",
    "plt.show()"
   ]
  },
  {
   "cell_type": "code",
   "execution_count": null,
   "metadata": {
    "slideshow": {
     "slide_type": "subslide"
    }
   },
   "outputs": [],
   "source": [
    "# trouve les régions continues (de faible gradient (moins de 8 ici)) --> markers \n",
    "# disk(5) est utilisé pour obtenir un gradient lissé\n",
    "gradient = rank.gradient(denoised, disk(5))\n",
    "markers = gradient < 8\n",
    "markers, nb_regions = ndimage.label(markers)\n",
    "print(\"{} régions trouvées\".format(nb_regions))\n",
    "\n",
    "# segmentation\n",
    "labels = watershed(gradient, markers)\n",
    "plt.imshow(np.asarray(labels))\n",
    "plt.show()"
   ]
  },
  {
   "cell_type": "code",
   "execution_count": null,
   "metadata": {
    "slideshow": {
     "slide_type": "subslide"
    }
   },
   "outputs": [],
   "source": [
    "fig, axes = plt.subplots(nrows=2, ncols=2, figsize=(8, 8), sharex=True, sharey=True)\n",
    "ax = axes.ravel()\n",
    "\n",
    "ax[0].imshow(image, cmap=plt.cm.gray, interpolation=\"nearest\")\n",
    "ax[0].set_title(\"Original\")\n",
    "\n",
    "ax[1].imshow(gradient, cmap=plt.cm.Spectral, interpolation=\"nearest\")\n",
    "ax[1].set_title(\"Gradient local\")\n",
    "\n",
    "ax[2].imshow(markers, cmap=plt.cm.Spectral, interpolation=\"nearest\")\n",
    "ax[2].set_title(\"Marqueurs\")\n",
    "\n",
    "ax[3].imshow(image, cmap=plt.cm.gray, interpolation=\"nearest\")\n",
    "ax[3].imshow(labels, cmap=plt.cm.Spectral, interpolation=\"nearest\", alpha=.7)\n",
    "ax[3].set_title(\"Image segmentée\")\n",
    "\n",
    "for a in ax:\n",
    "    a.set_axis_off()\n",
    "\n",
    "fig.tight_layout()\n",
    "plt.show()"
   ]
  },
  {
   "cell_type": "markdown",
   "metadata": {
    "slideshow": {
     "slide_type": "skip"
    }
   },
   "source": [
    "[Plus de détails sur skimage ici](http://scikit-image.org/)"
   ]
  },
  {
   "cell_type": "markdown",
   "metadata": {
    "slideshow": {
     "slide_type": "slide"
    }
   },
   "source": [
    "### opencv (traitement d'images)"
   ]
  },
  {
   "cell_type": "markdown",
   "metadata": {},
   "source": [
    "> pour l'installer : `pip install opencv-contrib-python`"
   ]
  },
  {
   "cell_type": "code",
   "execution_count": null,
   "metadata": {
    "slideshow": {
     "slide_type": "subslide"
    }
   },
   "outputs": [],
   "source": [
    "import cv2\n",
    "import numpy as np\n",
    "\n",
    "img = cv2.imread(\"data/image/maison.jpg\")\n",
    "gray= cv2.cvtColor(img,cv2.COLOR_BGR2GRAY)"
   ]
  },
  {
   "cell_type": "markdown",
   "metadata": {
    "slideshow": {
     "slide_type": "subslide"
    }
   },
   "source": [
    "> On souhaite détecter automatiquement les points d'intérêts sur notre image"
   ]
  },
  {
   "cell_type": "code",
   "execution_count": null,
   "metadata": {
    "slideshow": {
     "slide_type": "fragment"
    }
   },
   "outputs": [],
   "source": [
    "sift = cv2.xfeatures2d.SIFT_create()\n",
    "(kp, descs1) = sift.detectAndCompute(img, None)\n",
    "img=cv2.drawKeypoints(gray,kp,img)"
   ]
  },
  {
   "cell_type": "code",
   "execution_count": null,
   "metadata": {
    "slideshow": {
     "slide_type": "fragment"
    }
   },
   "outputs": [],
   "source": [
    "from matplotlib import pyplot as plt\n",
    "plt.imshow(img)\n",
    "plt.show()"
   ]
  },
  {
   "cell_type": "markdown",
   "metadata": {
    "slideshow": {
     "slide_type": "skip"
    }
   },
   "source": [
    "[Plus de détails sur opencv ici](https://opencv.org/opencv-3-0.html)"
   ]
  },
  {
   "cell_type": "markdown",
   "metadata": {
    "slideshow": {
     "slide_type": "slide"
    }
   },
   "source": [
    "### pandas (analyse de données)"
   ]
  },
  {
   "cell_type": "markdown",
   "metadata": {
    "slideshow": {
     "slide_type": "-"
    }
   },
   "source": [
    "> pour l'installer : `pip install pandas`"
   ]
  },
  {
   "cell_type": "code",
   "execution_count": null,
   "metadata": {
    "slideshow": {
     "slide_type": "subslide"
    }
   },
   "outputs": [],
   "source": [
    "import pandas as pd\n",
    "data = pd.read_csv(\"data/fichiers/liste_d_employes.csv\", encoding=\"utf8\")"
   ]
  },
  {
   "cell_type": "code",
   "execution_count": null,
   "metadata": {
    "slideshow": {
     "slide_type": "fragment"
    }
   },
   "outputs": [],
   "source": [
    "data"
   ]
  },
  {
   "cell_type": "code",
   "execution_count": null,
   "metadata": {
    "slideshow": {
     "slide_type": "subslide"
    }
   },
   "outputs": [],
   "source": [
    "data.sort_values(by=\"annee_de_naissance\")"
   ]
  },
  {
   "cell_type": "code",
   "execution_count": null,
   "metadata": {
    "slideshow": {
     "slide_type": "fragment"
    }
   },
   "outputs": [],
   "source": [
    "data.groupby(\"annee_de_naissance\").size()"
   ]
  },
  {
   "cell_type": "markdown",
   "metadata": {
    "slideshow": {
     "slide_type": "subslide"
    }
   },
   "source": [
    "On dispose d'un fichier `description.csv` contenant la description pour certains employés. On souhaite fusionner ces deux jeux de données."
   ]
  },
  {
   "cell_type": "code",
   "execution_count": null,
   "metadata": {
    "slideshow": {
     "slide_type": "fragment"
    }
   },
   "outputs": [],
   "source": [
    "description = pd.read_csv(\"data/fichiers/description.csv\", encoding=\"utf8\")\n",
    "description"
   ]
  },
  {
   "cell_type": "code",
   "execution_count": null,
   "metadata": {
    "slideshow": {
     "slide_type": "subslide"
    }
   },
   "outputs": [],
   "source": [
    "pd.merge(data, description, on=\"nom\")"
   ]
  },
  {
   "cell_type": "markdown",
   "metadata": {
    "slideshow": {
     "slide_type": "fragment"
    }
   },
   "source": [
    "Ici, nous avons deux problèmes : \n",
    "- On a encore perdu Inex Istant, parce qu'il n'a pas de description.\n",
    "- Nous avons fusionné qu'avec les nom, donc la colonne prénom du fichier `description.csv` est ajoutée. Nous avons donc cette colonne en double. Nous pouvons également utiliser cette colonne *prénom* pour renforcer notre fusion puisque les noms ne sont généralement pas des clés uniques, alors que le couple (nom, prenom) a plus de chance de l'être."
   ]
  },
  {
   "cell_type": "code",
   "execution_count": null,
   "metadata": {
    "slideshow": {
     "slide_type": "subslide"
    }
   },
   "outputs": [],
   "source": [
    "pd.merge(data, description, on=[\"nom\", \"prenom\"], how=\"outer\")"
   ]
  },
  {
   "cell_type": "markdown",
   "metadata": {
    "slideshow": {
     "slide_type": "skip"
    }
   },
   "source": [
    "[Plus de détails sur pandas ici](https://pandas.pydata.org/)"
   ]
  },
  {
   "cell_type": "markdown",
   "metadata": {
    "slideshow": {
     "slide_type": "slide"
    }
   },
   "source": [
    "### nltk (traitement du langage naturel)"
   ]
  },
  {
   "cell_type": "markdown",
   "metadata": {
    "slideshow": {
     "slide_type": "-"
    }
   },
   "source": [
    "> pour l'installer : `pip install nltk`"
   ]
  },
  {
   "cell_type": "code",
   "execution_count": null,
   "metadata": {
    "slideshow": {
     "slide_type": "fragment"
    }
   },
   "outputs": [],
   "source": [
    "import nltk"
   ]
  },
  {
   "cell_type": "markdown",
   "metadata": {
    "slideshow": {
     "slide_type": "subslide"
    }
   },
   "source": [
    "#### distribution de mots"
   ]
  },
  {
   "cell_type": "markdown",
   "metadata": {
    "slideshow": {
     "slide_type": "fragment"
    }
   },
   "source": [
    "> On aimerait analyser les mots qui se retrouvent le plus dans l'ensemble des descriptions."
   ]
  },
  {
   "cell_type": "code",
   "execution_count": null,
   "metadata": {
    "slideshow": {
     "slide_type": "fragment"
    }
   },
   "outputs": [],
   "source": [
    "# concaténation de toutes les lignes de la colonne description avec pandas\n",
    "toute_les_descriptions = description.description.str.cat(sep=\" \")  \n",
    "toute_les_descriptions"
   ]
  },
  {
   "cell_type": "code",
   "execution_count": null,
   "metadata": {
    "slideshow": {
     "slide_type": "subslide"
    }
   },
   "outputs": [],
   "source": [
    "# séparer la ponctuation autre que les points\n",
    "tokenized = nltk.word_tokenize(toute_les_descriptions, language=\"french\")\n",
    "tokenized"
   ]
  },
  {
   "cell_type": "code",
   "execution_count": null,
   "metadata": {
    "slideshow": {
     "slide_type": "subslide"
    }
   },
   "outputs": [],
   "source": [
    "frequency_distribution = nltk.FreqDist(tokenized)"
   ]
  },
  {
   "cell_type": "code",
   "execution_count": null,
   "metadata": {
    "slideshow": {
     "slide_type": "fragment"
    }
   },
   "outputs": [],
   "source": [
    "# le mot qui revient le plus souvent\n",
    "frequency_distribution.max()"
   ]
  },
  {
   "cell_type": "code",
   "execution_count": null,
   "metadata": {
    "slideshow": {
     "slide_type": "fragment"
    }
   },
   "outputs": [],
   "source": [
    "frequency_distribution.most_common(2)  # les n-mots qui reviennent le plus souvent"
   ]
  },
  {
   "cell_type": "markdown",
   "metadata": {
    "slideshow": {
     "slide_type": "subslide"
    }
   },
   "source": [
    "#### la grammaire"
   ]
  },
  {
   "cell_type": "markdown",
   "metadata": {
    "slideshow": {
     "slide_type": "fragment"
    }
   },
   "source": [
    "> On souhaite maintenant extraire tous les adjectifs utilisés dans les descriptions (cela pourrait servir à détecter l'émotivité de nos employés, en supposant qu'il s'agisse d'une auto-description)."
   ]
  },
  {
   "cell_type": "markdown",
   "metadata": {
    "slideshow": {
     "slide_type": "fragment"
    }
   },
   "source": [
    "Ce problème parait simple et stupide. Mais l'ordinateur connaît-il la notion d'adjectif ? C'est ici que le traitement du langage naturel intervient."
   ]
  },
  {
   "cell_type": "code",
   "execution_count": null,
   "metadata": {
    "slideshow": {
     "slide_type": "subslide"
    }
   },
   "outputs": [],
   "source": [
    "# un exemple\n",
    "mots = \"The black cat is sleeping on the sofa.\".split()\n",
    "nltk.pos_tag(mots)  # applique un tag à chaque mot"
   ]
  },
  {
   "cell_type": "markdown",
   "metadata": {
    "slideshow": {
     "slide_type": "-"
    }
   },
   "source": [
    "- DT - déterminant\n",
    "- JJ - adjectif\n",
    "- NN - nom\n",
    "- VBZ - verbe à la troisième personne du singulier\n",
    "- VBG - verbe au gérondif\n",
    "- IN - préposition"
   ]
  },
  {
   "cell_type": "code",
   "execution_count": null,
   "metadata": {
    "slideshow": {
     "slide_type": "subslide"
    }
   },
   "outputs": [],
   "source": [
    "# sur nos descriptions\n",
    "nltk.pos_tag(tokenized)"
   ]
  },
  {
   "cell_type": "markdown",
   "metadata": {
    "slideshow": {
     "slide_type": "subslide"
    }
   },
   "source": [
    "Note : l'utilisation d'un modèle de grammaire est spécifique à une langue donnée."
   ]
  },
  {
   "cell_type": "markdown",
   "metadata": {
    "slideshow": {
     "slide_type": "fragment"
    }
   },
   "source": [
    "nltk permet de réentraîner un modèle de grammaire à partir d'un jeu de données annoté. \n",
    "\n",
    "J'ai récupéré la version lite d'[un corpus d'un laboratoire de langue de l'Université Paris Diderot](http://ftb.linguist.univ-paris-diderot.fr/telecharger.php), que j'ai annoté pour intégrer les mots suivants : \n",
    "- Cet\n",
    "- gentil\n",
    "- employé\n",
    "- fait\n",
    "- ravages\n",
    "- monde\n",
    "- employé\n",
    "- nouvel\n",
    "- provenance\n",
    "- l'ancien\t\n",
    "- découvre\t\n",
    "- polyvalent\n"
   ]
  },
  {
   "cell_type": "code",
   "execution_count": null,
   "metadata": {
    "slideshow": {
     "slide_type": "subslide"
    }
   },
   "outputs": [],
   "source": [
    "# Le jeu de données est au format conll. nltk dispose d'un lecteur pour ce format de fichiers.\n",
    "\n",
    "from nltk.corpus import ConllCorpusReader\n",
    "colonnes_considerees = [\"ignore\", \"words\", \"ignore\", \"pos\", \"ignore\", \"ignore\", \"ignore\", \"ignore\", \"ignore\", \"ignore\"]\n",
    "un_corpus_francais = ConllCorpusReader(\"data/texte/\", \".*.conll\", colonnes_considerees)"
   ]
  },
  {
   "cell_type": "code",
   "execution_count": null,
   "metadata": {
    "slideshow": {
     "slide_type": "fragment"
    }
   },
   "outputs": [],
   "source": [
    "un_corpus_francais.tagged_sents()"
   ]
  },
  {
   "cell_type": "code",
   "execution_count": null,
   "metadata": {
    "slideshow": {
     "slide_type": "subslide"
    }
   },
   "outputs": [],
   "source": [
    "# Entraînement du modèle de grammaire\n",
    "tagger = nltk.UnigramTagger(un_corpus_francais.tagged_sents())  \n",
    "# UnigramTagger considère le tag le plus fréquent pour un mot donné"
   ]
  },
  {
   "cell_type": "code",
   "execution_count": null,
   "metadata": {
    "slideshow": {
     "slide_type": "fragment"
    }
   },
   "outputs": [],
   "source": [
    "tagged = set(tagger.tag(tokenized))\n",
    "tagged"
   ]
  },
  {
   "cell_type": "code",
   "execution_count": null,
   "metadata": {
    "slideshow": {
     "slide_type": "subslide"
    }
   },
   "outputs": [],
   "source": [
    "# récupération des adjectifs décrivant nos employés\n",
    "list(filter(lambda x: x[1]==\"A\", tagged))"
   ]
  },
  {
   "cell_type": "markdown",
   "metadata": {
    "slideshow": {
     "slide_type": "subslide"
    }
   },
   "source": [
    "#### classification de texte"
   ]
  },
  {
   "cell_type": "markdown",
   "metadata": {
    "slideshow": {
     "slide_type": "fragment"
    }
   },
   "source": [
    "> Nous aimerions bien créer un bot pour trier nos courriels selon si le contenu concerne les affaires de JLR ou plutôt celles de Jakarto."
   ]
  },
  {
   "cell_type": "markdown",
   "metadata": {
    "slideshow": {
     "slide_type": "subslide"
    }
   },
   "source": [
    "Pour cela, nous allons entraîner un classifieur à partir de mots clés associés à ces entreprises."
   ]
  },
  {
   "cell_type": "code",
   "execution_count": null,
   "metadata": {
    "slideshow": {
     "slide_type": "fragment"
    }
   },
   "outputs": [],
   "source": [
    "jlr_mots_cles = pd.read_csv(\"data/texte/JLR_mots_cles.txt\", header=None, encoding=\"utf8\")\n",
    "jakarto_mots_cles = pd.read_csv(\"data/texte/Jakarto_mots_cles.txt\", header=None, encoding=\"utf8\")"
   ]
  },
  {
   "cell_type": "code",
   "execution_count": null,
   "metadata": {
    "slideshow": {
     "slide_type": "fragment"
    }
   },
   "outputs": [],
   "source": [
    "jakarto_mots_cles"
   ]
  },
  {
   "cell_type": "code",
   "execution_count": null,
   "metadata": {
    "slideshow": {
     "slide_type": "subslide"
    }
   },
   "outputs": [],
   "source": [
    "# On construit une table d'association\n",
    "labeled_names = []\n",
    "\n",
    "for mot in jakarto_mots_cles.itertuples():\n",
    "    labeled_names.append((mot[1], \"Jakarto\"))\n",
    "    \n",
    "for mot in jlr_mots_cles.itertuples():\n",
    "    labeled_names.append((mot[1], \"JLR\"))"
   ]
  },
  {
   "cell_type": "code",
   "execution_count": null,
   "metadata": {
    "scrolled": true,
    "slideshow": {
     "slide_type": "fragment"
    }
   },
   "outputs": [],
   "source": [
    "labeled_names"
   ]
  },
  {
   "cell_type": "code",
   "execution_count": null,
   "metadata": {
    "slideshow": {
     "slide_type": "subslide"
    }
   },
   "outputs": [],
   "source": [
    "import random\n",
    "\n",
    "random.seed(2024)  # pour la reproductibilité"
   ]
  },
  {
   "cell_type": "code",
   "execution_count": null,
   "metadata": {
    "scrolled": true,
    "slideshow": {
     "slide_type": "fragment"
    }
   },
   "outputs": [],
   "source": [
    "random.shuffle(labeled_names)  # mélange la liste\n",
    "labeled_names"
   ]
  },
  {
   "cell_type": "markdown",
   "metadata": {
    "slideshow": {
     "slide_type": "subslide"
    }
   },
   "source": [
    "Le classifieur utilise l'apprentissage machine (machine learning). Il doit donc apprendre sur des caractéristiques définies."
   ]
  },
  {
   "cell_type": "code",
   "execution_count": null,
   "metadata": {
    "slideshow": {
     "slide_type": "fragment"
    }
   },
   "outputs": [],
   "source": [
    "# Considérons comme caractéristique la dernière lettre des mots\n",
    "def naive_features(word):\n",
    "    return {\"last_letter\": word[-1]}"
   ]
  },
  {
   "cell_type": "code",
   "execution_count": null,
   "metadata": {
    "slideshow": {
     "slide_type": "fragment"
    }
   },
   "outputs": [],
   "source": [
    "# construisons notre jeu de caractéristiques\n",
    "featuresets = [(naive_features(n), categorie) for (n, categorie) in labeled_names]"
   ]
  },
  {
   "cell_type": "code",
   "execution_count": null,
   "metadata": {
    "slideshow": {
     "slide_type": "fragment"
    }
   },
   "outputs": [],
   "source": [
    "featuresets[:5]"
   ]
  },
  {
   "cell_type": "code",
   "execution_count": null,
   "metadata": {
    "slideshow": {
     "slide_type": "subslide"
    }
   },
   "outputs": [],
   "source": [
    "# divisons le jeu de caractéristiques en deux jeux: \n",
    "# un d'entraînement, et un de test (pour valider la pertinence de l'apprentissage)\n",
    "ratio = 0.7\n",
    "index_ratio = round(ratio * len(labeled_names))\n",
    "train_set, test_set = featuresets[:index_ratio], featuresets[index_ratio:]"
   ]
  },
  {
   "cell_type": "code",
   "execution_count": null,
   "metadata": {
    "scrolled": true,
    "slideshow": {
     "slide_type": "subslide"
    }
   },
   "outputs": [],
   "source": [
    "train_set"
   ]
  },
  {
   "cell_type": "code",
   "execution_count": null,
   "metadata": {
    "scrolled": true,
    "slideshow": {
     "slide_type": "fragment"
    }
   },
   "outputs": [],
   "source": [
    "test_set"
   ]
  },
  {
   "cell_type": "code",
   "execution_count": null,
   "metadata": {
    "slideshow": {
     "slide_type": "subslide"
    }
   },
   "outputs": [],
   "source": [
    "classifier = nltk.NaiveBayesClassifier.train(train_set)  # entraînement du classifieur"
   ]
  },
  {
   "cell_type": "code",
   "execution_count": null,
   "metadata": {
    "slideshow": {
     "slide_type": "fragment"
    }
   },
   "outputs": [],
   "source": [
    "nltk.classify.accuracy(classifier, test_set)"
   ]
  },
  {
   "cell_type": "markdown",
   "metadata": {
    "slideshow": {
     "slide_type": "fragment"
    }
   },
   "source": [
    "Notre classifieur a un score de 87.5% bonnes classifications pour notre jeu test."
   ]
  },
  {
   "cell_type": "code",
   "execution_count": null,
   "metadata": {
    "slideshow": {
     "slide_type": "subslide"
    }
   },
   "outputs": [],
   "source": [
    "classifier.classify(naive_features(\"acquisition\"))"
   ]
  },
  {
   "cell_type": "code",
   "execution_count": null,
   "metadata": {
    "slideshow": {
     "slide_type": "fragment"
    }
   },
   "outputs": [],
   "source": [
    "classifier.classify(naive_features(\"precision\"))"
   ]
  },
  {
   "cell_type": "code",
   "execution_count": null,
   "metadata": {
    "slideshow": {
     "slide_type": "fragment"
    }
   },
   "outputs": [],
   "source": [
    "classifier.classify(naive_features(\"la plus vieille entreprise\"))"
   ]
  },
  {
   "cell_type": "code",
   "execution_count": null,
   "metadata": {
    "slideshow": {
     "slide_type": "fragment"
    }
   },
   "outputs": [],
   "source": [
    "classifier.classify(naive_features(\"la meilleure entreprise\"))"
   ]
  },
  {
   "cell_type": "code",
   "execution_count": null,
   "metadata": {
    "slideshow": {
     "slide_type": "fragment"
    }
   },
   "outputs": [],
   "source": [
    "classifier.classify(naive_features(\"celle qui a un super projet\"))"
   ]
  },
  {
   "cell_type": "markdown",
   "metadata": {
    "slideshow": {
     "slide_type": "fragment"
    }
   },
   "source": [
    "> On espérait trouver Jakarto ici ! Ré-entrainons notre classifieur avec des features plus réalistes !"
   ]
  },
  {
   "cell_type": "code",
   "execution_count": null,
   "metadata": {
    "slideshow": {
     "slide_type": "subslide"
    }
   },
   "outputs": [],
   "source": [
    "def features_avancees(name):\n",
    "    features = {}\n",
    "    features[\"first_letter\"] = name[0].lower()\n",
    "    features[\"last_letter\"] = name[-1].lower()\n",
    "    for letter in \"abcdefghijklmnopqrstuvwxyz\":\n",
    "        features[\"count({})\".format(letter)] = name.lower().count(letter)\n",
    "        features[\"has({})\".format(letter)] = (letter in name.lower())\n",
    "    return features"
   ]
  },
  {
   "cell_type": "code",
   "execution_count": null,
   "metadata": {
    "slideshow": {
     "slide_type": "fragment"
    }
   },
   "outputs": [],
   "source": [
    "featuresets_avance = [(features_avancees(n), categorie) for (n, categorie) in labeled_names]"
   ]
  },
  {
   "cell_type": "code",
   "execution_count": null,
   "metadata": {
    "slideshow": {
     "slide_type": "fragment"
    }
   },
   "outputs": [],
   "source": [
    "ratio = 0.7\n",
    "index_ratio = round(ratio * len(labeled_names))\n",
    "train_set_avance, test_set_avance = featuresets_avance[:index_ratio], featuresets_avance[index_ratio:]"
   ]
  },
  {
   "cell_type": "code",
   "execution_count": null,
   "metadata": {
    "slideshow": {
     "slide_type": "fragment"
    }
   },
   "outputs": [],
   "source": [
    "classifier_avance = nltk.NaiveBayesClassifier.train(train_set_avance)"
   ]
  },
  {
   "cell_type": "code",
   "execution_count": null,
   "metadata": {
    "slideshow": {
     "slide_type": "subslide"
    }
   },
   "outputs": [],
   "source": [
    "classifier_avance.classify(features_avancees(\"precision\"))"
   ]
  },
  {
   "cell_type": "code",
   "execution_count": null,
   "metadata": {
    "slideshow": {
     "slide_type": "fragment"
    }
   },
   "outputs": [],
   "source": [
    "classifier_avance.classify(features_avancees(\"forts\"))"
   ]
  },
  {
   "cell_type": "code",
   "execution_count": null,
   "metadata": {
    "slideshow": {
     "slide_type": "fragment"
    }
   },
   "outputs": [],
   "source": [
    "classifier_avance.classify(features_avancees(\"la plus vieille entreprise\"))"
   ]
  },
  {
   "cell_type": "code",
   "execution_count": null,
   "metadata": {
    "slideshow": {
     "slide_type": "fragment"
    }
   },
   "outputs": [],
   "source": [
    "classifier_avance.classify(features_avancees(\"la meilleure entreprise\"))"
   ]
  },
  {
   "cell_type": "code",
   "execution_count": null,
   "metadata": {
    "slideshow": {
     "slide_type": "fragment"
    }
   },
   "outputs": [],
   "source": [
    "classifier_avance.classify(features_avancees(\"celle qui a un super projet\"))"
   ]
  },
  {
   "cell_type": "code",
   "execution_count": null,
   "metadata": {
    "slideshow": {
     "slide_type": "fragment"
    }
   },
   "outputs": [],
   "source": [
    "classifier_avance.classify(features_avancees(\"les plus beaux\"))"
   ]
  },
  {
   "cell_type": "code",
   "execution_count": null,
   "metadata": {
    "slideshow": {
     "slide_type": "fragment"
    }
   },
   "outputs": [],
   "source": [
    "classifier_avance.classify(features_avancees(\"les meilleurs\"))"
   ]
  },
  {
   "cell_type": "code",
   "execution_count": null,
   "metadata": {
    "slideshow": {
     "slide_type": "subslide"
    }
   },
   "outputs": [],
   "source": [
    "classifier_avance.classify(features_avancees(\"cédric\"))"
   ]
  },
  {
   "cell_type": "code",
   "execution_count": null,
   "metadata": {
    "slideshow": {
     "slide_type": "fragment"
    }
   },
   "outputs": [],
   "source": [
    "classifier_avance.classify(features_avancees(\"thierry\"))"
   ]
  },
  {
   "cell_type": "code",
   "execution_count": null,
   "metadata": {
    "slideshow": {
     "slide_type": "fragment"
    }
   },
   "outputs": [],
   "source": [
    "classifier_avance.classify(features_avancees(\"loic\"))"
   ]
  },
  {
   "cell_type": "code",
   "execution_count": null,
   "metadata": {
    "slideshow": {
     "slide_type": "fragment"
    }
   },
   "outputs": [],
   "source": [
    "classifier_avance.classify(features_avancees(\"sandro\"))"
   ]
  },
  {
   "cell_type": "code",
   "execution_count": null,
   "metadata": {
    "slideshow": {
     "slide_type": "fragment"
    }
   },
   "outputs": [],
   "source": [
    "classifier_avance.classify(features_avancees(\"félix\"))"
   ]
  },
  {
   "cell_type": "code",
   "execution_count": null,
   "metadata": {
    "slideshow": {
     "slide_type": "fragment"
    }
   },
   "outputs": [],
   "source": [
    "classifier_avance.classify(features_avancees(\"joanie\"))"
   ]
  },
  {
   "cell_type": "code",
   "execution_count": null,
   "metadata": {
    "slideshow": {
     "slide_type": "fragment"
    }
   },
   "outputs": [],
   "source": [
    "classifier_avance.classify(features_avancees(\"laurence\"))"
   ]
  },
  {
   "cell_type": "code",
   "execution_count": null,
   "metadata": {
    "slideshow": {
     "slide_type": "fragment"
    }
   },
   "outputs": [],
   "source": [
    "classifier_avance.classify(features_avancees(\"charles\"))"
   ]
  },
  {
   "cell_type": "markdown",
   "metadata": {
    "slideshow": {
     "slide_type": "fragment"
    }
   },
   "source": [
    "> Est-ce un signe du destin? "
   ]
  },
  {
   "cell_type": "markdown",
   "metadata": {
    "slideshow": {
     "slide_type": "-"
    }
   },
   "source": [
    "[Plus de détails sur nltk ici](https://www.nltk.org/)"
   ]
  },
  {
   "cell_type": "markdown",
   "metadata": {
    "slideshow": {
     "slide_type": "slide"
    }
   },
   "source": [
    "[Prochain chapitre : Des outils pour devenir actif](/notebooks/11_Des_outils.ipynb)"
   ]
  }
 ],
 "metadata": {
  "celltoolbar": "Slideshow",
  "kernelspec": {
   "display_name": "Python 3",
   "language": "python",
   "name": "python3"
  },
  "language_info": {
   "codemirror_mode": {
    "name": "ipython",
    "version": 3
   },
   "file_extension": ".py",
   "mimetype": "text/x-python",
   "name": "python",
   "nbconvert_exporter": "python",
   "pygments_lexer": "ipython3",
   "version": "3.6.4"
  }
 },
 "nbformat": 4,
 "nbformat_minor": 2
}
