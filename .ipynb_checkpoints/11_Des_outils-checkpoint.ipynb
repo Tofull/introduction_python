{
 "cells": [
  {
   "cell_type": "markdown",
   "metadata": {
    "slideshow": {
     "slide_type": "slide"
    }
   },
   "source": [
    "# Introduction à Python"
   ]
  },
  {
   "cell_type": "markdown",
   "metadata": {},
   "source": [
    "> Présenté par Loïc Messal"
   ]
  },
  {
   "cell_type": "markdown",
   "metadata": {},
   "source": [
    "## Des outils pour devenir actif"
   ]
  },
  {
   "cell_type": "markdown",
   "metadata": {
    "slideshow": {
     "slide_type": "slide"
    }
   },
   "source": [
    "### Les interpréteurs"
   ]
  },
  {
   "cell_type": "markdown",
   "metadata": {
    "slideshow": {
     "slide_type": "fragment"
    }
   },
   "source": [
    "Python est un langage interprété. Il est essentiel d'installer un interpréteur pour que la machine sache quoi faire d'un programme écrit en Python."
   ]
  },
  {
   "cell_type": "markdown",
   "metadata": {
    "slideshow": {
     "slide_type": "subslide"
    }
   },
   "source": [
    "### python"
   ]
  },
  {
   "cell_type": "markdown",
   "metadata": {
    "slideshow": {
     "slide_type": "fragment"
    }
   },
   "source": [
    "Il s'agit de l'interpréteur de base. On l'installe facilement depuis le site de python."
   ]
  },
  {
   "cell_type": "markdown",
   "metadata": {
    "slideshow": {
     "slide_type": "subslide"
    }
   },
   "source": [
    "### ipython"
   ]
  },
  {
   "cell_type": "markdown",
   "metadata": {
    "slideshow": {
     "slide_type": "fragment"
    }
   },
   "source": [
    "Il s'agit d'un interpréteur intéractif avancé. Il dispose de quelques fonctionnalités supplémentaire à son homologue de base, notamment : \n",
    "- une introspection dynamique des objets\n",
    "- un modèle de communication découplé, permettant à plusieurs clients de se connecter à un noyau de calcul (ouvre la porte aux applications basées sur le web comme cette introduction)\n",
    "- une architecture pour le calcul parallèle intéractif."
   ]
  },
  {
   "cell_type": "markdown",
   "metadata": {
    "slideshow": {
     "slide_type": "slide"
    }
   },
   "source": [
    "### Les éditeurs de code Python"
   ]
  },
  {
   "cell_type": "markdown",
   "metadata": {
    "slideshow": {
     "slide_type": "fragment"
    }
   },
   "source": [
    "Il n'est pas toujours très pratique d'écrire du code Python dans un interpréteur, même s'il est intéractif.\n",
    "\n",
    "N'importe quel éditeur de texte peut éditer du code python. On évitera cependant ceux conçus pour la bureautique (qui rajoutent des espaces automatiquement pour respecter les règles de typographie). On utilisera souvent des éditeurs comme Atom, Visual Studio Code, Sublime Text, vim ou d'autres. \n",
    "\n",
    "Il est également possible d'utiliser un environnement de développement intégré."
   ]
  },
  {
   "cell_type": "markdown",
   "metadata": {
    "slideshow": {
     "slide_type": "subslide"
    }
   },
   "source": [
    "### Les environnements de développement intégré"
   ]
  },
  {
   "cell_type": "markdown",
   "metadata": {
    "slideshow": {
     "slide_type": "fragment"
    }
   },
   "source": [
    "Il s'agit d'un ensemble d'outils pour augmenter la productivité des programmeurs. L'environnement de développement intégré (IDE) par défaut est IDLE. Il est souvent installé avec Python. Il en existent bien d'autres comme IntelliJ ou Eclipse. Des extensions pour les éditeurs de code existent et les transforment progressivement en IDE."
   ]
  },
  {
   "cell_type": "markdown",
   "metadata": {
    "slideshow": {
     "slide_type": "slide"
    }
   },
   "source": [
    "### Reproduire les environnements"
   ]
  },
  {
   "cell_type": "markdown",
   "metadata": {
    "slideshow": {
     "slide_type": "fragment"
    }
   },
   "source": [
    "Bien qu'un programme écrit en python est facilement lu par n'importe quelle machine (c'est le rôle de l'interpréteur), il peut être intéressant de reproduire son environnement.\n",
    "\n",
    "Par exemple, si des employés de JLR décident de contribuer au projet de Jakarto. Ils ont écrit un super programme qui fonctionne sur leur machine (avec des tests, une interface et tout). S'ils reversent uniquement le code à Jakarto, et que les employés de Jakarto lancent directement l'application python sur leur serveur, cette application risque de ne pas démarrer car des modules sont manquants ou leurs versions sont différentes."
   ]
  },
  {
   "cell_type": "markdown",
   "metadata": {
    "slideshow": {
     "slide_type": "subslide"
    }
   },
   "source": [
    "#### Les bonnes pratiques"
   ]
  },
  {
   "cell_type": "markdown",
   "metadata": {
    "slideshow": {
     "slide_type": "fragment"
    }
   },
   "source": [
    "De manière générale, on maintiendra à jour la liste des modules communautaires dont dépend notre application dans un fichier `requirements.txt` de sorte à pouvoir lancer la commande `pip install -r requirements.txt` pour installer chacun de ces packages avant d'utiliser l'application."
   ]
  },
  {
   "cell_type": "markdown",
   "metadata": {
    "slideshow": {
     "slide_type": "fragment"
    }
   },
   "source": [
    "Il se peut qu'entre le moment où les employés de JLR terminent leur projet et le moment où ceux de Jakarto installent les requirements, la version de certains modules communautaires ait changé, et le code ne fonctionne plus.\n",
    "Supposons qu'ils n'aient pas le temps de mettre à jour le code avec cette nouvelle version du module. Ils aimeraient installer une version antérieure du module en question. Pip est capable d'installer une version spécifique d'un module avec : `pip install un_module==1.0.4`. Cependant, Jakarto a d'autres programmes qui eux fonctionnent avec la dernière version de ce fameux module. Comment faire ?"
   ]
  },
  {
   "cell_type": "markdown",
   "metadata": {
    "slideshow": {
     "slide_type": "subslide"
    }
   },
   "source": [
    "#### les machines virtuelles (la méthode brutale et ancestrale)"
   ]
  },
  {
   "cell_type": "markdown",
   "metadata": {
    "slideshow": {
     "slide_type": "fragment"
    }
   },
   "source": [
    "On simule un nouvel système d'exploitation dans une portion de son système actuel, sur lequel on installe les bonnes versions des packages. C'est moche, c'est couteux, ça ne s'appelle pas de la gestion et c'est dépassé comme méthode, mais bon, ça marche. Ne faites pas ça. "
   ]
  },
  {
   "cell_type": "markdown",
   "metadata": {
    "slideshow": {
     "slide_type": "subslide"
    }
   },
   "source": [
    "#### virtualenv"
   ]
  },
  {
   "cell_type": "markdown",
   "metadata": {
    "slideshow": {
     "slide_type": "fragment"
    }
   },
   "source": [
    "Une solution est d'isoler les environnements. Virtualenv permet de se placer dans un environnement virtuel. Derrière ce côté virtuel, c'est surtout une redirection des chemins d'installation des modules communautaires qui s'y cache."
   ]
  },
  {
   "cell_type": "markdown",
   "metadata": {
    "slideshow": {
     "slide_type": "subslide"
    }
   },
   "source": [
    "#### conda"
   ]
  },
  {
   "cell_type": "markdown",
   "metadata": {
    "slideshow": {
     "slide_type": "fragment"
    }
   },
   "source": [
    "Conda est un système de gestion de module et d'environnement. Il se décline sous diverse forme comme *anaconda*, *miniconda* ou *anaconda enterprise*. Il rend la virtualisation de l'environnement partageable !"
   ]
  },
  {
   "cell_type": "markdown",
   "metadata": {
    "slideshow": {
     "slide_type": "fragment"
    }
   },
   "source": [
    "`conda install -c anaconda numpy` et hop, vous avez un environnement comprenant le module numpy (téléchargé depuis la configuration d'anaconda)."
   ]
  },
  {
   "cell_type": "markdown",
   "metadata": {
    "slideshow": {
     "slide_type": "subslide"
    }
   },
   "source": [
    "### docker"
   ]
  },
  {
   "cell_type": "markdown",
   "metadata": {
    "slideshow": {
     "slide_type": "fragment"
    }
   },
   "source": [
    "Docker est une plateforme pour isoler son environnement. Là où conda s'arrête à l'isolement de l'environnement python, docker comprend toute la couche applicative du système. \n",
    "\n",
    "Un simple `docker run -it python` et vous avez l'interpréteur python sans l'avoir installé sur votre système.  \n",
    "\n",
    "Supposons que notre module communautaire indispensable pour notre application ne fonctionne que sur ubuntu 16.04. Mais le serveur de Jakarto tourne sur ubuntu 18.04. Il suffit de créer une image docker basée sur ubuntu 16.04, y installer l'interpréteur python et lancer notre conda / virtualenv / requirements.txt et le tout est en place."
   ]
  },
  {
   "cell_type": "markdown",
   "metadata": {
    "slideshow": {
     "slide_type": "slide"
    }
   },
   "source": [
    "À vous de jouer ! :)"
   ]
  }
 ],
 "metadata": {
  "celltoolbar": "Slideshow",
  "kernelspec": {
   "display_name": "Python 3",
   "language": "python",
   "name": "python3"
  },
  "language_info": {
   "codemirror_mode": {
    "name": "ipython",
    "version": 3
   },
   "file_extension": ".py",
   "mimetype": "text/x-python",
   "name": "python",
   "nbconvert_exporter": "python",
   "pygments_lexer": "ipython3",
   "version": "3.6.4"
  }
 },
 "nbformat": 4,
 "nbformat_minor": 2
}
