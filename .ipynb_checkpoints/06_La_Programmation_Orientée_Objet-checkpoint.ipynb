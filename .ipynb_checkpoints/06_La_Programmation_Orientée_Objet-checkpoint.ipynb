{
 "cells": [
  {
   "cell_type": "markdown",
   "metadata": {
    "slideshow": {
     "slide_type": "slide"
    }
   },
   "source": [
    "# Introduction à Python"
   ]
  },
  {
   "cell_type": "markdown",
   "metadata": {
    "slideshow": {
     "slide_type": "-"
    }
   },
   "source": [
    "> présentée par Loïc Messal"
   ]
  },
  {
   "cell_type": "markdown",
   "metadata": {
    "slideshow": {
     "slide_type": "-"
    }
   },
   "source": [
    "## La programmation orientée objet"
   ]
  },
  {
   "cell_type": "code",
   "execution_count": null,
   "metadata": {
    "slideshow": {
     "slide_type": "slide"
    }
   },
   "outputs": [],
   "source": [
    "un_iterable_complexe = []\n",
    "un_iterable_complexe.append({\"nom\": \"Messal\", \"prénom\": \"Loïc\", \"employeur\": \"Jakarto\", \"age\": 23})\n",
    "un_iterable_complexe.append({\"nom\": \"Lassem\", \"prénom\": \"Ciol\", \"employeur\": \"Otrakaj\", \"age\": 17})\n",
    "un_iterable_complexe.append({\"nom\": \"Alssem\", \"prénom\": \"Icol\", \"employeur\": \"Torakaj\", \"age\": 20})\n",
    "un_iterable_complexe.append({\"nom\": \"Inex\", \"prénom\": \"Istant\", \"employeur\": \"Karotaj\", \"age\": 20})\n",
    "un_iterable_complexe"
   ]
  },
  {
   "cell_type": "markdown",
   "metadata": {
    "slideshow": {
     "slide_type": "subslide"
    }
   },
   "source": [
    "Les éléments ajoutés se ressemblent et nous avons bien envie de les définir en tant que Personne mais ce concept n'existe pas nativement en Python. Créons le!"
   ]
  },
  {
   "cell_type": "code",
   "execution_count": null,
   "metadata": {
    "slideshow": {
     "slide_type": "slide"
    }
   },
   "outputs": [],
   "source": [
    "class Personne(object):  # Une classe Personne qui hérite d'un objet natif de python : object\n",
    "    def __init__(self, *args, **kwargs):  # self est une convention pour représenter l'objet au sein de sa classe\n",
    "        pass"
   ]
  },
  {
   "cell_type": "code",
   "execution_count": null,
   "metadata": {
    "slideshow": {
     "slide_type": "fragment"
    }
   },
   "outputs": [],
   "source": [
    "une_personne = Personne()  # Personne() fait nativement un appel à Personne.__init__()\n",
    "une_personne"
   ]
  },
  {
   "cell_type": "markdown",
   "metadata": {
    "slideshow": {
     "slide_type": "fragment"
    }
   },
   "source": [
    "Note : `<__main__.Personne at 0x.......>` affiche le type de l'objet et un identifiant propre à cette instance durant son cycle de vie.\n",
    "\n",
    "Note 2 : **En Python, tout (ou presque) est objet.**"
   ]
  },
  {
   "cell_type": "code",
   "execution_count": null,
   "metadata": {
    "slideshow": {
     "slide_type": "subslide"
    }
   },
   "outputs": [],
   "source": [
    "class Personne(object):\n",
    "    def __init__(self, nom=None, prenom=None):\n",
    "        self.nom = nom\n",
    "        self.prenom = prenom"
   ]
  },
  {
   "cell_type": "code",
   "execution_count": null,
   "metadata": {
    "slideshow": {
     "slide_type": "fragment"
    }
   },
   "outputs": [],
   "source": [
    "loic = Personne(nom=\"Messal\", prenom=\"Loïc\")\n",
    "type(loic)  # affiche le type de la variable loic. Ce n'est ni un bool, un int ou autre. C'est une instance de Personne."
   ]
  },
  {
   "cell_type": "code",
   "execution_count": null,
   "metadata": {
    "slideshow": {
     "slide_type": "fragment"
    }
   },
   "outputs": [],
   "source": [
    "loic.prenom"
   ]
  },
  {
   "cell_type": "code",
   "execution_count": null,
   "metadata": {
    "slideshow": {
     "slide_type": "fragment"
    }
   },
   "outputs": [],
   "source": [
    "loic.nom"
   ]
  },
  {
   "cell_type": "markdown",
   "metadata": {
    "slideshow": {
     "slide_type": "slide"
    }
   },
   "source": [
    "Est-ce que l'age est véritablement un attribut de l'objet ? Pas sûr, en revance, l'année de naissance en est un. L'age peut se calculer facilement à partir de l'année de naissance."
   ]
  },
  {
   "cell_type": "code",
   "execution_count": null,
   "metadata": {
    "slideshow": {
     "slide_type": "subslide"
    }
   },
   "outputs": [],
   "source": [
    "class Personne(object):\n",
    "    \n",
    "    annee_actuelle = 2018  # variable de classe, partagée par toutes les instances de Personne\n",
    "    # En pratique, on récupèrera l'année actuelle autrement.\n",
    "        \n",
    "    def __init__(self, nom=None, prenom=None, annee_de_naissance=2000):\n",
    "        self.nom = nom\n",
    "        self.prenom = prenom\n",
    "        self.annee_de_naissance = annee_de_naissance\n",
    "        \n",
    "    def age(self):\n",
    "        # une version simplifiée pour calculer l'age\n",
    "        return self.annee_actuelle - self.annee_de_naissance"
   ]
  },
  {
   "cell_type": "code",
   "execution_count": null,
   "metadata": {
    "slideshow": {
     "slide_type": "fragment"
    }
   },
   "outputs": [],
   "source": [
    "loic = Personne(nom=\"Messal\", prenom=\"Loïc\", annee_de_naissance=1994)\n",
    "loic.annee_de_naissance"
   ]
  },
  {
   "cell_type": "code",
   "execution_count": null,
   "metadata": {
    "slideshow": {
     "slide_type": "fragment"
    }
   },
   "outputs": [],
   "source": [
    "loic.age()"
   ]
  },
  {
   "cell_type": "markdown",
   "metadata": {
    "slideshow": {
     "slide_type": "slide"
    }
   },
   "source": [
    "Une personne possédant un employeur est un employé. C'est finalement une extension du concept de Personne. On dit qu'un Employe hérite de Personne"
   ]
  },
  {
   "cell_type": "code",
   "execution_count": null,
   "metadata": {
    "slideshow": {
     "slide_type": "subslide"
    }
   },
   "outputs": [],
   "source": [
    "class Employe(Personne):\n",
    "    def __init__(self, employeur=None, **kwargs):\n",
    "        super().__init__(**kwargs)\n",
    "        self.employeur = employeur"
   ]
  },
  {
   "cell_type": "code",
   "execution_count": null,
   "metadata": {
    "slideshow": {
     "slide_type": "subslide"
    }
   },
   "outputs": [],
   "source": [
    "loic = Employe(nom=\"Messal\", prenom=\"Loïc\", annee_de_naissance=1994, employeur=\"Jakarto\")"
   ]
  },
  {
   "cell_type": "code",
   "execution_count": null,
   "metadata": {
    "slideshow": {
     "slide_type": "fragment"
    }
   },
   "outputs": [],
   "source": [
    "loic.prenom"
   ]
  },
  {
   "cell_type": "code",
   "execution_count": null,
   "metadata": {
    "slideshow": {
     "slide_type": "fragment"
    }
   },
   "outputs": [],
   "source": [
    "loic.nom"
   ]
  },
  {
   "cell_type": "code",
   "execution_count": null,
   "metadata": {
    "slideshow": {
     "slide_type": "fragment"
    }
   },
   "outputs": [],
   "source": [
    "loic.age()"
   ]
  },
  {
   "cell_type": "code",
   "execution_count": null,
   "metadata": {
    "slideshow": {
     "slide_type": "fragment"
    }
   },
   "outputs": [],
   "source": [
    "loic.employeur"
   ]
  },
  {
   "cell_type": "code",
   "execution_count": null,
   "metadata": {
    "slideshow": {
     "slide_type": "subslide"
    }
   },
   "outputs": [],
   "source": [
    "print(loic)  # print() affiche des chaines de caractères dans la console. \n",
    "# Implicitement, il effectue str(loic). Mais que signifie str(loic) pour notre objet ?"
   ]
  },
  {
   "cell_type": "markdown",
   "metadata": {
    "slideshow": {
     "slide_type": "fragment"
    }
   },
   "source": [
    "Par défaut, toutes nos classes héritent de l'objet `object` défini par le langage Python. La fonction `str()` appelle la méthode `__str__()` d'un objet. \n",
    "\n",
    "**Note : ** En Python, tout (ou presque) est objet."
   ]
  },
  {
   "cell_type": "code",
   "execution_count": null,
   "metadata": {
    "slideshow": {
     "slide_type": "subslide"
    }
   },
   "outputs": [],
   "source": [
    "class Personne(object):\n",
    "    \n",
    "    annee_actuelle = 2018  # variable de classe, partagée par toutes les instances de Personne\n",
    "    # En pratique, on récupèrera l'année actuelle autrement.\n",
    "    \n",
    "    def __init__(self, nom=None, prenom=None, annee_de_naissance=2000):\n",
    "        self.nom = nom\n",
    "        self.prenom = prenom\n",
    "        self.annee_de_naissance = annee_de_naissance\n",
    "        \n",
    "    def age(self):\n",
    "        # une version simplifiée pour calculer l'age\n",
    "        return self.annee_actuelle - self.annee_de_naissance\n",
    "    \n",
    "    def __str__(self):  # Surcharge de la fonction __str__() pour les instances de Personne\n",
    "        return \"{} {} est une Personne agée de {} ans.\".format(self.prenom, self.nom, self.age())"
   ]
  },
  {
   "cell_type": "code",
   "execution_count": null,
   "metadata": {
    "slideshow": {
     "slide_type": "fragment"
    }
   },
   "outputs": [],
   "source": [
    "une_personne = Personne(nom=\"Lassem\", prenom=\"Icol\", annee_de_naissance=1994)"
   ]
  },
  {
   "cell_type": "code",
   "execution_count": null,
   "metadata": {
    "slideshow": {
     "slide_type": "fragment"
    }
   },
   "outputs": [],
   "source": [
    "print(une_personne)"
   ]
  },
  {
   "cell_type": "code",
   "execution_count": null,
   "metadata": {
    "slideshow": {
     "slide_type": "subslide"
    }
   },
   "outputs": [],
   "source": [
    "class Employe(Personne):\n",
    "    def __init__(self, employeur=None, **kwargs):\n",
    "        super().__init__(**kwargs)\n",
    "        self.employeur = employeur\n",
    "    \n",
    "    def __str__(self):  # Surcharge de la fonction __str__() pour les instances d'Employe\n",
    "        return super().__str__() + \" C'est un employé de {}.\".format(self.employeur)"
   ]
  },
  {
   "cell_type": "code",
   "execution_count": null,
   "metadata": {
    "slideshow": {
     "slide_type": "fragment"
    }
   },
   "outputs": [],
   "source": [
    "une_personne = Personne(nom=\"Lassem\", prenom=\"Icol\", annee_de_naissance=1994)\n",
    "loic = Employe(nom=\"Messal\", prenom=\"Loïc\", annee_de_naissance=1994, employeur=\"Jakarto\")"
   ]
  },
  {
   "cell_type": "code",
   "execution_count": null,
   "metadata": {
    "slideshow": {
     "slide_type": "fragment"
    }
   },
   "outputs": [],
   "source": [
    "print(une_personne)\n",
    "print(loic)"
   ]
  },
  {
   "cell_type": "markdown",
   "metadata": {
    "slideshow": {
     "slide_type": "subslide"
    }
   },
   "source": [
    "Finalement :"
   ]
  },
  {
   "cell_type": "code",
   "execution_count": null,
   "metadata": {
    "slideshow": {
     "slide_type": "fragment"
    }
   },
   "outputs": [],
   "source": [
    "un_iterable_complexe = []\n",
    "un_iterable_complexe.append(Employe(nom=\"Messal\", prenom=\"Loïc\", employeur=\"Jakarto\", annee_de_naissance=1994))\n",
    "un_iterable_complexe.append(Employe(nom=\"Lassem\", prenom=\"Ciol\", employeur=\"Otrakaj\", annee_de_naissance=2001))\n",
    "un_iterable_complexe.append(Employe(nom=\"Alssem\", prenom=\"Icol\", employeur=\"Torakaj\", annee_de_naissance=1998))\n",
    "un_iterable_complexe.append(Employe(nom=\"Inex\", prenom=\"Istant\", employeur=\"Karotaj\", annee_de_naissance=1998))\n",
    "un_iterable_complexe"
   ]
  },
  {
   "cell_type": "markdown",
   "metadata": {
    "slideshow": {
     "slide_type": "subslide"
    }
   },
   "source": [
    "Lorsqu'on `print()` une liste, `str()` n'est pas la fonction appelée par défaut pour afficher la représentation des éléments.\n",
    "\n",
    "La représentation des objets est obtenue par la fonction `__repr__()`. Dans le cas où `__str__()` n'est pas définie, un appel de `__str__()` sera automatiquement redirigé vers la fonction `__repr__()`.\n",
    "\n",
    "Dans notre cas, `__str__()` est surchargée (nous l'avons redéfinie) mais `__repr__()` est toujours la méthode héritée de la classe initiale `object`. Ceci explique aussi pourquoi nous obtenions ce genre d'affichage lorsque nous avions affiché les instances un peu plus haut. En effet, `__str__()` n'était pas encore défini dans notre classe, donc la fonction `__str__()` de la classe `object` était appelée mais comme elle n'était pas définie, on appelait en réalité la fonction `__repr__()` héritée de la classe `object`."
   ]
  },
  {
   "cell_type": "code",
   "execution_count": null,
   "metadata": {
    "slideshow": {
     "slide_type": "subslide"
    }
   },
   "outputs": [],
   "source": [
    "class Personne(object):\n",
    "    \n",
    "    annee_actuelle = 2018  # variable de classe, partagée par toutes les instances de Personne\n",
    "    # En pratique, on récupèrera l'année actuelle autrement.\n",
    "    \n",
    "    def __init__(self, nom=None, prenom=None, annee_de_naissance=2000):\n",
    "        self.nom = nom\n",
    "        self.prenom = prenom\n",
    "        self.annee_de_naissance = annee_de_naissance\n",
    "        \n",
    "    def age(self):\n",
    "        # une version simplifiée pour calculer l'age\n",
    "        return self.annee_actuelle - self.annee_de_naissance\n",
    "    \n",
    "    def __repr__(self):\n",
    "        return str(self)\n",
    "    \n",
    "    def __str__(self):  # Surcharge de la fonction __str__() pour les instances de Personne\n",
    "        return \"{} {} est une Personne agée de {} ans.\".format(self.prenom, self.nom, self.age())"
   ]
  },
  {
   "cell_type": "code",
   "execution_count": null,
   "metadata": {
    "slideshow": {
     "slide_type": "subslide"
    }
   },
   "outputs": [],
   "source": [
    "class Employe(Personne):\n",
    "    def __init__(self, employeur=None, **kwargs):\n",
    "        super().__init__(**kwargs)\n",
    "        self.employeur = employeur\n",
    "        \n",
    "    def __repr__(self):\n",
    "        return str(self)\n",
    "    \n",
    "    def __str__(self):  # Surcharge de la fonction __str__() pour les instances d'Employe\n",
    "        return super().__str__() + \" C'est un employé de {}.\".format(self.employeur)"
   ]
  },
  {
   "cell_type": "code",
   "execution_count": null,
   "metadata": {
    "slideshow": {
     "slide_type": "subslide"
    }
   },
   "outputs": [],
   "source": [
    "un_iterable_complexe = []\n",
    "un_iterable_complexe.append(Employe(nom=\"Messal\", prenom=\"Loïc\", employeur=\"Jakarto\", annee_de_naissance=1994))\n",
    "un_iterable_complexe.append(Employe(nom=\"Lassem\", prenom=\"Ciol\", employeur=\"Otrakaj\", annee_de_naissance=2001))\n",
    "un_iterable_complexe.append(Employe(nom=\"Alssem\", prenom=\"Icol\", employeur=\"Torakaj\", annee_de_naissance=1998))\n",
    "un_iterable_complexe.append(Employe(nom=\"Inex\", prenom=\"Istant\", employeur=\"Karotaj\", annee_de_naissance=1998))\n",
    "un_iterable_complexe"
   ]
  },
  {
   "cell_type": "markdown",
   "metadata": {
    "slideshow": {
     "slide_type": "fragment"
    }
   },
   "source": [
    "Pour nous en servir par la suite, j'ai enregistré le code de nos classes dans le fichier individu.py lui-même dans un répertoire notre_premier_module."
   ]
  },
  {
   "cell_type": "markdown",
   "metadata": {
    "slideshow": {
     "slide_type": "slide"
    }
   },
   "source": [
    "### Réutilisons nos fonctions pratiques sur nos objets"
   ]
  },
  {
   "cell_type": "code",
   "execution_count": null,
   "metadata": {
    "slideshow": {
     "slide_type": "subslide"
    }
   },
   "outputs": [],
   "source": [
    "# solution élégante\n",
    "recupere_age = list(map(lambda x: x.age(), un_iterable_complexe))\n",
    "recupere_age"
   ]
  },
  {
   "cell_type": "code",
   "execution_count": null,
   "metadata": {
    "slideshow": {
     "slide_type": "subslide"
    }
   },
   "outputs": [],
   "source": [
    "# solution élégante\n",
    "adultes_responsables = list(filter(lambda x: x.age() > 19, un_iterable_complexe))\n",
    "adultes_responsables"
   ]
  },
  {
   "cell_type": "code",
   "execution_count": null,
   "metadata": {
    "slideshow": {
     "slide_type": "subslide"
    }
   },
   "outputs": [],
   "source": [
    "# solution élégante\n",
    "sorted(un_iterable_complexe, key=lambda x: x.age())"
   ]
  },
  {
   "cell_type": "code",
   "execution_count": null,
   "metadata": {
    "slideshow": {
     "slide_type": "subslide"
    }
   },
   "outputs": [],
   "source": [
    "# solution élégante\n",
    "sorted(un_iterable_complexe, key=lambda x: (x.age(), x.employeur))"
   ]
  },
  {
   "cell_type": "markdown",
   "metadata": {
    "slideshow": {
     "slide_type": "slide"
    }
   },
   "source": [
    "### Retour sur les variables de classe"
   ]
  },
  {
   "cell_type": "code",
   "execution_count": null,
   "metadata": {
    "slideshow": {
     "slide_type": "fragment"
    }
   },
   "outputs": [],
   "source": [
    "Personne.annee_actuelle = 2019  # Modification de la variable de classe, partagée par toutes les instances qui en hérite"
   ]
  },
  {
   "cell_type": "code",
   "execution_count": null,
   "metadata": {
    "slideshow": {
     "slide_type": "fragment"
    }
   },
   "outputs": [],
   "source": [
    "sorted(un_iterable_complexe, key=lambda x: (x.age(), x.employeur))"
   ]
  },
  {
   "cell_type": "markdown",
   "metadata": {
    "slideshow": {
     "slide_type": "slide"
    }
   },
   "source": [
    "## Un petit mot sur les classes"
   ]
  },
  {
   "cell_type": "markdown",
   "metadata": {
    "slideshow": {
     "slide_type": "fragment"
    }
   },
   "source": [
    "Les avantages de la programmation orientée objet sont multiples :\n",
    "- on est capable d'agir plus facilement sur des objets que sur des iterables complexes\n",
    "- on est capable d'appliquer un traitement spécifique à un type d'objet\n",
    "- on ajoute de la sémantique au code\n",
    "- lorsque le projet grandit, il devient plus facile de structurer les objets dans différents fichiers. On regroupe des classes dans des modules pour les réutiliser simplement.\n",
    "- on \"standardise\" l'organisation du code (un nouveau programmeur familier avec l'orienté objet saura se retrouver dans le code [aujourd'hui, vous êtes désormais autonomes pour rejoindre d'autres projets])\n"
   ]
  },
  {
   "cell_type": "markdown",
   "metadata": {
    "slideshow": {
     "slide_type": "skip"
    }
   },
   "source": [
    "[Plus de détails sur les classes ici](https://docs.python.org/3/tutorial/classes.html) "
   ]
  },
  {
   "cell_type": "markdown",
   "metadata": {
    "slideshow": {
     "slide_type": "slide"
    }
   },
   "source": [
    "[Prochain chapitre : Des snippets (manipuler des fichiers)](/notebooks/07_Snippets.ipynb)"
   ]
  }
 ],
 "metadata": {
  "celltoolbar": "Slideshow",
  "kernelspec": {
   "display_name": "Python 3",
   "language": "python",
   "name": "python3"
  },
  "language_info": {
   "codemirror_mode": {
    "name": "ipython",
    "version": 3
   },
   "file_extension": ".py",
   "mimetype": "text/x-python",
   "name": "python",
   "nbconvert_exporter": "python",
   "pygments_lexer": "ipython3",
   "version": "3.6.4"
  }
 },
 "nbformat": 4,
 "nbformat_minor": 2
}
