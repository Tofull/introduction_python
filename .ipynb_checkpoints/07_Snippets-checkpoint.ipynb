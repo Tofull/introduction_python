{
 "cells": [
  {
   "cell_type": "markdown",
   "metadata": {
    "slideshow": {
     "slide_type": "slide"
    }
   },
   "source": [
    "# Introduction à Python"
   ]
  },
  {
   "cell_type": "markdown",
   "metadata": {},
   "source": [
    "> présentée par Loïc Messal"
   ]
  },
  {
   "cell_type": "markdown",
   "metadata": {
    "slideshow": {
     "slide_type": "slide"
    }
   },
   "source": [
    "Ce n'est pas toujours très pratique d'enregistrer les données directement dans le code *(hard-coding)*. Il est souvent plus facile de lire les données depuis un fichier (comme un tableur au format csv)."
   ]
  },
  {
   "cell_type": "markdown",
   "metadata": {
    "slideshow": {
     "slide_type": "fragment"
    }
   },
   "source": [
    "Nous allons essayer d'écrire la liste des personnes avec lesquelles nous avons travaillé précédemment dans un fichier. Puis nous allons essayer de reconstruire l'information pour la manipuler avec python."
   ]
  },
  {
   "cell_type": "markdown",
   "metadata": {
    "slideshow": {
     "slide_type": "slide"
    }
   },
   "source": [
    "## Manipulation de fichiers"
   ]
  },
  {
   "cell_type": "markdown",
   "metadata": {
    "slideshow": {
     "slide_type": "fragment"
    }
   },
   "source": [
    "Python fournit nativement une fonction `open` pour manipuler les fichiers. Elle retourne un `file object` qui dispose de certaines méthodes spécifiques, un peu comme nos objets *Personne* avec leur méthode `age()`. La fonction `open()` prend le nom du fichier comme premier argument arbitraire, et un tas d'options dont la plus utile est le mode de lecture du fichier (qui va définir la façon dont python va pouvoir manipuler le fichier : *read*, *write*, *append*)"
   ]
  },
  {
   "cell_type": "markdown",
   "metadata": {
    "slideshow": {
     "slide_type": "skip"
    }
   },
   "source": [
    "Note : [voir la liste de toutes les fonctions natives de python](https://docs.python.org/3/library/functions.html)"
   ]
  },
  {
   "cell_type": "markdown",
   "metadata": {
    "slideshow": {
     "slide_type": "skip"
    }
   },
   "source": [
    "Note : [voir la documentation de la fonction `open()`](https://docs.python.org/3/library/functions.html#open)"
   ]
  },
  {
   "cell_type": "markdown",
   "metadata": {
    "slideshow": {
     "slide_type": "subslide"
    }
   },
   "source": [
    "### Ecriture dans un fichier"
   ]
  },
  {
   "cell_type": "code",
   "execution_count": null,
   "metadata": {
    "slideshow": {
     "slide_type": "fragment"
    }
   },
   "outputs": [],
   "source": [
    "# solution naive\n",
    "fichier = open(\"data/fichiers/nom_du_fichier.txt\", mode=\"w\")  # mode write\n",
    "fichier.write(\"La première ligne d'une longue histoire...\")  # là, on appelle la méthode write de l'object de type 'file object'\n",
    "fichier.close()  # on ferme le fichier"
   ]
  },
  {
   "cell_type": "markdown",
   "metadata": {
    "slideshow": {
     "slide_type": "fragment"
    }
   },
   "source": [
    "La fermeture du fichier est importante pour libérer immédiatement les ressources systèmes utilisées par celui-ci."
   ]
  },
  {
   "cell_type": "markdown",
   "metadata": {
    "slideshow": {
     "slide_type": "fragment"
    }
   },
   "source": [
    "Note : Si vous ne fermez pas explicitement un fichier, le *garbage collector* de Python (une stratégie de python qui s'occupe de la gestion de la mémoire) finit par détruire l'objet et fermer le fichier ouvert, mais le fichier peut rester ouvert pendant un certain temps. Le risque associé est que différentes implémentations de Python effectuent ce nettoyage à différents moments, ce qui signifie que votre programme peut ne plus marcher d'une version à l'autre..."
   ]
  },
  {
   "cell_type": "markdown",
   "metadata": {
    "slideshow": {
     "slide_type": "slide"
    }
   },
   "source": [
    "### Petite disgression et introduction à la notion de contexte"
   ]
  },
  {
   "cell_type": "markdown",
   "metadata": {
    "slideshow": {
     "slide_type": "fragment"
    }
   },
   "source": [
    "Comme c'est un peu pénible d'appeler des fonctions de manière répétitive (ou tout de moins celles auxquelles on ne pense pas toujours...), python a rajouté le mot clé natif `with` qui permet de gérer un contexte. `with` appelle la fonction `__enter__()` d'un objet quand on entre dans le contexte, et sa fonction `__exit__()` quand on en sort."
   ]
  },
  {
   "cell_type": "markdown",
   "metadata": {
    "slideshow": {
     "slide_type": "subslide"
    }
   },
   "source": [
    "On pourrait voir la fonction open comme un objet implémenté commme ci:\n",
    "```py\n",
    "class File(object):\n",
    "    # Une fausse implémentation de la classe File, juste pour comprendre\n",
    "\n",
    "    def __init__(self, filename, mode=\"r\"):\n",
    "        self.filename = filename\n",
    "        self.mode = mode\n",
    "\n",
    "    def __enter__(self):\n",
    "        self.open_file = open(self.filename, self.mode)\n",
    "        return self.open_file\n",
    "\n",
    "    def __exit__(self):\n",
    "        self.open_file.close()\n",
    "```"
   ]
  },
  {
   "cell_type": "markdown",
   "metadata": {
    "slideshow": {
     "slide_type": "subslide"
    }
   },
   "source": [
    "Bref, voici comment utiliser un contexte avec les fichiers"
   ]
  },
  {
   "cell_type": "code",
   "execution_count": null,
   "metadata": {
    "slideshow": {
     "slide_type": "fragment"
    }
   },
   "outputs": [],
   "source": [
    "# solution élégante\n",
    "with open(\"data/fichiers/nom_du_fichier.txt\", mode=\"w\") as fichier:\n",
    "    fichier.write(\"La première ligne d'une longue histoire...\")\n",
    "    \n",
    "# Une fois qu'on sort du contexte, le fichier est fermé. Note: la variable 'fichier' existe toujours"
   ]
  },
  {
   "cell_type": "code",
   "execution_count": null,
   "metadata": {
    "slideshow": {
     "slide_type": "fragment"
    }
   },
   "outputs": [],
   "source": [
    "with open(\"data/fichiers/nom_du_fichier.txt\", mode=\"w\") as fichier:\n",
    "    fichier.write(\"La première ligne d'une longue histoire...\")\n",
    "    print(\"Est-ce que le fichier est fermé dans le contexte ? {}\".format(fichier.closed))\n",
    "    \n",
    "print(\"Est-ce que le fichier est fermé en dehors du contexte ? {}\".format(fichier.closed))"
   ]
  },
  {
   "cell_type": "markdown",
   "metadata": {
    "slideshow": {
     "slide_type": "slide"
    }
   },
   "source": [
    "### Lecture d'un fichier"
   ]
  },
  {
   "cell_type": "code",
   "execution_count": null,
   "metadata": {
    "slideshow": {
     "slide_type": "fragment"
    }
   },
   "outputs": [],
   "source": [
    "# solution naive\n",
    "fichier = open(\"data/fichiers/nom_du_fichier.txt\", \"r\")\n",
    "contenu = fichier.read()\n",
    "fichier.close()\n",
    "\n",
    "contenu"
   ]
  },
  {
   "cell_type": "code",
   "execution_count": null,
   "metadata": {
    "slideshow": {
     "slide_type": "fragment"
    }
   },
   "outputs": [],
   "source": [
    "# solution élégante\n",
    "with open(\"data/fichiers/nom_du_fichier.txt\", \"r\") as fichier:\n",
    "    contenu = fichier.read()\n",
    "    \n",
    "print(contenu)"
   ]
  },
  {
   "cell_type": "markdown",
   "metadata": {
    "slideshow": {
     "slide_type": "slide"
    }
   },
   "source": [
    "## Les exceptions"
   ]
  },
  {
   "cell_type": "markdown",
   "metadata": {
    "slideshow": {
     "slide_type": "fragment"
    }
   },
   "source": [
    "> Qu'arrive-t-il si le fichier n'existe pas ?"
   ]
  },
  {
   "cell_type": "markdown",
   "metadata": {
    "slideshow": {
     "slide_type": "fragment"
    }
   },
   "source": [
    "Python génère une erreur. On les appelle des exceptions. Si vous n'en n'avez pas encore rencontré : \n",
    "- soit vous suivez un tutoriel qui vous cache la véritée d'une vie de développeur. \n",
    "- soit vous n'avez pas encore essayer de programmer par vous même.\n",
    "\n",
    "Note : nous avions rencontrée une exception à la fin du premier chapitre. Cette introduction à python est clairement bien faite!"
   ]
  },
  {
   "cell_type": "markdown",
   "metadata": {
    "slideshow": {
     "slide_type": "subslide"
    }
   },
   "source": [
    "> Comment faire en sorte pour que, dans le pire des cas (le fichier n'existe pas), on soit capable d'afficher la valeur de la variable `contenu` ?"
   ]
  },
  {
   "cell_type": "code",
   "execution_count": null,
   "metadata": {
    "slideshow": {
     "slide_type": "fragment"
    }
   },
   "outputs": [],
   "source": [
    "try:  # Exécute les déclarations suivantes.\n",
    "    with open(\"un_nom_de_fichier_qui_n_existe_pas.txt\", \"r\") as fichier:\n",
    "        contenu = fichier.read()\n",
    "except FileNotFoundError as error:  # Exécute les déclarations suivantes si une exception de type FileNotFoundError est soulevée.\n",
    "    contenu = None\n",
    "\n",
    "print(\"Contenu : {}\".format(contenu))"
   ]
  },
  {
   "cell_type": "markdown",
   "metadata": {
    "slideshow": {
     "slide_type": "slide"
    }
   },
   "source": [
    "[Prochain chapitre : Les snippets en pratique](/notebooks/08_Snippets_en_pratique.ipynb)"
   ]
  }
 ],
 "metadata": {
  "celltoolbar": "Slideshow",
  "kernelspec": {
   "display_name": "Python 3",
   "language": "python",
   "name": "python3"
  },
  "language_info": {
   "codemirror_mode": {
    "name": "ipython",
    "version": 3
   },
   "file_extension": ".py",
   "mimetype": "text/x-python",
   "name": "python",
   "nbconvert_exporter": "python",
   "pygments_lexer": "ipython3",
   "version": "3.6.4"
  }
 },
 "nbformat": 4,
 "nbformat_minor": 2
}
